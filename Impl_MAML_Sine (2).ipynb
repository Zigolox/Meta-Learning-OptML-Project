{
  "nbformat": 4,
  "nbformat_minor": 0,
  "metadata": {
    "colab": {
      "provenance": [],
      "gpuType": "T4"
    },
    "kernelspec": {
      "name": "python3",
      "display_name": "Python 3"
    },
    "language_info": {
      "name": "python"
    },
    "widgets": {
      "application/vnd.jupyter.widget-state+json": {
        "3922c913ae8a4c90b638b0533a181d44": {
          "model_module": "@jupyter-widgets/controls",
          "model_name": "HBoxModel",
          "model_module_version": "1.5.0",
          "state": {
            "_dom_classes": [],
            "_model_module": "@jupyter-widgets/controls",
            "_model_module_version": "1.5.0",
            "_model_name": "HBoxModel",
            "_view_count": null,
            "_view_module": "@jupyter-widgets/controls",
            "_view_module_version": "1.5.0",
            "_view_name": "HBoxView",
            "box_style": "",
            "children": [
              "IPY_MODEL_c14b270bedb14c028c6bbb1c5fe6fb4c",
              "IPY_MODEL_32a5f194d25a4d1192a22fa002906be2",
              "IPY_MODEL_ba4ba5283ed44a87adc9f673131e12bf"
            ],
            "layout": "IPY_MODEL_2faebe9db6f24ba9ad46408ac26f376a"
          }
        },
        "c14b270bedb14c028c6bbb1c5fe6fb4c": {
          "model_module": "@jupyter-widgets/controls",
          "model_name": "HTMLModel",
          "model_module_version": "1.5.0",
          "state": {
            "_dom_classes": [],
            "_model_module": "@jupyter-widgets/controls",
            "_model_module_version": "1.5.0",
            "_model_name": "HTMLModel",
            "_view_count": null,
            "_view_module": "@jupyter-widgets/controls",
            "_view_module_version": "1.5.0",
            "_view_name": "HTMLView",
            "description": "",
            "description_tooltip": null,
            "layout": "IPY_MODEL_fc11da2af9ae4cedac14936d449d27d2",
            "placeholder": "​",
            "style": "IPY_MODEL_4c23427b3b864d1681f703d70fc2e734",
            "value": "100%"
          }
        },
        "32a5f194d25a4d1192a22fa002906be2": {
          "model_module": "@jupyter-widgets/controls",
          "model_name": "FloatProgressModel",
          "model_module_version": "1.5.0",
          "state": {
            "_dom_classes": [],
            "_model_module": "@jupyter-widgets/controls",
            "_model_module_version": "1.5.0",
            "_model_name": "FloatProgressModel",
            "_view_count": null,
            "_view_module": "@jupyter-widgets/controls",
            "_view_module_version": "1.5.0",
            "_view_name": "ProgressView",
            "bar_style": "success",
            "description": "",
            "description_tooltip": null,
            "layout": "IPY_MODEL_c3ae877f39134212917fb6ac98e4b020",
            "max": 20000,
            "min": 0,
            "orientation": "horizontal",
            "style": "IPY_MODEL_0fed708df841482892f02fea42330ba9",
            "value": 20000
          }
        },
        "ba4ba5283ed44a87adc9f673131e12bf": {
          "model_module": "@jupyter-widgets/controls",
          "model_name": "HTMLModel",
          "model_module_version": "1.5.0",
          "state": {
            "_dom_classes": [],
            "_model_module": "@jupyter-widgets/controls",
            "_model_module_version": "1.5.0",
            "_model_name": "HTMLModel",
            "_view_count": null,
            "_view_module": "@jupyter-widgets/controls",
            "_view_module_version": "1.5.0",
            "_view_name": "HTMLView",
            "description": "",
            "description_tooltip": null,
            "layout": "IPY_MODEL_e4b4047ab9a341599e5bf9d050176b2c",
            "placeholder": "​",
            "style": "IPY_MODEL_2429d4a35ae84284b4ede4d6256dfc23",
            "value": " 20000/20000 [00:58&lt;00:00, 358.50it/s, loss=5.7]"
          }
        },
        "2faebe9db6f24ba9ad46408ac26f376a": {
          "model_module": "@jupyter-widgets/base",
          "model_name": "LayoutModel",
          "model_module_version": "1.2.0",
          "state": {
            "_model_module": "@jupyter-widgets/base",
            "_model_module_version": "1.2.0",
            "_model_name": "LayoutModel",
            "_view_count": null,
            "_view_module": "@jupyter-widgets/base",
            "_view_module_version": "1.2.0",
            "_view_name": "LayoutView",
            "align_content": null,
            "align_items": null,
            "align_self": null,
            "border": null,
            "bottom": null,
            "display": null,
            "flex": null,
            "flex_flow": null,
            "grid_area": null,
            "grid_auto_columns": null,
            "grid_auto_flow": null,
            "grid_auto_rows": null,
            "grid_column": null,
            "grid_gap": null,
            "grid_row": null,
            "grid_template_areas": null,
            "grid_template_columns": null,
            "grid_template_rows": null,
            "height": null,
            "justify_content": null,
            "justify_items": null,
            "left": null,
            "margin": null,
            "max_height": null,
            "max_width": null,
            "min_height": null,
            "min_width": null,
            "object_fit": null,
            "object_position": null,
            "order": null,
            "overflow": null,
            "overflow_x": null,
            "overflow_y": null,
            "padding": null,
            "right": null,
            "top": null,
            "visibility": null,
            "width": null
          }
        },
        "fc11da2af9ae4cedac14936d449d27d2": {
          "model_module": "@jupyter-widgets/base",
          "model_name": "LayoutModel",
          "model_module_version": "1.2.0",
          "state": {
            "_model_module": "@jupyter-widgets/base",
            "_model_module_version": "1.2.0",
            "_model_name": "LayoutModel",
            "_view_count": null,
            "_view_module": "@jupyter-widgets/base",
            "_view_module_version": "1.2.0",
            "_view_name": "LayoutView",
            "align_content": null,
            "align_items": null,
            "align_self": null,
            "border": null,
            "bottom": null,
            "display": null,
            "flex": null,
            "flex_flow": null,
            "grid_area": null,
            "grid_auto_columns": null,
            "grid_auto_flow": null,
            "grid_auto_rows": null,
            "grid_column": null,
            "grid_gap": null,
            "grid_row": null,
            "grid_template_areas": null,
            "grid_template_columns": null,
            "grid_template_rows": null,
            "height": null,
            "justify_content": null,
            "justify_items": null,
            "left": null,
            "margin": null,
            "max_height": null,
            "max_width": null,
            "min_height": null,
            "min_width": null,
            "object_fit": null,
            "object_position": null,
            "order": null,
            "overflow": null,
            "overflow_x": null,
            "overflow_y": null,
            "padding": null,
            "right": null,
            "top": null,
            "visibility": null,
            "width": null
          }
        },
        "4c23427b3b864d1681f703d70fc2e734": {
          "model_module": "@jupyter-widgets/controls",
          "model_name": "DescriptionStyleModel",
          "model_module_version": "1.5.0",
          "state": {
            "_model_module": "@jupyter-widgets/controls",
            "_model_module_version": "1.5.0",
            "_model_name": "DescriptionStyleModel",
            "_view_count": null,
            "_view_module": "@jupyter-widgets/base",
            "_view_module_version": "1.2.0",
            "_view_name": "StyleView",
            "description_width": ""
          }
        },
        "c3ae877f39134212917fb6ac98e4b020": {
          "model_module": "@jupyter-widgets/base",
          "model_name": "LayoutModel",
          "model_module_version": "1.2.0",
          "state": {
            "_model_module": "@jupyter-widgets/base",
            "_model_module_version": "1.2.0",
            "_model_name": "LayoutModel",
            "_view_count": null,
            "_view_module": "@jupyter-widgets/base",
            "_view_module_version": "1.2.0",
            "_view_name": "LayoutView",
            "align_content": null,
            "align_items": null,
            "align_self": null,
            "border": null,
            "bottom": null,
            "display": null,
            "flex": null,
            "flex_flow": null,
            "grid_area": null,
            "grid_auto_columns": null,
            "grid_auto_flow": null,
            "grid_auto_rows": null,
            "grid_column": null,
            "grid_gap": null,
            "grid_row": null,
            "grid_template_areas": null,
            "grid_template_columns": null,
            "grid_template_rows": null,
            "height": null,
            "justify_content": null,
            "justify_items": null,
            "left": null,
            "margin": null,
            "max_height": null,
            "max_width": null,
            "min_height": null,
            "min_width": null,
            "object_fit": null,
            "object_position": null,
            "order": null,
            "overflow": null,
            "overflow_x": null,
            "overflow_y": null,
            "padding": null,
            "right": null,
            "top": null,
            "visibility": null,
            "width": null
          }
        },
        "0fed708df841482892f02fea42330ba9": {
          "model_module": "@jupyter-widgets/controls",
          "model_name": "ProgressStyleModel",
          "model_module_version": "1.5.0",
          "state": {
            "_model_module": "@jupyter-widgets/controls",
            "_model_module_version": "1.5.0",
            "_model_name": "ProgressStyleModel",
            "_view_count": null,
            "_view_module": "@jupyter-widgets/base",
            "_view_module_version": "1.2.0",
            "_view_name": "StyleView",
            "bar_color": null,
            "description_width": ""
          }
        },
        "e4b4047ab9a341599e5bf9d050176b2c": {
          "model_module": "@jupyter-widgets/base",
          "model_name": "LayoutModel",
          "model_module_version": "1.2.0",
          "state": {
            "_model_module": "@jupyter-widgets/base",
            "_model_module_version": "1.2.0",
            "_model_name": "LayoutModel",
            "_view_count": null,
            "_view_module": "@jupyter-widgets/base",
            "_view_module_version": "1.2.0",
            "_view_name": "LayoutView",
            "align_content": null,
            "align_items": null,
            "align_self": null,
            "border": null,
            "bottom": null,
            "display": null,
            "flex": null,
            "flex_flow": null,
            "grid_area": null,
            "grid_auto_columns": null,
            "grid_auto_flow": null,
            "grid_auto_rows": null,
            "grid_column": null,
            "grid_gap": null,
            "grid_row": null,
            "grid_template_areas": null,
            "grid_template_columns": null,
            "grid_template_rows": null,
            "height": null,
            "justify_content": null,
            "justify_items": null,
            "left": null,
            "margin": null,
            "max_height": null,
            "max_width": null,
            "min_height": null,
            "min_width": null,
            "object_fit": null,
            "object_position": null,
            "order": null,
            "overflow": null,
            "overflow_x": null,
            "overflow_y": null,
            "padding": null,
            "right": null,
            "top": null,
            "visibility": null,
            "width": null
          }
        },
        "2429d4a35ae84284b4ede4d6256dfc23": {
          "model_module": "@jupyter-widgets/controls",
          "model_name": "DescriptionStyleModel",
          "model_module_version": "1.5.0",
          "state": {
            "_model_module": "@jupyter-widgets/controls",
            "_model_module_version": "1.5.0",
            "_model_name": "DescriptionStyleModel",
            "_view_count": null,
            "_view_module": "@jupyter-widgets/base",
            "_view_module_version": "1.2.0",
            "_view_name": "StyleView",
            "description_width": ""
          }
        }
      }
    },
    "accelerator": "GPU",
    "gpuClass": "standard"
  },
  "cells": [
    {
      "cell_type": "code",
      "execution_count": 1,
      "metadata": {
        "id": "hrzXTFkf5xjo"
      },
      "outputs": [],
      "source": [
        "%%capture\n",
        "!pip install --upgrade einops optax equinox distrax jaxopt"
      ]
    },
    {
      "cell_type": "code",
      "source": [
        "from jax import numpy as jnp\n",
        "from jax import random, value_and_grad, lax\n",
        "from optax import adam, sgd, apply_updates, chain, clip, softmax_cross_entropy_with_integer_labels\n",
        "from einops import rearrange, reduce, repeat\n",
        "from functools import partial\n",
        "from tqdm.notebook import tqdm\n",
        "import equinox as eqx\n",
        "import tensorflow_datasets as tfds\n",
        "import tensorflow as tf\n",
        "from jax.random import split, normal, randint\n",
        "from jax import lax, vmap, checkpoint\n",
        "from distrax import Normal, Bernoulli\n",
        "from jax.nn import gelu, sigmoid\n",
        "from jax import disable_jit\n",
        "from jaxopt import FixedPointIteration\n",
        "from jax.tree_util import tree_map\n",
        "\n",
        "import numpy as np\n",
        "\n",
        "# Typing \n",
        "from jax import Array\n",
        "from typing import Optional, Sequence, Tuple, Any\n",
        "from jax.random import PRNGKeyArray\n",
        "\n",
        "SEED = 1\n",
        "MODEL_KEY = random.PRNGKey(SEED)\n",
        "TEST_KEY = random.PRNGKey(SEED + 1)"
      ],
      "metadata": {
        "id": "Vk2d-FXd6-0H"
      },
      "execution_count": 2,
      "outputs": []
    },
    {
      "cell_type": "code",
      "source": [
        "def multi_batch_loss(models, x_arrays, multilabels) -> Array:\n",
        "    \"\"\"Compute the loss over all models\"\"\"\n",
        "    return eqx.filter_vmap(batch_loss)(models, x_arrays, multilabels).sum()\n"
      ],
      "metadata": {
        "id": "Sn2Um1glw0ND"
      },
      "execution_count": 3,
      "outputs": []
    },
    {
      "cell_type": "code",
      "source": [
        "def batch_loss(model, x_arr: Array, labels: Array) -> Array:\n",
        "    '''Compute the loss.'''\n",
        "\n",
        "    def loss(x: Array, label: Array):\n",
        "        # -> (model(x)-Asin(x+w))^2\n",
        "        pred = model(jnp.array([x]))\n",
        "        return (pred-label)**2\n",
        "\n",
        "    # Mean over the batch\n",
        "    return vmap(loss)(x_arr, labels).mean()"
      ],
      "metadata": {
        "id": "1tc9Fwfd7Bu_"
      },
      "execution_count": 4,
      "outputs": []
    },
    {
      "cell_type": "code",
      "source": [
        "def get_batch_of_tasks(N: int, key: PRNGKeyArray):\n",
        "    # batch of size N\n",
        "    # a task is given by amplitute A and phase w \n",
        "    A_key, w_key = split(key)\n",
        "    A = random.uniform(A_key, shape=(N,),minval=0.1, maxval=5.0)\n",
        "    w = random.uniform(w_key, shape=(N,),minval=0.0, maxval=jnp.pi)\n",
        "    return A,w"
      ],
      "metadata": {
        "id": "nupqI5zcNyrU"
      },
      "execution_count": 5,
      "outputs": []
    },
    {
      "cell_type": "code",
      "source": [
        "def sample_from_task(A: float, w: float, N: int, key: PRNGKeyArray):\n",
        "    # sample N examples from task\n",
        "    # -> training data: train, train_labels both of size N\n",
        "\n",
        "    # Task T(A,w): A in [0.1, 5.0], w in [0, pi]\n",
        "\n",
        "    # Load the dataset\n",
        "\n",
        "    train = random.uniform(key,minval=-5.0, maxval=5.0,shape=(N,))\n",
        "    train_labels = A*jnp.sin(train+w)\n",
        "    return train, train_labels \n"
      ],
      "metadata": {
        "id": "YdfhABmY_I_l"
      },
      "execution_count": 6,
      "outputs": []
    },
    {
      "cell_type": "code",
      "source": [
        "# Training step function\n",
        "#@eqx.filter_jit\n",
        "def step(model, optimizer, opt_state, x_arr, labels):\n",
        "    loss, grad = eqx.filter_value_and_grad(batch_loss)(model, x_arr, labels)  # Compute loss and gradient\n",
        "    updates, opt_state = optimizer.update(grad, opt_state, model)  # Theta = Theta - alpha*grad(loss)\n",
        "    model = eqx.apply_updates(model, updates)  # Model = Model(Theta_new)\n",
        "    return model, opt_state, loss"
      ],
      "metadata": {
        "id": "da9oH58yEgkg"
      },
      "execution_count": 7,
      "outputs": []
    },
    {
      "cell_type": "code",
      "source": [
        "epochs = 20000\n",
        "model = eqx.nn.MLP(1,1,40,2,key=MODEL_KEY)"
      ],
      "metadata": {
        "id": "AJgNjMEIgGdX"
      },
      "execution_count": 19,
      "outputs": []
    },
    {
      "cell_type": "code",
      "source": [
        "import copy\n",
        "maml_batch_size = 1\n",
        "K = 20\n",
        "Kprime = 5\n",
        "#outer_optim = adam(1e-3, eps=1e-04)\n",
        "outer_optim = adam(1e-4, eps=1e-04)\n",
        "outer_opt_state = outer_optim.init(eqx.filter(model, eqx.is_array))\n",
        "\n",
        "\n",
        "def task_update(model, A: Array, w: Array, key: PRNGKeyArray):\n",
        "\n",
        "    train_key, val_key = split(key)\n",
        "    train, train_labels = sample_from_task(A, w, K, train_key)\n",
        "\n",
        "    # inner loop\n",
        "    #inner_optim = adam(1e-2, eps=1e-04)\n",
        "    inner_optim = sgd(0.01)\n",
        "    inner_opt_state = inner_optim.init(eqx.filter(model, eqx.is_array))\n",
        "\n",
        "\n",
        "    model, inner_opt_state, inner_loss = step(model, inner_optim, inner_opt_state, train, train_labels)\n",
        "\n",
        "    train_prime, train_labels_prime = sample_from_task(A, w, Kprime,val_key)\n",
        "    return model, train_prime, train_labels_prime\n",
        "\n",
        "@eqx.filter_jit\n",
        "def maml_step(model, outer_opt_state, key: PRNGKeyArray):\n",
        "    # Sample tasks for task(list)\n",
        "    keys = split(key,maml_batch_size)\n",
        "    A, w = get_batch_of_tasks(maml_batch_size, key)\n",
        "    models, prime_x_arrays, prime_labels = eqx.filter_vmap(task_update,in_axes=(None,0,0,0))(copy.deepcopy(model), A, w, keys)\n",
        "    loss, grads = eqx.filter_value_and_grad(multi_batch_loss)(models, prime_x_arrays, prime_labels)  # Compute loss and gradient\n",
        "    # Sum the gradients of all the models\n",
        "    grad = tree_map(lambda x : x.sum(0),grads)\n",
        "    updates, outer_opt_state = outer_optim.update(grad, outer_opt_state, model)  # Theta = Theta - alpha*grad(loss)\n",
        "    model = eqx.apply_updates(model, updates)  # Model = Model(Theta_new)\n",
        "    return loss, model, outer_opt_state\n",
        "\n"
      ],
      "metadata": {
        "id": "soeMGzA2RNLU"
      },
      "execution_count": 20,
      "outputs": []
    },
    {
      "cell_type": "code",
      "source": [
        "# Meta train the model\n",
        "pbar = tqdm(random.split(MODEL_KEY,epochs),total=epochs)\n",
        "#for r in range(epochs):\n",
        " #   model, outer_opt_state = maml_step(model, outer_opt_state)  # = filter_jit(step)(model, opt_state)\n",
        "for key in pbar:\n",
        "    loss, model, outer_opt_state = maml_step(model, outer_opt_state, key)  # = filter_jit(step)(model, opt_state)\n",
        "    pbar.set_postfix({'loss': f'{loss.mean():.3}'})"
      ],
      "metadata": {
        "colab": {
          "base_uri": "https://localhost:8080/",
          "height": 49,
          "referenced_widgets": [
            "3922c913ae8a4c90b638b0533a181d44",
            "c14b270bedb14c028c6bbb1c5fe6fb4c",
            "32a5f194d25a4d1192a22fa002906be2",
            "ba4ba5283ed44a87adc9f673131e12bf",
            "2faebe9db6f24ba9ad46408ac26f376a",
            "fc11da2af9ae4cedac14936d449d27d2",
            "4c23427b3b864d1681f703d70fc2e734",
            "c3ae877f39134212917fb6ac98e4b020",
            "0fed708df841482892f02fea42330ba9",
            "e4b4047ab9a341599e5bf9d050176b2c",
            "2429d4a35ae84284b4ede4d6256dfc23"
          ]
        },
        "id": "NRPXGJhUIxWa",
        "outputId": "56cd2d29-e05a-4acd-d657-7528eeed81f5"
      },
      "execution_count": 21,
      "outputs": [
        {
          "output_type": "display_data",
          "data": {
            "text/plain": [
              "  0%|          | 0/20000 [00:00<?, ?it/s]"
            ],
            "application/vnd.jupyter.widget-view+json": {
              "version_major": 2,
              "version_minor": 0,
              "model_id": "3922c913ae8a4c90b638b0533a181d44"
            }
          },
          "metadata": {}
        }
      ]
    },
    {
      "cell_type": "code",
      "source": [
        "import matplotlib.pyplot as plt\n",
        "test, test_labels = sample_from_task(jnp.array(3), jnp.array(0.5), 100, TEST_KEY)\n",
        "#train_test, train_test_labels = sample_from_task(jnp.array(2.07545), jnp.array(1.2665427),5, TEST_KEY)\n",
        "train_test, train_test_labels = sample_from_task(jnp.array(3), jnp.array(0.5),5, TEST_KEY)\n",
        "preds_initial = eqx.filter_vmap(model)(jnp.expand_dims(test,1))\n",
        "\n",
        "plt.scatter(test, preds_initial, color='blue', label=\"Pre initalization\")\n",
        "plt.scatter(test, test_labels, color='red')\n",
        "\n",
        "#inner_optim = adam(1e-2, eps=1e-04)\n",
        "inner_optim = sgd(0.01)\n",
        "inner_opt_state = inner_optim.init(eqx.filter(model, eqx.is_array))\n",
        "\n",
        "trainable_model = copy.deepcopy(model)\n",
        "for i in range(1):\n",
        "    loss, grad = eqx.filter_value_and_grad(batch_loss)(trainable_model, train_test, train_test_labels)  # Compute loss and gradient\n",
        "    updates, inner_opt_state = inner_optim.update(grad, inner_opt_state, trainable_model)  # Theta = Theta - alpha*grad(loss)\n",
        "    trainable_model = eqx.apply_updates(trainable_model, updates)  # Model = Model(Theta_new)\n",
        "\n",
        "preds_shot = eqx.filter_vmap(trainable_model)(jnp.expand_dims(test,1))\n",
        "plt.scatter(test, preds_shot, label=\"K-shot learning\")\n",
        "plt.scatter(train_test, train_test_labels, color='black')\n",
        "plt.legend()\n",
        "plt.show()"
      ],
      "metadata": {
        "colab": {
          "base_uri": "https://localhost:8080/",
          "height": 430
        },
        "id": "i4IG5pM_eLiK",
        "outputId": "a601b0bd-a26f-431a-abb4-bd35c29181e2"
      },
      "execution_count": 22,
      "outputs": [
        {
          "output_type": "display_data",
          "data": {
            "text/plain": [
              "<Figure size 640x480 with 1 Axes>"
            ],
            "image/png": "[encoded data removed]"
          },
          "metadata": {}
        }
      ]
    },
    {
      "cell_type": "code",
      "source": [],
      "metadata": {
        "id": "tQxJqJioLxu9"
      },
      "execution_count": null,
      "outputs": []
    }
  ]
}