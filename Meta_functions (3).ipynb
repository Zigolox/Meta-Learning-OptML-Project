{
  "nbformat": 4,
  "nbformat_minor": 0,
  "metadata": {
    "colab": {
      "provenance": []
    },
    "kernelspec": {
      "name": "python3",
      "display_name": "Python 3"
    },
    "language_info": {
      "name": "python"
    },
    "widgets": {
      "application/vnd.jupyter.widget-state+json": {
        "ca2c2a60f8794ef1b66d1fa2b78a1ac2": {
          "model_module": "@jupyter-widgets/controls",
          "model_name": "HBoxModel",
          "model_module_version": "1.5.0",
          "state": {
            "_dom_classes": [],
            "_model_module": "@jupyter-widgets/controls",
            "_model_module_version": "1.5.0",
            "_model_name": "HBoxModel",
            "_view_count": null,
            "_view_module": "@jupyter-widgets/controls",
            "_view_module_version": "1.5.0",
            "_view_name": "HBoxView",
            "box_style": "",
            "children": [
              "IPY_MODEL_a9954d859fb649c9898d3fa8406080a0",
              "IPY_MODEL_8f066eac852f4350b664aee01bf73e85",
              "IPY_MODEL_77562c7ecb174a92ae0ccf220e716209"
            ],
            "layout": "IPY_MODEL_d55c099c7d6a4e8c9de595371dd12f56"
          }
        },
        "a9954d859fb649c9898d3fa8406080a0": {
          "model_module": "@jupyter-widgets/controls",
          "model_name": "HTMLModel",
          "model_module_version": "1.5.0",
          "state": {
            "_dom_classes": [],
            "_model_module": "@jupyter-widgets/controls",
            "_model_module_version": "1.5.0",
            "_model_name": "HTMLModel",
            "_view_count": null,
            "_view_module": "@jupyter-widgets/controls",
            "_view_module_version": "1.5.0",
            "_view_name": "HTMLView",
            "description": "",
            "description_tooltip": null,
            "layout": "IPY_MODEL_eee97cb2f78648c6ad169f5660d62ed0",
            "placeholder": "​",
            "style": "IPY_MODEL_abec1a6fc9194f4f9419360e551e7324",
            "value": "Running for 60,000 iterations: 100%"
          }
        },
        "8f066eac852f4350b664aee01bf73e85": {
          "model_module": "@jupyter-widgets/controls",
          "model_name": "FloatProgressModel",
          "model_module_version": "1.5.0",
          "state": {
            "_dom_classes": [],
            "_model_module": "@jupyter-widgets/controls",
            "_model_module_version": "1.5.0",
            "_model_name": "FloatProgressModel",
            "_view_count": null,
            "_view_module": "@jupyter-widgets/controls",
            "_view_module_version": "1.5.0",
            "_view_name": "ProgressView",
            "bar_style": "success",
            "description": "",
            "description_tooltip": null,
            "layout": "IPY_MODEL_daa8bed4f39d47e0be47f05fc547b257",
            "max": 60000,
            "min": 0,
            "orientation": "horizontal",
            "style": "IPY_MODEL_ae3b01e24521438385cb46a15e3ebd5a",
            "value": 60000
          }
        },
        "77562c7ecb174a92ae0ccf220e716209": {
          "model_module": "@jupyter-widgets/controls",
          "model_name": "HTMLModel",
          "model_module_version": "1.5.0",
          "state": {
            "_dom_classes": [],
            "_model_module": "@jupyter-widgets/controls",
            "_model_module_version": "1.5.0",
            "_model_name": "HTMLModel",
            "_view_count": null,
            "_view_module": "@jupyter-widgets/controls",
            "_view_module_version": "1.5.0",
            "_view_name": "HTMLView",
            "description": "",
            "description_tooltip": null,
            "layout": "IPY_MODEL_52f60415351745ccb3c47323adcf1854",
            "placeholder": "​",
            "style": "IPY_MODEL_dcf0f6c1550441f78da0f45140c1097e",
            "value": " 60000/60000 [00:14&lt;00:00, 5550.88it/s]"
          }
        },
        "d55c099c7d6a4e8c9de595371dd12f56": {
          "model_module": "@jupyter-widgets/base",
          "model_name": "LayoutModel",
          "model_module_version": "1.2.0",
          "state": {
            "_model_module": "@jupyter-widgets/base",
            "_model_module_version": "1.2.0",
            "_model_name": "LayoutModel",
            "_view_count": null,
            "_view_module": "@jupyter-widgets/base",
            "_view_module_version": "1.2.0",
            "_view_name": "LayoutView",
            "align_content": null,
            "align_items": null,
            "align_self": null,
            "border": null,
            "bottom": null,
            "display": null,
            "flex": null,
            "flex_flow": null,
            "grid_area": null,
            "grid_auto_columns": null,
            "grid_auto_flow": null,
            "grid_auto_rows": null,
            "grid_column": null,
            "grid_gap": null,
            "grid_row": null,
            "grid_template_areas": null,
            "grid_template_columns": null,
            "grid_template_rows": null,
            "height": null,
            "justify_content": null,
            "justify_items": null,
            "left": null,
            "margin": null,
            "max_height": null,
            "max_width": null,
            "min_height": null,
            "min_width": null,
            "object_fit": null,
            "object_position": null,
            "order": null,
            "overflow": null,
            "overflow_x": null,
            "overflow_y": null,
            "padding": null,
            "right": null,
            "top": null,
            "visibility": null,
            "width": null
          }
        },
        "eee97cb2f78648c6ad169f5660d62ed0": {
          "model_module": "@jupyter-widgets/base",
          "model_name": "LayoutModel",
          "model_module_version": "1.2.0",
          "state": {
            "_model_module": "@jupyter-widgets/base",
            "_model_module_version": "1.2.0",
            "_model_name": "LayoutModel",
            "_view_count": null,
            "_view_module": "@jupyter-widgets/base",
            "_view_module_version": "1.2.0",
            "_view_name": "LayoutView",
            "align_content": null,
            "align_items": null,
            "align_self": null,
            "border": null,
            "bottom": null,
            "display": null,
            "flex": null,
            "flex_flow": null,
            "grid_area": null,
            "grid_auto_columns": null,
            "grid_auto_flow": null,
            "grid_auto_rows": null,
            "grid_column": null,
            "grid_gap": null,
            "grid_row": null,
            "grid_template_areas": null,
            "grid_template_columns": null,
            "grid_template_rows": null,
            "height": null,
            "justify_content": null,
            "justify_items": null,
            "left": null,
            "margin": null,
            "max_height": null,
            "max_width": null,
            "min_height": null,
            "min_width": null,
            "object_fit": null,
            "object_position": null,
            "order": null,
            "overflow": null,
            "overflow_x": null,
            "overflow_y": null,
            "padding": null,
            "right": null,
            "top": null,
            "visibility": null,
            "width": null
          }
        },
        "abec1a6fc9194f4f9419360e551e7324": {
          "model_module": "@jupyter-widgets/controls",
          "model_name": "DescriptionStyleModel",
          "model_module_version": "1.5.0",
          "state": {
            "_model_module": "@jupyter-widgets/controls",
            "_model_module_version": "1.5.0",
            "_model_name": "DescriptionStyleModel",
            "_view_count": null,
            "_view_module": "@jupyter-widgets/base",
            "_view_module_version": "1.2.0",
            "_view_name": "StyleView",
            "description_width": ""
          }
        },
        "daa8bed4f39d47e0be47f05fc547b257": {
          "model_module": "@jupyter-widgets/base",
          "model_name": "LayoutModel",
          "model_module_version": "1.2.0",
          "state": {
            "_model_module": "@jupyter-widgets/base",
            "_model_module_version": "1.2.0",
            "_model_name": "LayoutModel",
            "_view_count": null,
            "_view_module": "@jupyter-widgets/base",
            "_view_module_version": "1.2.0",
            "_view_name": "LayoutView",
            "align_content": null,
            "align_items": null,
            "align_self": null,
            "border": null,
            "bottom": null,
            "display": null,
            "flex": null,
            "flex_flow": null,
            "grid_area": null,
            "grid_auto_columns": null,
            "grid_auto_flow": null,
            "grid_auto_rows": null,
            "grid_column": null,
            "grid_gap": null,
            "grid_row": null,
            "grid_template_areas": null,
            "grid_template_columns": null,
            "grid_template_rows": null,
            "height": null,
            "justify_content": null,
            "justify_items": null,
            "left": null,
            "margin": null,
            "max_height": null,
            "max_width": null,
            "min_height": null,
            "min_width": null,
            "object_fit": null,
            "object_position": null,
            "order": null,
            "overflow": null,
            "overflow_x": null,
            "overflow_y": null,
            "padding": null,
            "right": null,
            "top": null,
            "visibility": null,
            "width": null
          }
        },
        "ae3b01e24521438385cb46a15e3ebd5a": {
          "model_module": "@jupyter-widgets/controls",
          "model_name": "ProgressStyleModel",
          "model_module_version": "1.5.0",
          "state": {
            "_model_module": "@jupyter-widgets/controls",
            "_model_module_version": "1.5.0",
            "_model_name": "ProgressStyleModel",
            "_view_count": null,
            "_view_module": "@jupyter-widgets/base",
            "_view_module_version": "1.2.0",
            "_view_name": "StyleView",
            "bar_color": null,
            "description_width": ""
          }
        },
        "52f60415351745ccb3c47323adcf1854": {
          "model_module": "@jupyter-widgets/base",
          "model_name": "LayoutModel",
          "model_module_version": "1.2.0",
          "state": {
            "_model_module": "@jupyter-widgets/base",
            "_model_module_version": "1.2.0",
            "_model_name": "LayoutModel",
            "_view_count": null,
            "_view_module": "@jupyter-widgets/base",
            "_view_module_version": "1.2.0",
            "_view_name": "LayoutView",
            "align_content": null,
            "align_items": null,
            "align_self": null,
            "border": null,
            "bottom": null,
            "display": null,
            "flex": null,
            "flex_flow": null,
            "grid_area": null,
            "grid_auto_columns": null,
            "grid_auto_flow": null,
            "grid_auto_rows": null,
            "grid_column": null,
            "grid_gap": null,
            "grid_row": null,
            "grid_template_areas": null,
            "grid_template_columns": null,
            "grid_template_rows": null,
            "height": null,
            "justify_content": null,
            "justify_items": null,
            "left": null,
            "margin": null,
            "max_height": null,
            "max_width": null,
            "min_height": null,
            "min_width": null,
            "object_fit": null,
            "object_position": null,
            "order": null,
            "overflow": null,
            "overflow_x": null,
            "overflow_y": null,
            "padding": null,
            "right": null,
            "top": null,
            "visibility": null,
            "width": null
          }
        },
        "dcf0f6c1550441f78da0f45140c1097e": {
          "model_module": "@jupyter-widgets/controls",
          "model_name": "DescriptionStyleModel",
          "model_module_version": "1.5.0",
          "state": {
            "_model_module": "@jupyter-widgets/controls",
            "_model_module_version": "1.5.0",
            "_model_name": "DescriptionStyleModel",
            "_view_count": null,
            "_view_module": "@jupyter-widgets/base",
            "_view_module_version": "1.2.0",
            "_view_name": "StyleView",
            "description_width": ""
          }
        },
        "32b28614168c438aa485945859205d51": {
          "model_module": "@jupyter-widgets/controls",
          "model_name": "HBoxModel",
          "model_module_version": "1.5.0",
          "state": {
            "_dom_classes": [],
            "_model_module": "@jupyter-widgets/controls",
            "_model_module_version": "1.5.0",
            "_model_name": "HBoxModel",
            "_view_count": null,
            "_view_module": "@jupyter-widgets/controls",
            "_view_module_version": "1.5.0",
            "_view_name": "HBoxView",
            "box_style": "",
            "children": [
              "IPY_MODEL_8829a49eee7a4bfc84fa0f2cd9343158",
              "IPY_MODEL_56a088250592404cb290ba606c4d3465",
              "IPY_MODEL_b238df2f8ef3436eaf4882040f3d368b"
            ],
            "layout": "IPY_MODEL_edb4610e4d3c4ee797a9b47645c2679c"
          }
        },
        "8829a49eee7a4bfc84fa0f2cd9343158": {
          "model_module": "@jupyter-widgets/controls",
          "model_name": "HTMLModel",
          "model_module_version": "1.5.0",
          "state": {
            "_dom_classes": [],
            "_model_module": "@jupyter-widgets/controls",
            "_model_module_version": "1.5.0",
            "_model_name": "HTMLModel",
            "_view_count": null,
            "_view_module": "@jupyter-widgets/controls",
            "_view_module_version": "1.5.0",
            "_view_name": "HTMLView",
            "description": "",
            "description_tooltip": null,
            "layout": "IPY_MODEL_260b69b15cd2410da6499328fa071de3",
            "placeholder": "​",
            "style": "IPY_MODEL_1e5bb68c1c014f0eb2e7eb6430439966",
            "value": "Running for 60,000 iterations: 100%"
          }
        },
        "56a088250592404cb290ba606c4d3465": {
          "model_module": "@jupyter-widgets/controls",
          "model_name": "FloatProgressModel",
          "model_module_version": "1.5.0",
          "state": {
            "_dom_classes": [],
            "_model_module": "@jupyter-widgets/controls",
            "_model_module_version": "1.5.0",
            "_model_name": "FloatProgressModel",
            "_view_count": null,
            "_view_module": "@jupyter-widgets/controls",
            "_view_module_version": "1.5.0",
            "_view_name": "ProgressView",
            "bar_style": "success",
            "description": "",
            "description_tooltip": null,
            "layout": "IPY_MODEL_90eb8cfa0d044083b99e4f2e05160656",
            "max": 60000,
            "min": 0,
            "orientation": "horizontal",
            "style": "IPY_MODEL_6dc021fe625a4e47b19df2bae9c2fea5",
            "value": 60000
          }
        },
        "b238df2f8ef3436eaf4882040f3d368b": {
          "model_module": "@jupyter-widgets/controls",
          "model_name": "HTMLModel",
          "model_module_version": "1.5.0",
          "state": {
            "_dom_classes": [],
            "_model_module": "@jupyter-widgets/controls",
            "_model_module_version": "1.5.0",
            "_model_name": "HTMLModel",
            "_view_count": null,
            "_view_module": "@jupyter-widgets/controls",
            "_view_module_version": "1.5.0",
            "_view_name": "HTMLView",
            "description": "",
            "description_tooltip": null,
            "layout": "IPY_MODEL_a2b36fadb8b8471b929f1b61470b1e0c",
            "placeholder": "​",
            "style": "IPY_MODEL_0517726d4a324535acf67d2097031184",
            "value": " 60000/60000 [00:20&lt;00:00, 4528.50it/s]"
          }
        },
        "edb4610e4d3c4ee797a9b47645c2679c": {
          "model_module": "@jupyter-widgets/base",
          "model_name": "LayoutModel",
          "model_module_version": "1.2.0",
          "state": {
            "_model_module": "@jupyter-widgets/base",
            "_model_module_version": "1.2.0",
            "_model_name": "LayoutModel",
            "_view_count": null,
            "_view_module": "@jupyter-widgets/base",
            "_view_module_version": "1.2.0",
            "_view_name": "LayoutView",
            "align_content": null,
            "align_items": null,
            "align_self": null,
            "border": null,
            "bottom": null,
            "display": null,
            "flex": null,
            "flex_flow": null,
            "grid_area": null,
            "grid_auto_columns": null,
            "grid_auto_flow": null,
            "grid_auto_rows": null,
            "grid_column": null,
            "grid_gap": null,
            "grid_row": null,
            "grid_template_areas": null,
            "grid_template_columns": null,
            "grid_template_rows": null,
            "height": null,
            "justify_content": null,
            "justify_items": null,
            "left": null,
            "margin": null,
            "max_height": null,
            "max_width": null,
            "min_height": null,
            "min_width": null,
            "object_fit": null,
            "object_position": null,
            "order": null,
            "overflow": null,
            "overflow_x": null,
            "overflow_y": null,
            "padding": null,
            "right": null,
            "top": null,
            "visibility": null,
            "width": null
          }
        },
        "260b69b15cd2410da6499328fa071de3": {
          "model_module": "@jupyter-widgets/base",
          "model_name": "LayoutModel",
          "model_module_version": "1.2.0",
          "state": {
            "_model_module": "@jupyter-widgets/base",
            "_model_module_version": "1.2.0",
            "_model_name": "LayoutModel",
            "_view_count": null,
            "_view_module": "@jupyter-widgets/base",
            "_view_module_version": "1.2.0",
            "_view_name": "LayoutView",
            "align_content": null,
            "align_items": null,
            "align_self": null,
            "border": null,
            "bottom": null,
            "display": null,
            "flex": null,
            "flex_flow": null,
            "grid_area": null,
            "grid_auto_columns": null,
            "grid_auto_flow": null,
            "grid_auto_rows": null,
            "grid_column": null,
            "grid_gap": null,
            "grid_row": null,
            "grid_template_areas": null,
            "grid_template_columns": null,
            "grid_template_rows": null,
            "height": null,
            "justify_content": null,
            "justify_items": null,
            "left": null,
            "margin": null,
            "max_height": null,
            "max_width": null,
            "min_height": null,
            "min_width": null,
            "object_fit": null,
            "object_position": null,
            "order": null,
            "overflow": null,
            "overflow_x": null,
            "overflow_y": null,
            "padding": null,
            "right": null,
            "top": null,
            "visibility": null,
            "width": null
          }
        },
        "1e5bb68c1c014f0eb2e7eb6430439966": {
          "model_module": "@jupyter-widgets/controls",
          "model_name": "DescriptionStyleModel",
          "model_module_version": "1.5.0",
          "state": {
            "_model_module": "@jupyter-widgets/controls",
            "_model_module_version": "1.5.0",
            "_model_name": "DescriptionStyleModel",
            "_view_count": null,
            "_view_module": "@jupyter-widgets/base",
            "_view_module_version": "1.2.0",
            "_view_name": "StyleView",
            "description_width": ""
          }
        },
        "90eb8cfa0d044083b99e4f2e05160656": {
          "model_module": "@jupyter-widgets/base",
          "model_name": "LayoutModel",
          "model_module_version": "1.2.0",
          "state": {
            "_model_module": "@jupyter-widgets/base",
            "_model_module_version": "1.2.0",
            "_model_name": "LayoutModel",
            "_view_count": null,
            "_view_module": "@jupyter-widgets/base",
            "_view_module_version": "1.2.0",
            "_view_name": "LayoutView",
            "align_content": null,
            "align_items": null,
            "align_self": null,
            "border": null,
            "bottom": null,
            "display": null,
            "flex": null,
            "flex_flow": null,
            "grid_area": null,
            "grid_auto_columns": null,
            "grid_auto_flow": null,
            "grid_auto_rows": null,
            "grid_column": null,
            "grid_gap": null,
            "grid_row": null,
            "grid_template_areas": null,
            "grid_template_columns": null,
            "grid_template_rows": null,
            "height": null,
            "justify_content": null,
            "justify_items": null,
            "left": null,
            "margin": null,
            "max_height": null,
            "max_width": null,
            "min_height": null,
            "min_width": null,
            "object_fit": null,
            "object_position": null,
            "order": null,
            "overflow": null,
            "overflow_x": null,
            "overflow_y": null,
            "padding": null,
            "right": null,
            "top": null,
            "visibility": null,
            "width": null
          }
        },
        "6dc021fe625a4e47b19df2bae9c2fea5": {
          "model_module": "@jupyter-widgets/controls",
          "model_name": "ProgressStyleModel",
          "model_module_version": "1.5.0",
          "state": {
            "_model_module": "@jupyter-widgets/controls",
            "_model_module_version": "1.5.0",
            "_model_name": "ProgressStyleModel",
            "_view_count": null,
            "_view_module": "@jupyter-widgets/base",
            "_view_module_version": "1.2.0",
            "_view_name": "StyleView",
            "bar_color": null,
            "description_width": ""
          }
        },
        "a2b36fadb8b8471b929f1b61470b1e0c": {
          "model_module": "@jupyter-widgets/base",
          "model_name": "LayoutModel",
          "model_module_version": "1.2.0",
          "state": {
            "_model_module": "@jupyter-widgets/base",
            "_model_module_version": "1.2.0",
            "_model_name": "LayoutModel",
            "_view_count": null,
            "_view_module": "@jupyter-widgets/base",
            "_view_module_version": "1.2.0",
            "_view_name": "LayoutView",
            "align_content": null,
            "align_items": null,
            "align_self": null,
            "border": null,
            "bottom": null,
            "display": null,
            "flex": null,
            "flex_flow": null,
            "grid_area": null,
            "grid_auto_columns": null,
            "grid_auto_flow": null,
            "grid_auto_rows": null,
            "grid_column": null,
            "grid_gap": null,
            "grid_row": null,
            "grid_template_areas": null,
            "grid_template_columns": null,
            "grid_template_rows": null,
            "height": null,
            "justify_content": null,
            "justify_items": null,
            "left": null,
            "margin": null,
            "max_height": null,
            "max_width": null,
            "min_height": null,
            "min_width": null,
            "object_fit": null,
            "object_position": null,
            "order": null,
            "overflow": null,
            "overflow_x": null,
            "overflow_y": null,
            "padding": null,
            "right": null,
            "top": null,
            "visibility": null,
            "width": null
          }
        },
        "0517726d4a324535acf67d2097031184": {
          "model_module": "@jupyter-widgets/controls",
          "model_name": "DescriptionStyleModel",
          "model_module_version": "1.5.0",
          "state": {
            "_model_module": "@jupyter-widgets/controls",
            "_model_module_version": "1.5.0",
            "_model_name": "DescriptionStyleModel",
            "_view_count": null,
            "_view_module": "@jupyter-widgets/base",
            "_view_module_version": "1.2.0",
            "_view_name": "StyleView",
            "description_width": ""
          }
        },
        "6525cb1cc37a491bab7f200eaeb833e5": {
          "model_module": "@jupyter-widgets/controls",
          "model_name": "HBoxModel",
          "model_module_version": "1.5.0",
          "state": {
            "_dom_classes": [],
            "_model_module": "@jupyter-widgets/controls",
            "_model_module_version": "1.5.0",
            "_model_name": "HBoxModel",
            "_view_count": null,
            "_view_module": "@jupyter-widgets/controls",
            "_view_module_version": "1.5.0",
            "_view_name": "HBoxView",
            "box_style": "",
            "children": [
              "IPY_MODEL_f1c175633d83428f921bde8641e33f50",
              "IPY_MODEL_be70aca4b6fb4d94aae581e3d1bdd541",
              "IPY_MODEL_ebce655ee6354782b2a19c6f2a5fd7f5"
            ],
            "layout": "IPY_MODEL_d1eb8e368c524a7faef68e4cdd47266a"
          }
        },
        "f1c175633d83428f921bde8641e33f50": {
          "model_module": "@jupyter-widgets/controls",
          "model_name": "HTMLModel",
          "model_module_version": "1.5.0",
          "state": {
            "_dom_classes": [],
            "_model_module": "@jupyter-widgets/controls",
            "_model_module_version": "1.5.0",
            "_model_name": "HTMLModel",
            "_view_count": null,
            "_view_module": "@jupyter-widgets/controls",
            "_view_module_version": "1.5.0",
            "_view_name": "HTMLView",
            "description": "",
            "description_tooltip": null,
            "layout": "IPY_MODEL_7d9d5198ba254a45a27e26a1344cee85",
            "placeholder": "​",
            "style": "IPY_MODEL_bddcfb2b64804094a0e02c2adb9d270f",
            "value": "Running for 60,000 iterations: 100%"
          }
        },
        "be70aca4b6fb4d94aae581e3d1bdd541": {
          "model_module": "@jupyter-widgets/controls",
          "model_name": "FloatProgressModel",
          "model_module_version": "1.5.0",
          "state": {
            "_dom_classes": [],
            "_model_module": "@jupyter-widgets/controls",
            "_model_module_version": "1.5.0",
            "_model_name": "FloatProgressModel",
            "_view_count": null,
            "_view_module": "@jupyter-widgets/controls",
            "_view_module_version": "1.5.0",
            "_view_name": "ProgressView",
            "bar_style": "success",
            "description": "",
            "description_tooltip": null,
            "layout": "IPY_MODEL_852d2e314d2e443b9822465bd8fe7d98",
            "max": 60000,
            "min": 0,
            "orientation": "horizontal",
            "style": "IPY_MODEL_57725f9c5e3d45b9b33b9fc345651b78",
            "value": 60000
          }
        },
        "ebce655ee6354782b2a19c6f2a5fd7f5": {
          "model_module": "@jupyter-widgets/controls",
          "model_name": "HTMLModel",
          "model_module_version": "1.5.0",
          "state": {
            "_dom_classes": [],
            "_model_module": "@jupyter-widgets/controls",
            "_model_module_version": "1.5.0",
            "_model_name": "HTMLModel",
            "_view_count": null,
            "_view_module": "@jupyter-widgets/controls",
            "_view_module_version": "1.5.0",
            "_view_name": "HTMLView",
            "description": "",
            "description_tooltip": null,
            "layout": "IPY_MODEL_6263bca609244c559d41b90f663917ec",
            "placeholder": "​",
            "style": "IPY_MODEL_5c1b45538269473f93ca9e0f66c38a6c",
            "value": " 60000/60000 [00:07&lt;00:00, 5868.66it/s]"
          }
        },
        "d1eb8e368c524a7faef68e4cdd47266a": {
          "model_module": "@jupyter-widgets/base",
          "model_name": "LayoutModel",
          "model_module_version": "1.2.0",
          "state": {
            "_model_module": "@jupyter-widgets/base",
            "_model_module_version": "1.2.0",
            "_model_name": "LayoutModel",
            "_view_count": null,
            "_view_module": "@jupyter-widgets/base",
            "_view_module_version": "1.2.0",
            "_view_name": "LayoutView",
            "align_content": null,
            "align_items": null,
            "align_self": null,
            "border": null,
            "bottom": null,
            "display": null,
            "flex": null,
            "flex_flow": null,
            "grid_area": null,
            "grid_auto_columns": null,
            "grid_auto_flow": null,
            "grid_auto_rows": null,
            "grid_column": null,
            "grid_gap": null,
            "grid_row": null,
            "grid_template_areas": null,
            "grid_template_columns": null,
            "grid_template_rows": null,
            "height": null,
            "justify_content": null,
            "justify_items": null,
            "left": null,
            "margin": null,
            "max_height": null,
            "max_width": null,
            "min_height": null,
            "min_width": null,
            "object_fit": null,
            "object_position": null,
            "order": null,
            "overflow": null,
            "overflow_x": null,
            "overflow_y": null,
            "padding": null,
            "right": null,
            "top": null,
            "visibility": null,
            "width": null
          }
        },
        "7d9d5198ba254a45a27e26a1344cee85": {
          "model_module": "@jupyter-widgets/base",
          "model_name": "LayoutModel",
          "model_module_version": "1.2.0",
          "state": {
            "_model_module": "@jupyter-widgets/base",
            "_model_module_version": "1.2.0",
            "_model_name": "LayoutModel",
            "_view_count": null,
            "_view_module": "@jupyter-widgets/base",
            "_view_module_version": "1.2.0",
            "_view_name": "LayoutView",
            "align_content": null,
            "align_items": null,
            "align_self": null,
            "border": null,
            "bottom": null,
            "display": null,
            "flex": null,
            "flex_flow": null,
            "grid_area": null,
            "grid_auto_columns": null,
            "grid_auto_flow": null,
            "grid_auto_rows": null,
            "grid_column": null,
            "grid_gap": null,
            "grid_row": null,
            "grid_template_areas": null,
            "grid_template_columns": null,
            "grid_template_rows": null,
            "height": null,
            "justify_content": null,
            "justify_items": null,
            "left": null,
            "margin": null,
            "max_height": null,
            "max_width": null,
            "min_height": null,
            "min_width": null,
            "object_fit": null,
            "object_position": null,
            "order": null,
            "overflow": null,
            "overflow_x": null,
            "overflow_y": null,
            "padding": null,
            "right": null,
            "top": null,
            "visibility": null,
            "width": null
          }
        },
        "bddcfb2b64804094a0e02c2adb9d270f": {
          "model_module": "@jupyter-widgets/controls",
          "model_name": "DescriptionStyleModel",
          "model_module_version": "1.5.0",
          "state": {
            "_model_module": "@jupyter-widgets/controls",
            "_model_module_version": "1.5.0",
            "_model_name": "DescriptionStyleModel",
            "_view_count": null,
            "_view_module": "@jupyter-widgets/base",
            "_view_module_version": "1.2.0",
            "_view_name": "StyleView",
            "description_width": ""
          }
        },
        "852d2e314d2e443b9822465bd8fe7d98": {
          "model_module": "@jupyter-widgets/base",
          "model_name": "LayoutModel",
          "model_module_version": "1.2.0",
          "state": {
            "_model_module": "@jupyter-widgets/base",
            "_model_module_version": "1.2.0",
            "_model_name": "LayoutModel",
            "_view_count": null,
            "_view_module": "@jupyter-widgets/base",
            "_view_module_version": "1.2.0",
            "_view_name": "LayoutView",
            "align_content": null,
            "align_items": null,
            "align_self": null,
            "border": null,
            "bottom": null,
            "display": null,
            "flex": null,
            "flex_flow": null,
            "grid_area": null,
            "grid_auto_columns": null,
            "grid_auto_flow": null,
            "grid_auto_rows": null,
            "grid_column": null,
            "grid_gap": null,
            "grid_row": null,
            "grid_template_areas": null,
            "grid_template_columns": null,
            "grid_template_rows": null,
            "height": null,
            "justify_content": null,
            "justify_items": null,
            "left": null,
            "margin": null,
            "max_height": null,
            "max_width": null,
            "min_height": null,
            "min_width": null,
            "object_fit": null,
            "object_position": null,
            "order": null,
            "overflow": null,
            "overflow_x": null,
            "overflow_y": null,
            "padding": null,
            "right": null,
            "top": null,
            "visibility": null,
            "width": null
          }
        },
        "57725f9c5e3d45b9b33b9fc345651b78": {
          "model_module": "@jupyter-widgets/controls",
          "model_name": "ProgressStyleModel",
          "model_module_version": "1.5.0",
          "state": {
            "_model_module": "@jupyter-widgets/controls",
            "_model_module_version": "1.5.0",
            "_model_name": "ProgressStyleModel",
            "_view_count": null,
            "_view_module": "@jupyter-widgets/base",
            "_view_module_version": "1.2.0",
            "_view_name": "StyleView",
            "bar_color": null,
            "description_width": ""
          }
        },
        "6263bca609244c559d41b90f663917ec": {
          "model_module": "@jupyter-widgets/base",
          "model_name": "LayoutModel",
          "model_module_version": "1.2.0",
          "state": {
            "_model_module": "@jupyter-widgets/base",
            "_model_module_version": "1.2.0",
            "_model_name": "LayoutModel",
            "_view_count": null,
            "_view_module": "@jupyter-widgets/base",
            "_view_module_version": "1.2.0",
            "_view_name": "LayoutView",
            "align_content": null,
            "align_items": null,
            "align_self": null,
            "border": null,
            "bottom": null,
            "display": null,
            "flex": null,
            "flex_flow": null,
            "grid_area": null,
            "grid_auto_columns": null,
            "grid_auto_flow": null,
            "grid_auto_rows": null,
            "grid_column": null,
            "grid_gap": null,
            "grid_row": null,
            "grid_template_areas": null,
            "grid_template_columns": null,
            "grid_template_rows": null,
            "height": null,
            "justify_content": null,
            "justify_items": null,
            "left": null,
            "margin": null,
            "max_height": null,
            "max_width": null,
            "min_height": null,
            "min_width": null,
            "object_fit": null,
            "object_position": null,
            "order": null,
            "overflow": null,
            "overflow_x": null,
            "overflow_y": null,
            "padding": null,
            "right": null,
            "top": null,
            "visibility": null,
            "width": null
          }
        },
        "5c1b45538269473f93ca9e0f66c38a6c": {
          "model_module": "@jupyter-widgets/controls",
          "model_name": "DescriptionStyleModel",
          "model_module_version": "1.5.0",
          "state": {
            "_model_module": "@jupyter-widgets/controls",
            "_model_module_version": "1.5.0",
            "_model_name": "DescriptionStyleModel",
            "_view_count": null,
            "_view_module": "@jupyter-widgets/base",
            "_view_module_version": "1.2.0",
            "_view_name": "StyleView",
            "description_width": ""
          }
        },
        "ffce015c442848278432cd1ae1da6a14": {
          "model_module": "@jupyter-widgets/controls",
          "model_name": "HBoxModel",
          "model_module_version": "1.5.0",
          "state": {
            "_dom_classes": [],
            "_model_module": "@jupyter-widgets/controls",
            "_model_module_version": "1.5.0",
            "_model_name": "HBoxModel",
            "_view_count": null,
            "_view_module": "@jupyter-widgets/controls",
            "_view_module_version": "1.5.0",
            "_view_name": "HBoxView",
            "box_style": "",
            "children": [
              "IPY_MODEL_f55507903dec4ecc9dc3aea5f8316549",
              "IPY_MODEL_5c1d3e212d644276928e8c3eb1bc3be7",
              "IPY_MODEL_487df4ede0b04369a6835f537d280491"
            ],
            "layout": "IPY_MODEL_3eee243bdbc94c0b8350e884b672c313"
          }
        },
        "f55507903dec4ecc9dc3aea5f8316549": {
          "model_module": "@jupyter-widgets/controls",
          "model_name": "HTMLModel",
          "model_module_version": "1.5.0",
          "state": {
            "_dom_classes": [],
            "_model_module": "@jupyter-widgets/controls",
            "_model_module_version": "1.5.0",
            "_model_name": "HTMLModel",
            "_view_count": null,
            "_view_module": "@jupyter-widgets/controls",
            "_view_module_version": "1.5.0",
            "_view_name": "HTMLView",
            "description": "",
            "description_tooltip": null,
            "layout": "IPY_MODEL_4facde55eb894f46a8c1d9e145242c69",
            "placeholder": "​",
            "style": "IPY_MODEL_ef8a3b85b4ef4516a428b0c75bcb3c6a",
            "value": "Running for 60,000 iterations: 100%"
          }
        },
        "5c1d3e212d644276928e8c3eb1bc3be7": {
          "model_module": "@jupyter-widgets/controls",
          "model_name": "FloatProgressModel",
          "model_module_version": "1.5.0",
          "state": {
            "_dom_classes": [],
            "_model_module": "@jupyter-widgets/controls",
            "_model_module_version": "1.5.0",
            "_model_name": "FloatProgressModel",
            "_view_count": null,
            "_view_module": "@jupyter-widgets/controls",
            "_view_module_version": "1.5.0",
            "_view_name": "ProgressView",
            "bar_style": "success",
            "description": "",
            "description_tooltip": null,
            "layout": "IPY_MODEL_2572758bd92b428e946df64359341d0a",
            "max": 60000,
            "min": 0,
            "orientation": "horizontal",
            "style": "IPY_MODEL_e66ad71b4fff43acb517062f20222b85",
            "value": 60000
          }
        },
        "487df4ede0b04369a6835f537d280491": {
          "model_module": "@jupyter-widgets/controls",
          "model_name": "HTMLModel",
          "model_module_version": "1.5.0",
          "state": {
            "_dom_classes": [],
            "_model_module": "@jupyter-widgets/controls",
            "_model_module_version": "1.5.0",
            "_model_name": "HTMLModel",
            "_view_count": null,
            "_view_module": "@jupyter-widgets/controls",
            "_view_module_version": "1.5.0",
            "_view_name": "HTMLView",
            "description": "",
            "description_tooltip": null,
            "layout": "IPY_MODEL_26b585f4a96a4f4db0cc9f2fde0a7465",
            "placeholder": "​",
            "style": "IPY_MODEL_c809bb6a2bc04852ba59b951c943fd5a",
            "value": " 60000/60000 [05:39&lt;00:00, 176.67it/s]"
          }
        },
        "3eee243bdbc94c0b8350e884b672c313": {
          "model_module": "@jupyter-widgets/base",
          "model_name": "LayoutModel",
          "model_module_version": "1.2.0",
          "state": {
            "_model_module": "@jupyter-widgets/base",
            "_model_module_version": "1.2.0",
            "_model_name": "LayoutModel",
            "_view_count": null,
            "_view_module": "@jupyter-widgets/base",
            "_view_module_version": "1.2.0",
            "_view_name": "LayoutView",
            "align_content": null,
            "align_items": null,
            "align_self": null,
            "border": null,
            "bottom": null,
            "display": null,
            "flex": null,
            "flex_flow": null,
            "grid_area": null,
            "grid_auto_columns": null,
            "grid_auto_flow": null,
            "grid_auto_rows": null,
            "grid_column": null,
            "grid_gap": null,
            "grid_row": null,
            "grid_template_areas": null,
            "grid_template_columns": null,
            "grid_template_rows": null,
            "height": null,
            "justify_content": null,
            "justify_items": null,
            "left": null,
            "margin": null,
            "max_height": null,
            "max_width": null,
            "min_height": null,
            "min_width": null,
            "object_fit": null,
            "object_position": null,
            "order": null,
            "overflow": null,
            "overflow_x": null,
            "overflow_y": null,
            "padding": null,
            "right": null,
            "top": null,
            "visibility": null,
            "width": null
          }
        },
        "4facde55eb894f46a8c1d9e145242c69": {
          "model_module": "@jupyter-widgets/base",
          "model_name": "LayoutModel",
          "model_module_version": "1.2.0",
          "state": {
            "_model_module": "@jupyter-widgets/base",
            "_model_module_version": "1.2.0",
            "_model_name": "LayoutModel",
            "_view_count": null,
            "_view_module": "@jupyter-widgets/base",
            "_view_module_version": "1.2.0",
            "_view_name": "LayoutView",
            "align_content": null,
            "align_items": null,
            "align_self": null,
            "border": null,
            "bottom": null,
            "display": null,
            "flex": null,
            "flex_flow": null,
            "grid_area": null,
            "grid_auto_columns": null,
            "grid_auto_flow": null,
            "grid_auto_rows": null,
            "grid_column": null,
            "grid_gap": null,
            "grid_row": null,
            "grid_template_areas": null,
            "grid_template_columns": null,
            "grid_template_rows": null,
            "height": null,
            "justify_content": null,
            "justify_items": null,
            "left": null,
            "margin": null,
            "max_height": null,
            "max_width": null,
            "min_height": null,
            "min_width": null,
            "object_fit": null,
            "object_position": null,
            "order": null,
            "overflow": null,
            "overflow_x": null,
            "overflow_y": null,
            "padding": null,
            "right": null,
            "top": null,
            "visibility": null,
            "width": null
          }
        },
        "ef8a3b85b4ef4516a428b0c75bcb3c6a": {
          "model_module": "@jupyter-widgets/controls",
          "model_name": "DescriptionStyleModel",
          "model_module_version": "1.5.0",
          "state": {
            "_model_module": "@jupyter-widgets/controls",
            "_model_module_version": "1.5.0",
            "_model_name": "DescriptionStyleModel",
            "_view_count": null,
            "_view_module": "@jupyter-widgets/base",
            "_view_module_version": "1.2.0",
            "_view_name": "StyleView",
            "description_width": ""
          }
        },
        "2572758bd92b428e946df64359341d0a": {
          "model_module": "@jupyter-widgets/base",
          "model_name": "LayoutModel",
          "model_module_version": "1.2.0",
          "state": {
            "_model_module": "@jupyter-widgets/base",
            "_model_module_version": "1.2.0",
            "_model_name": "LayoutModel",
            "_view_count": null,
            "_view_module": "@jupyter-widgets/base",
            "_view_module_version": "1.2.0",
            "_view_name": "LayoutView",
            "align_content": null,
            "align_items": null,
            "align_self": null,
            "border": null,
            "bottom": null,
            "display": null,
            "flex": null,
            "flex_flow": null,
            "grid_area": null,
            "grid_auto_columns": null,
            "grid_auto_flow": null,
            "grid_auto_rows": null,
            "grid_column": null,
            "grid_gap": null,
            "grid_row": null,
            "grid_template_areas": null,
            "grid_template_columns": null,
            "grid_template_rows": null,
            "height": null,
            "justify_content": null,
            "justify_items": null,
            "left": null,
            "margin": null,
            "max_height": null,
            "max_width": null,
            "min_height": null,
            "min_width": null,
            "object_fit": null,
            "object_position": null,
            "order": null,
            "overflow": null,
            "overflow_x": null,
            "overflow_y": null,
            "padding": null,
            "right": null,
            "top": null,
            "visibility": null,
            "width": null
          }
        },
        "e66ad71b4fff43acb517062f20222b85": {
          "model_module": "@jupyter-widgets/controls",
          "model_name": "ProgressStyleModel",
          "model_module_version": "1.5.0",
          "state": {
            "_model_module": "@jupyter-widgets/controls",
            "_model_module_version": "1.5.0",
            "_model_name": "ProgressStyleModel",
            "_view_count": null,
            "_view_module": "@jupyter-widgets/base",
            "_view_module_version": "1.2.0",
            "_view_name": "StyleView",
            "bar_color": null,
            "description_width": ""
          }
        },
        "26b585f4a96a4f4db0cc9f2fde0a7465": {
          "model_module": "@jupyter-widgets/base",
          "model_name": "LayoutModel",
          "model_module_version": "1.2.0",
          "state": {
            "_model_module": "@jupyter-widgets/base",
            "_model_module_version": "1.2.0",
            "_model_name": "LayoutModel",
            "_view_count": null,
            "_view_module": "@jupyter-widgets/base",
            "_view_module_version": "1.2.0",
            "_view_name": "LayoutView",
            "align_content": null,
            "align_items": null,
            "align_self": null,
            "border": null,
            "bottom": null,
            "display": null,
            "flex": null,
            "flex_flow": null,
            "grid_area": null,
            "grid_auto_columns": null,
            "grid_auto_flow": null,
            "grid_auto_rows": null,
            "grid_column": null,
            "grid_gap": null,
            "grid_row": null,
            "grid_template_areas": null,
            "grid_template_columns": null,
            "grid_template_rows": null,
            "height": null,
            "justify_content": null,
            "justify_items": null,
            "left": null,
            "margin": null,
            "max_height": null,
            "max_width": null,
            "min_height": null,
            "min_width": null,
            "object_fit": null,
            "object_position": null,
            "order": null,
            "overflow": null,
            "overflow_x": null,
            "overflow_y": null,
            "padding": null,
            "right": null,
            "top": null,
            "visibility": null,
            "width": null
          }
        },
        "c809bb6a2bc04852ba59b951c943fd5a": {
          "model_module": "@jupyter-widgets/controls",
          "model_name": "DescriptionStyleModel",
          "model_module_version": "1.5.0",
          "state": {
            "_model_module": "@jupyter-widgets/controls",
            "_model_module_version": "1.5.0",
            "_model_name": "DescriptionStyleModel",
            "_view_count": null,
            "_view_module": "@jupyter-widgets/base",
            "_view_module_version": "1.2.0",
            "_view_name": "StyleView",
            "description_width": ""
          }
        }
      }
    }
  },
  "cells": [
    {
      "cell_type": "code",
      "execution_count": 1,
      "metadata": {
        "colab": {
          "base_uri": "https://localhost:8080/"
        },
        "id": "yJpRSnmsZAdf",
        "outputId": "30abb8a8-bcd4-46c5-a138-4bf092328693"
      },
      "outputs": [
        {
          "output_type": "stream",
          "name": "stdout",
          "text": [
            "fatal: destination path 'Meta-Learning-OptML-Project' already exists and is not an empty directory.\n",
            "/content/Meta-Learning-OptML-Project\n"
          ]
        }
      ],
      "source": [
        "!git clone https://github.com/Zigolox/Meta-Learning-OptML-Project\n",
        "%cd /content/Meta-Learning-OptML-Project"
      ]
    },
    {
      "cell_type": "code",
      "source": [
        "%%capture\n",
        "!pip uninstall jax jaxlib -y\n",
        "!pip install --upgrade \"jax[cuda11_pip]\" -f https://storage.googleapis.com/jax-releases/jax_cuda_releases.html\n",
        "!pip install --upgrade einops optax equinox jax-tqdm "
      ],
      "metadata": {
        "id": "ym4gcKkDZhUh"
      },
      "execution_count": 2,
      "outputs": []
    },
    {
      "cell_type": "code",
      "source": [
        "import jax"
      ],
      "metadata": {
        "id": "W9vE6mrXjmqB"
      },
      "execution_count": 3,
      "outputs": []
    },
    {
      "cell_type": "code",
      "source": [
        "from jax import numpy as jnp\n",
        "from jax import random, value_and_grad, lax\n",
        "from optax import adam, sgd, apply_updates, chain, clip, softmax_cross_entropy_with_integer_labels\n",
        "from einops import rearrange, reduce, repeat\n",
        "from functools import partial\n",
        "from tqdm.notebook import tqdm\n",
        "import equinox as eqx\n",
        "import tensorflow_datasets as tfds\n",
        "import tensorflow as tf\n",
        "from jax.random import split, normal, randint\n",
        "from jax import lax, vmap, checkpoint\n",
        "from jax.nn import gelu, sigmoid\n",
        "from jax import disable_jit\n",
        "from jax.tree_util import tree_map, tree_leaves\n",
        "\n",
        "from jax_tqdm import scan_tqdm\n",
        "from jax import lax\n",
        "import jax.numpy as jnp\n",
        "\n",
        "# Typing \n",
        "from jax import Array\n",
        "from typing import Optional, Sequence, Tuple, Any\n",
        "from jax.random import PRNGKeyArray\n",
        "\n",
        "SEED = 0\n",
        "MODEL_KEY = random.PRNGKey(SEED)\n",
        "TEST_KEY = random.PRNGKey(SEED + 1)\n",
        "TRAIN_KEY = random.PRNGKey(SEED + 2)\n",
        "EX_TEST_KEY = random.PRNGKey(SEED + 8)\n",
        "EX_TRAIN_KEY = random.PRNGKey(SEED + 7)\n",
        "\n",
        "import copy\n",
        "import matplotlib.pyplot as plt"
      ],
      "metadata": {
        "colab": {
          "base_uri": "https://localhost:8080/"
        },
        "id": "7hzsAhYTZm5D",
        "outputId": "e4907692-f349-4d31-b8cb-e6a4d76105da"
      },
      "execution_count": 4,
      "outputs": [
        {
          "output_type": "stream",
          "name": "stderr",
          "text": [
            "WARNING:jax._src.xla_bridge:No GPU/TPU found, falling back to CPU. (Set TF_CPP_MIN_LOG_LEVEL=0 and rerun for more info.)\n"
          ]
        }
      ]
    },
    {
      "cell_type": "code",
      "source": [
        "def multi_batch_loss(model, batch_loss, batch_of_tasks, inner_step, inner_optim, inner_opt_state) -> Array:\n",
        "    \"\"\"Compute the loss over all models\"\"\"\n",
        "\n",
        "    # get model_i', test_i, test_labels_i for all tasks i:\n",
        "    batch_train, batch_train_labels, batch_test, batch_test_labels = batch_of_tasks\n",
        "    models = eqx.filter_vmap(inner_step,in_axes=(None,0,0,None,None,None))(model, batch_train, batch_train_labels, batch_loss, inner_optim, inner_opt_state)\n",
        "    # sum loss_i(model_i', test_i, test_labels_i)\n",
        "    return eqx.filter_vmap(batch_loss)(models, batch_test, batch_test_labels).sum()"
      ],
      "metadata": {
        "id": "UKQPu1MEZqnE"
      },
      "execution_count": 5,
      "outputs": []
    },
    {
      "cell_type": "code",
      "source": [
        "def batch_loss(model, x_arr: Array, labels: Array) -> Array:\n",
        "    '''Compute the loss.'''\n",
        "\n",
        "    def loss(x: Array, label: Array):\n",
        "        # -> (model(x)-Asin(x+w))^2\n",
        "        pred = model(jnp.array([x]))\n",
        "        return (pred-label)**2\n",
        "\n",
        "    # Mean over the batch\n",
        "    return vmap(loss)(x_arr, labels).mean()"
      ],
      "metadata": {
        "id": "pLwGKMm6aZta"
      },
      "execution_count": 6,
      "outputs": []
    },
    {
      "cell_type": "code",
      "source": [
        "def step(batch_loss, model, train, train_labels, opt_state, optim):\n",
        "    loss, grad = eqx.filter_value_and_grad(batch_loss)(model, train, train_labels)  # Compute loss and gradient\n",
        "    updates, opt_state = optim.update(grad, opt_state, model)  # Theta = Theta - alpha*grad(loss)\n",
        "    model = eqx.apply_updates(model, updates)  # Model = Model(Theta_new)\n",
        "    return model, opt_state, loss"
      ],
      "metadata": {
        "id": "uy9GunmPxEAd"
      },
      "execution_count": 7,
      "outputs": []
    },
    {
      "cell_type": "code",
      "source": [
        "@partial(eqx.filter_jit)\n",
        "def outer_step_METASGD(model_alpha, batch_loss, outer_optim, outer_opt_state,\n",
        "         inner_step, batch_of_tasks, inner_optim, inner_opt_state):\n",
        "     \n",
        "    loss, grads = eqx.filter_value_and_grad(multi_batch_loss)(model_alpha, batch_loss, batch_of_tasks, inner_step, inner_optim, inner_opt_state)  # Compute loss and gradient, meta step\n",
        "    updates, outer_opt_state = outer_optim.update(grads, outer_opt_state, model_alpha)  \n",
        "    model_alpha = eqx.apply_updates(model_alpha, updates)  \n",
        "\n",
        "    return loss, model_alpha, outer_opt_state\n",
        "\n"
      ],
      "metadata": {
        "id": "bokcGKXJdInS"
      },
      "execution_count": 8,
      "outputs": []
    },
    {
      "cell_type": "code",
      "source": [
        "# Training step function\n",
        "#@eqx.filter_jit\n",
        "def inner_step_METASGD(model_alpha, train, train_labels, batch_loss, inner_optim, inner_opt_state):\n",
        "\n",
        "    model, alpha = copy.deepcopy(model_alpha[0]), model_alpha[1] \n",
        "\n",
        "    loss, grad = eqx.filter_value_and_grad(batch_loss)(model, train, train_labels)  # Compute loss and gradient\n",
        "    mod_grad = tree_map(lambda x,y: x*y, grad, alpha)  # replace standard gradient with alpha*gradient (elementwise product)\n",
        "    updates, opt_state = inner_optim.update(mod_grad, inner_opt_state, model)  \n",
        "    model = eqx.apply_updates(model, updates)  \n",
        "\n",
        "    return model"
      ],
      "metadata": {
        "id": "utjY-DTqbXQU"
      },
      "execution_count": 9,
      "outputs": []
    },
    {
      "cell_type": "code",
      "source": [
        "@partial(eqx.filter_jit)\n",
        "def outer_step_MAML(model, batch_loss, outer_optim, outer_opt_state,\n",
        "         inner_step, batch_of_tasks, inner_optim, inner_opt_state):\n",
        "     \n",
        "    loss, grads = eqx.filter_value_and_grad(multi_batch_loss)(model, batch_loss, batch_of_tasks, inner_step, inner_optim, inner_opt_state)  # Compute loss and gradient, meta step\n",
        "    updates, outer_opt_state = outer_optim.update(grads, outer_opt_state, model)  \n",
        "    model = eqx.apply_updates(model, updates)  \n",
        "\n",
        "    return loss, model, outer_opt_state"
      ],
      "metadata": {
        "id": "7vohAl9R9xPH"
      },
      "execution_count": 10,
      "outputs": []
    },
    {
      "cell_type": "code",
      "source": [
        "def inner_step_MAML(model, train, train_labels, batch_loss, inner_optim, inner_opt_state):\n",
        "\n",
        "    model = copy.deepcopy(model)\n",
        "\n",
        "    model, inner_opt_state, loss = step(batch_loss, model, train, train_labels, inner_opt_state, inner_optim)\n",
        "\n",
        "    return model"
      ],
      "metadata": {
        "id": "nuRGklSw92qB"
      },
      "execution_count": 11,
      "outputs": []
    },
    {
      "cell_type": "code",
      "source": [
        "@partial(eqx.filter_jit)\n",
        "def outer_step_FOMAML(model, batch_loss, outer_optim, outer_opt_state,\n",
        "         inner_step, batch_of_tasks, inner_optim, inner_opt_state):\n",
        "    \n",
        "    batch_train, batch_train_labels, batch_test, batch_test_labels = batch_of_tasks\n",
        "    models = eqx.filter_vmap(inner_step, in_axes=(None,0,0,None,None,None))(model, batch_train, batch_train_labels, batch_loss, inner_optim, inner_opt_state)\n",
        "    def multi_batch_loss_fomaml(models, test, test_labels) -> Array:\n",
        "            \"\"\"Compute the loss over all models\"\"\"\n",
        "            return eqx.filter_vmap(batch_loss)(models, test, test_labels).sum()\n",
        "    \n",
        "    loss, grads = eqx.filter_value_and_grad(multi_batch_loss_fomaml)(models, batch_test, batch_test_labels)  # Compute loss and gradient, meta step\n",
        "    grad = tree_map(lambda x : x.sum(0),grads)\n",
        "    updates, outer_opt_state = outer_optim.update(grad, outer_opt_state, model)  \n",
        "    model = eqx.apply_updates(model, updates)  \n",
        "\n",
        "    return loss, model, outer_opt_state"
      ],
      "metadata": {
        "id": "jSYpnFNa_0Qy"
      },
      "execution_count": 12,
      "outputs": []
    },
    {
      "cell_type": "code",
      "source": [
        "def inner_step_FOMAML(model, train, train_labels, batch_loss, inner_optim, inner_opt_state):\n",
        "\n",
        "    model = copy.deepcopy(model)\n",
        "\n",
        "    model, inner_opt_state, loss = step(batch_loss, model, train, train_labels, inner_opt_state, inner_optim)  \n",
        "\n",
        "    return model"
      ],
      "metadata": {
        "id": "KYohCiYb_7MD"
      },
      "execution_count": 13,
      "outputs": []
    },
    {
      "cell_type": "code",
      "source": [
        "@partial(eqx.filter_jit)\n",
        "def outer_step_REPTILE(model, batch_loss, outer_optim, outer_opt_state,\n",
        "         inner_step, batch_of_tasks, inner_optim, inner_opt_state, epsilon):\n",
        "    \n",
        "    batch_train, batch_train_labels, batch_test, batch_test_labels = batch_of_tasks\n",
        "\n",
        "    models = eqx.filter_vmap(inner_step, in_axes=(None,0,0,None,None,None))(model, batch_train, batch_train_labels, batch_loss, inner_optim, inner_opt_state)\n",
        "\n",
        "    model_tilde = tree_map(lambda x: (1/meta_batch_size)*x.sum(0), eqx.filter(models,eqx.is_array))\n",
        "\n",
        "    dyn_model = tree_map((lambda x,y: x+epsilon*(y-x)), eqx.filter(model,eqx.is_array), eqx.filter(model_tilde,eqx.is_array))\n",
        "    model = eqx.combine(dyn_model, model)\n",
        "    \n",
        "    loss, outer_opt_state = None, None\n",
        "    return loss, model, outer_opt_state"
      ],
      "metadata": {
        "id": "irvSvaSdDGRb"
      },
      "execution_count": 14,
      "outputs": []
    },
    {
      "cell_type": "code",
      "source": [
        "def inner_step_REPTILE(model, train, train_labels, batch_loss, inner_optim, inner_opt_state, nr_steps=32):\n",
        "\n",
        "    model = copy.deepcopy(model)\n",
        "\n",
        "    dynamic_model, static_model = eqx.partition(model, eqx.is_array)\n",
        "    def scan_step(carry, i):\n",
        "        dynamic_model, inner_opt_state = carry\n",
        "        model, inner_opt_state, loss = step(batch_loss, eqx.combine(dynamic_model,static_model), train, train_labels, inner_opt_state, inner_optim)\n",
        "        return (eqx.partition(model, eqx.is_array)[0], inner_opt_state), loss\n",
        "    carry = (dynamic_model, inner_opt_state)\n",
        "    (dynamic_model, inner_opt_state), losses = lax.scan(scan_step,carry,jnp.arange(nr_steps))\n",
        "    model = eqx.combine(dynamic_model,static_model)  \n",
        "\n",
        "    return model"
      ],
      "metadata": {
        "id": "5sP2b4a1Dmmb"
      },
      "execution_count": 15,
      "outputs": []
    },
    {
      "cell_type": "code",
      "source": [
        "# function to load data\n",
        "@partial(eqx.filter_jit)\n",
        "def load_batch_of_tasks(nr_train, nr_test, train_key, test_key, test_random=True):  \n",
        "    A_key, w_key = split(test_key, 2)\n",
        "    A = random.uniform(train_key, shape=(1,),minval=0.1, maxval=5.0)\n",
        "    w = random.uniform(train_key, shape=(1,),minval=0.0, maxval=jnp.pi)\n",
        "    \n",
        "    train = random.uniform(train_key,shape=(nr_train,),minval=-5.0, maxval=5.0)\n",
        "    train_labels = jnp.concatenate(list(map(lambda x: A*jnp.sin(x+w), train)))\n",
        "\n",
        "    if test_random:\n",
        "        test = random.uniform(test_key,shape=(nr_test,),minval=-5.0, maxval=5.0).sort()\n",
        "    else:\n",
        "        test = jnp.linspace(-5, 5, num=nr_test)\n",
        "    test_labels = jnp.concatenate(list(map(lambda x: A*jnp.sin(x+w), test)))\n",
        "\n",
        "    return train, train_labels, test, test_labels\n"
      ],
      "metadata": {
        "id": "8ZDIqXqekZUz"
      },
      "execution_count": 16,
      "outputs": []
    },
    {
      "cell_type": "code",
      "source": [
        "def load_task(n_train, n_test, train_key, test_key, A_key, w_key, test_random=True):\n",
        "    \n",
        "    A = random.uniform(A_key, shape=(1,),minval=0.1, maxval=5.0)\n",
        "    w = random.uniform(w_key, shape=(1,),minval=0.0, maxval=jnp.pi)\n",
        "    \n",
        "    train = random.uniform(train_key,shape=(n_train,),minval=-5.0, maxval=5.0)\n",
        "    train_labels = A*jnp.sin(train+w)\n",
        "    if test_random:\n",
        "        test = random.uniform(test_key,shape=(n_test,),minval=-5.0, maxval=5.0).sort()\n",
        "    else:\n",
        "        test = jnp.linspace(-5, 5, num=n_test)\n",
        "    test_labels = A*jnp.sin(test+w)\n",
        "\n",
        "    return (train, train_labels), (test, test_labels)"
      ],
      "metadata": {
        "id": "FEZGgjuOfgSO"
      },
      "execution_count": 17,
      "outputs": []
    },
    {
      "cell_type": "code",
      "source": [
        "def help_eval(test_model, test_points, test_labels):\n",
        "    # evaluation help function\n",
        "    preds_shot = eqx.filter_vmap(test_model)(jnp.expand_dims(test_points,1))\n",
        "    preds_shot = rearrange(preds_shot, \"a i -> (a i)\")\n",
        "    mse = (jnp.mean(jnp.square(preds_shot-test_labels)))  # mean squared error \n",
        "    return mse"
      ],
      "metadata": {
        "id": "uJsTDCdDnxKt"
      },
      "execution_count": 18,
      "outputs": []
    },
    {
      "cell_type": "code",
      "source": [
        "def evaluation(model, n_test_train, n_test, train_key, \n",
        "                   test_key, inner_step, inner_optim, inner_opt_state, batch_loss):\n",
        "    # sample N different sine curves \n",
        "    N = 100\n",
        "    M = 100\n",
        "    sine_keys = split(train_key, N)\n",
        "    eval_keys = split(test_key, N)\n",
        "    tot_avg_mse = 0\n",
        "    for i in range(N):\n",
        "        # randomly sample a sine curve\n",
        "        A_key, w_key = split(sine_keys[i], 2)\n",
        "        # for one sine curve, sample M different training/testing sets\n",
        "        train_keys = split(eval_keys[i], M)\n",
        "        batch_from_same_task = eqx.filter_vmap(load_task, in_axes=(None, None, 0, None, None, None, None))(n_test_train, n_test, train_keys, test_key, A_key, w_key, False)\n",
        "        train_tasks, test_tasks = batch_from_same_task\n",
        "        batch_trains, batch_trains_labels = train_tasks\n",
        "        batch_tests, batch_tests_labels = test_tasks\n",
        "        # train with one inner step\n",
        "        test_models = eqx.filter_vmap(inner_step,in_axes=(None,0,0,None,None,None))(model, batch_trains, batch_trains_labels, batch_loss, inner_optim, inner_opt_state)\n",
        "        # average of mean squared errors:\n",
        "        avg_mse = eqx.filter_vmap(help_eval)(test_models, batch_tests, batch_tests_labels).mean()\n",
        "\n",
        "        tot_avg_mse += avg_mse\n",
        "    return tot_avg_mse/N\n",
        "  "
      ],
      "metadata": {
        "id": "YooZFjPCjiWG"
      },
      "execution_count": 19,
      "outputs": []
    },
    {
      "cell_type": "code",
      "source": [
        "def info_meta_test(expl_model, model, n_test_train, n_test, train_key, \n",
        "                   test_key, inner_step, inner_optim, inner_opt_state, batch_loss):\n",
        "\n",
        "    train_test, train_test_labels, test, test_labels = load_batch_of_tasks(n_test_train,\n",
        "                                                                           n_test, train_key, test_key, False)\n",
        "\n",
        "    preds_initial = eqx.filter_vmap(expl_model)(jnp.expand_dims(test,1))\n",
        "\n",
        "    test_sorted_indices = sorted(range(len(test)), key=lambda k: test[k])\n",
        "\n",
        "    test_sorted = test[jnp.array(test_sorted_indices)]\n",
        "    preds_initial_sorted = preds_initial[jnp.array(test_sorted_indices)]\n",
        "    test_labels_sorted = test_labels[jnp.array(test_sorted_indices)]\n",
        "\n",
        "    test_model = inner_step(model, train_test, train_test_labels, batch_loss, inner_optim, inner_opt_state)\n",
        "\n",
        "    preds_shot = eqx.filter_vmap(test_model)(jnp.expand_dims(test_sorted,1))\n",
        "    preds_shot = rearrange(preds_shot, \"a i -> (a i)\")\n",
        "\n",
        "    mse = (jnp.mean(jnp.square(preds_shot-test_labels_sorted)))  # mean squared error \n",
        "\n",
        "    pre_init_plt = (test_sorted, preds_initial_sorted)  # pre initialization\n",
        "    gt_plt = (test_sorted, test_labels_sorted)  # ground truth\n",
        "    kshot_plt = (test_sorted, preds_shot)  # K-shot learning \n",
        "    scatter_points = (train_test, train_test_labels)  # K points  \n",
        "\n",
        "    return mse, pre_init_plt, gt_plt, kshot_plt, scatter_points"
      ],
      "metadata": {
        "id": "7uABgCDy2soR"
      },
      "execution_count": 20,
      "outputs": []
    },
    {
      "cell_type": "code",
      "source": [
        "def disp_meta_test(pre_init_plts, gt_plt, kshot_plts, scatter_points, n_train, legends=None, title=''):\n",
        "\n",
        "    test_sorted, test_labels_sorted = gt_plt\n",
        "    plt.plot(test_sorted, test_labels_sorted, color='grey', label=\"Ground Truth\", linewidth=4)\n",
        "\n",
        "    colors = ['b', 'g', 'r', 'c']\n",
        "    c = 0\n",
        "    for pre_init_plt in pre_init_plts:\n",
        "        test_sorted, preds_initial_sorted = pre_init_plt\n",
        "        if legends is None:\n",
        "            plt.plot(test_sorted, preds_initial_sorted, color=colors[c], label=\"Pre initalization\", linestyle='dashed', linewidth=1)\n",
        "        else:\n",
        "            plt.plot(test_sorted, preds_initial_sorted, color=colors[c], linestyle='dashed', linewidth=1)\n",
        "        c += 1\n",
        "\n",
        "    c = 0\n",
        "    for kshot_plt in kshot_plts:\n",
        "        test_sorted, preds_shot = kshot_plt\n",
        "        if legends is None:\n",
        "            plt.plot(test_sorted, preds_shot, color=colors[c], label=str(n_train)+\"-shot learning\", linewidth=2)\n",
        "        else:\n",
        "            plt.plot(test_sorted, preds_shot, color=colors[c], label=legends[c], linewidth=2)\n",
        "        c += 1\n",
        "\n",
        "    train_test, train_test_labels = scatter_points\n",
        "    plt.scatter(train_test, train_test_labels, color='black',zorder=2)\n",
        "    plt.legend()\n",
        "    plt.title(title)\n",
        "    plt.show()\n",
        "    return "
      ],
      "metadata": {
        "id": "d4eMZAc60XnO"
      },
      "execution_count": 21,
      "outputs": []
    },
    {
      "cell_type": "code",
      "source": [
        "epochs = 60000\n",
        "meta_batch_size = 4 \n",
        "n_train = 5  # shot training \n",
        "n_test = 10  # shot testing \n",
        "n_meta_test = 100  # meta evaluation points \n",
        "test_keys = random.split(TEST_KEY, epochs)\n",
        "train_keys = random.split(TRAIN_KEY, epochs)"
      ],
      "metadata": {
        "id": "sOt92ZiDwgnE"
      },
      "execution_count": 22,
      "outputs": []
    },
    {
      "cell_type": "code",
      "source": [
        "# META SGD\n",
        "\n",
        "model = eqx.nn.MLP(1,1,40,2,key=MODEL_KEY)\n",
        "alpha = copy.deepcopy(eqx.filter(model,eqx.is_array))\n",
        "init_const = 0.05  # should be between 0.005 and 0.1\n",
        "alpha = tree_map(lambda x: init_const*jnp.ones(shape=x.shape), alpha)\n",
        "outer_optim = adam(1e-3)\n",
        "outer_opt_state = outer_optim.init(eqx.filter((model,alpha), eqx.is_array))  \n",
        "inner_optim = sgd(1) \n",
        "inner_opt_state = inner_optim.init(eqx.filter(model, eqx.is_array))\n",
        "\n",
        "dynamic_model, static_model = eqx.partition(model, eqx.is_array)\n",
        "\n",
        "@scan_tqdm(epochs)\n",
        "def scan_fun(carry,i):\n",
        "    dynamic_model, alpha, outer_opt_state = carry\n",
        "    train_keys_batch, test_keys_batch = random.split(train_keys[i], meta_batch_size),  random.split(test_keys[i], meta_batch_size)\n",
        "    batch_of_tasks = eqx.filter_vmap(load_batch_of_tasks, in_axes=(None, None, 0, 0))(n_train, n_test, train_keys_batch, test_keys_batch)\n",
        "    loss, (model, alpha), outer_opt_state = outer_step_METASGD((eqx.combine(dynamic_model,static_model), alpha), batch_loss, outer_optim, outer_opt_state,\n",
        "                                                    inner_step_METASGD, batch_of_tasks, inner_optim, inner_opt_state)\n",
        "    return (eqx.partition(model, eqx.is_array)[0], alpha, outer_opt_state), loss\n",
        "\n",
        "carry = (dynamic_model, alpha, outer_opt_state)\n",
        "(dynamic_model, alpha, outer_opt_state), losses = lax.scan(scan_fun,carry,jnp.arange(epochs))\n",
        "\n",
        "model = eqx.combine(dynamic_model,static_model)"
      ],
      "metadata": {
        "colab": {
          "base_uri": "https://localhost:8080/",
          "height": 49,
          "referenced_widgets": [
            "ca2c2a60f8794ef1b66d1fa2b78a1ac2",
            "a9954d859fb649c9898d3fa8406080a0",
            "8f066eac852f4350b664aee01bf73e85",
            "77562c7ecb174a92ae0ccf220e716209",
            "d55c099c7d6a4e8c9de595371dd12f56",
            "eee97cb2f78648c6ad169f5660d62ed0",
            "abec1a6fc9194f4f9419360e551e7324",
            "daa8bed4f39d47e0be47f05fc547b257",
            "ae3b01e24521438385cb46a15e3ebd5a",
            "52f60415351745ccb3c47323adcf1854",
            "dcf0f6c1550441f78da0f45140c1097e"
          ]
        },
        "id": "HMph1bpQoE2G",
        "outputId": "0aec6ac8-34a5-471e-fd46-3051557aef91"
      },
      "execution_count": 23,
      "outputs": [
        {
          "output_type": "display_data",
          "data": {
            "text/plain": [
              "  0%|          | 0/60000 [00:00<?, ?it/s]"
            ],
            "application/vnd.jupyter.widget-view+json": {
              "version_major": 2,
              "version_minor": 0,
              "model_id": "ca2c2a60f8794ef1b66d1fa2b78a1ac2"
            }
          },
          "metadata": {}
        }
      ]
    },
    {
      "cell_type": "code",
      "source": [
        "evaluation((model, alpha), n_train, n_meta_test, TRAIN_KEY, \n",
        "                   TEST_KEY, inner_step_METASGD, inner_optim, inner_opt_state, batch_loss)"
      ],
      "metadata": {
        "colab": {
          "base_uri": "https://localhost:8080/"
        },
        "id": "yzBW4lO4pRLh",
        "outputId": "9d55557d-4493-4633-fb65-38ef0613ba97"
      },
      "execution_count": 24,
      "outputs": [
        {
          "output_type": "execute_result",
          "data": {
            "text/plain": [
              "Array(1.3261265, dtype=float32)"
            ]
          },
          "metadata": {},
          "execution_count": 24
        }
      ]
    },
    {
      "cell_type": "code",
      "source": [
        "mse, pre_init_plt_metasgd, gt_plt, kshot_plt_metasgd, scatter_points = info_meta_test(model,(model, alpha), n_train, n_meta_test, EX_TRAIN_KEY,\n",
        "                                                                      EX_TEST_KEY, inner_step_METASGD, inner_optim, inner_opt_state, \n",
        "                                                                      batch_loss)\n",
        "disp_meta_test([pre_init_plt_metasgd], gt_plt, [kshot_plt_metasgd], scatter_points, n_train, title=\"META-SGD\")\n",
        "mse"
      ],
      "metadata": {
        "colab": {
          "base_uri": "https://localhost:8080/",
          "height": 470
        },
        "id": "Zwf2KhhOw9cn",
        "outputId": "68afc7a0-56f2-49b8-a5ac-042da202515b"
      },
      "execution_count": 25,
      "outputs": [
        {
          "output_type": "display_data",
          "data": {
            "text/plain": [
              "<Figure size 640x480 with 1 Axes>"
            ],
            "image/png": "[encoded data removed]"
          },
          "metadata": {}
        },
        {
          "output_type": "execute_result",
          "data": {
            "text/plain": [
              "Array(0.3069425, dtype=float32)"
            ]
          },
          "metadata": {},
          "execution_count": 25
        }
      ]
    },
    {
      "cell_type": "code",
      "source": [
        "# MAML\n",
        "\n",
        "model = eqx.nn.MLP(1,1,40,2,key=MODEL_KEY)\n",
        "outer_optim = adam(1e-3)\n",
        "outer_opt_state = outer_optim.init(eqx.filter(model, eqx.is_array))  \n",
        "inner_optim = sgd(0.01) \n",
        "inner_opt_state = inner_optim.init(eqx.filter(model, eqx.is_array))\n",
        "\n",
        "dynamic_model, static_model = eqx.partition(model, eqx.is_array)\n",
        "\n",
        "@scan_tqdm(epochs)\n",
        "def scan_fun(carry,i):\n",
        "    dynamic_model, outer_opt_state = carry\n",
        "    train_keys_batch, test_keys_batch = random.split(train_keys[i], meta_batch_size),  random.split(test_keys[i], meta_batch_size)\n",
        "    batch_of_tasks = eqx.filter_vmap(load_batch_of_tasks, in_axes=(None, None, 0, 0))(n_train, n_test, train_keys_batch, test_keys_batch)\n",
        "    loss, model, outer_opt_state = outer_step_MAML(eqx.combine(dynamic_model,static_model), batch_loss, outer_optim, outer_opt_state,\n",
        "                                                    inner_step_MAML, batch_of_tasks, inner_optim, inner_opt_state)\n",
        "    return (eqx.partition(model, eqx.is_array)[0], outer_opt_state), loss\n",
        "\n",
        "carry = (dynamic_model, outer_opt_state)\n",
        "(dynamic_model, outer_opt_state), losses = lax.scan(scan_fun,carry,jnp.arange(epochs))\n",
        "\n",
        "model = eqx.combine(dynamic_model,static_model)"
      ],
      "metadata": {
        "colab": {
          "base_uri": "https://localhost:8080/",
          "height": 49,
          "referenced_widgets": [
            "32b28614168c438aa485945859205d51",
            "8829a49eee7a4bfc84fa0f2cd9343158",
            "56a088250592404cb290ba606c4d3465",
            "b238df2f8ef3436eaf4882040f3d368b",
            "edb4610e4d3c4ee797a9b47645c2679c",
            "260b69b15cd2410da6499328fa071de3",
            "1e5bb68c1c014f0eb2e7eb6430439966",
            "90eb8cfa0d044083b99e4f2e05160656",
            "6dc021fe625a4e47b19df2bae9c2fea5",
            "a2b36fadb8b8471b929f1b61470b1e0c",
            "0517726d4a324535acf67d2097031184"
          ]
        },
        "id": "E2_PPMDj2J91",
        "outputId": "e1ace705-248f-4c4b-8209-d0d4217149c7"
      },
      "execution_count": 26,
      "outputs": [
        {
          "output_type": "display_data",
          "data": {
            "text/plain": [
              "  0%|          | 0/60000 [00:00<?, ?it/s]"
            ],
            "application/vnd.jupyter.widget-view+json": {
              "version_major": 2,
              "version_minor": 0,
              "model_id": "32b28614168c438aa485945859205d51"
            }
          },
          "metadata": {}
        }
      ]
    },
    {
      "cell_type": "code",
      "source": [
        "evaluation(model, n_train, n_meta_test, TRAIN_KEY, \n",
        "                   TEST_KEY, inner_step_MAML, inner_optim, inner_opt_state, batch_loss)"
      ],
      "metadata": {
        "colab": {
          "base_uri": "https://localhost:8080/"
        },
        "id": "KeY1kX329WGd",
        "outputId": "1ade16d7-e675-46b3-f0b6-74c6a0af9773"
      },
      "execution_count": 27,
      "outputs": [
        {
          "output_type": "execute_result",
          "data": {
            "text/plain": [
              "Array(1.3867679, dtype=float32)"
            ]
          },
          "metadata": {},
          "execution_count": 27
        }
      ]
    },
    {
      "cell_type": "code",
      "source": [
        "mse, pre_init_plt_maml, gt_plt, kshot_plt_maml, scatter_points = info_meta_test(model, model, n_train, n_meta_test, EX_TRAIN_KEY,\n",
        "                                                                      EX_TEST_KEY, inner_step_MAML, inner_optim, inner_opt_state, \n",
        "                                                                      batch_loss)\n",
        "disp_meta_test([pre_init_plt_maml], gt_plt, [kshot_plt_maml], scatter_points, n_train, title=\"MAML\")\n",
        "mse"
      ],
      "metadata": {
        "colab": {
          "base_uri": "https://localhost:8080/",
          "height": 470
        },
        "id": "JEsmYQ3i_RZd",
        "outputId": "eb764d95-2c50-4cc3-9aea-aed35bbe73fc"
      },
      "execution_count": 28,
      "outputs": [
        {
          "output_type": "display_data",
          "data": {
            "text/plain": [
              "<Figure size 640x480 with 1 Axes>"
            ],
            "image/png": "[encoded data removed]"
          },
          "metadata": {}
        },
        {
          "output_type": "execute_result",
          "data": {
            "text/plain": [
              "Array(0.5352239, dtype=float32)"
            ]
          },
          "metadata": {},
          "execution_count": 28
        }
      ]
    },
    {
      "cell_type": "code",
      "source": [
        "# plot META-SGD and MAML together \n",
        "disp_meta_test([pre_init_plt_metasgd, pre_init_plt_maml], gt_plt, [kshot_plt_metasgd, kshot_plt_maml],\n",
        "               scatter_points, n_train, legends=['METASGD', 'MAML'], title=\"MAML vs METASGD\")"
      ],
      "metadata": {
        "colab": {
          "base_uri": "https://localhost:8080/",
          "height": 452
        },
        "id": "s81hL4OoKuHu",
        "outputId": "bb250a10-8f30-4483-8776-d6544c2760f0"
      },
      "execution_count": 29,
      "outputs": [
        {
          "output_type": "display_data",
          "data": {
            "text/plain": [
              "<Figure size 640x480 with 1 Axes>"
            ],
            "image/png": "[encoded data removed]"
          },
          "metadata": {}
        }
      ]
    },
    {
      "cell_type": "code",
      "source": [
        "# FOMAML\n",
        "\n",
        "model = eqx.nn.MLP(1,1,40,2,key=MODEL_KEY)\n",
        "outer_optim = adam(1e-3)\n",
        "outer_opt_state = outer_optim.init(eqx.filter(model, eqx.is_array)) \n",
        "inner_optim = sgd(0.01) \n",
        "inner_opt_state = inner_optim.init(eqx.filter(model, eqx.is_array))\n",
        "\n",
        "dynamic_model, static_model = eqx.partition(model, eqx.is_array)\n",
        "\n",
        "@scan_tqdm(epochs)\n",
        "def scan_fun(carry,i):\n",
        "    dynamic_model, outer_opt_state = carry\n",
        "    train_keys_batch, test_keys_batch = random.split(train_keys[i], meta_batch_size),  random.split(test_keys[i], meta_batch_size)\n",
        "    batch_of_tasks = eqx.filter_vmap(load_batch_of_tasks, in_axes=(None, None, 0, 0))(n_train, n_test, train_keys_batch, test_keys_batch)\n",
        "    loss, model, outer_opt_state = outer_step_FOMAML(eqx.combine(dynamic_model,static_model), batch_loss, outer_optim, outer_opt_state,\n",
        "                                                    inner_step_FOMAML, batch_of_tasks, inner_optim, inner_opt_state)\n",
        "    return (eqx.partition(model, eqx.is_array)[0], outer_opt_state), loss\n",
        "\n",
        "carry = (dynamic_model, outer_opt_state)\n",
        "(dynamic_model, outer_opt_state), losses = lax.scan(scan_fun,carry,jnp.arange(epochs))\n",
        "\n",
        "model = eqx.combine(dynamic_model,static_model)"
      ],
      "metadata": {
        "colab": {
          "base_uri": "https://localhost:8080/",
          "height": 49,
          "referenced_widgets": [
            "6525cb1cc37a491bab7f200eaeb833e5",
            "f1c175633d83428f921bde8641e33f50",
            "be70aca4b6fb4d94aae581e3d1bdd541",
            "ebce655ee6354782b2a19c6f2a5fd7f5",
            "d1eb8e368c524a7faef68e4cdd47266a",
            "7d9d5198ba254a45a27e26a1344cee85",
            "bddcfb2b64804094a0e02c2adb9d270f",
            "852d2e314d2e443b9822465bd8fe7d98",
            "57725f9c5e3d45b9b33b9fc345651b78",
            "6263bca609244c559d41b90f663917ec",
            "5c1b45538269473f93ca9e0f66c38a6c"
          ]
        },
        "id": "d4hlYxw3_YUb",
        "outputId": "9f5fb0f8-0f51-46f1-9d6f-62c1d4fc4f2a"
      },
      "execution_count": 30,
      "outputs": [
        {
          "output_type": "display_data",
          "data": {
            "text/plain": [
              "  0%|          | 0/60000 [00:00<?, ?it/s]"
            ],
            "application/vnd.jupyter.widget-view+json": {
              "version_major": 2,
              "version_minor": 0,
              "model_id": "6525cb1cc37a491bab7f200eaeb833e5"
            }
          },
          "metadata": {}
        }
      ]
    },
    {
      "cell_type": "code",
      "source": [
        "evaluation(model, n_train, n_meta_test, TRAIN_KEY, \n",
        "                   TEST_KEY, inner_step_FOMAML, inner_optim, inner_opt_state, batch_loss)"
      ],
      "metadata": {
        "colab": {
          "base_uri": "https://localhost:8080/"
        },
        "id": "yWr4iEpY-LXB",
        "outputId": "a7d3f948-d8af-4e42-82eb-f089798e1b4f"
      },
      "execution_count": 31,
      "outputs": [
        {
          "output_type": "execute_result",
          "data": {
            "text/plain": [
              "Array(1.2793216, dtype=float32)"
            ]
          },
          "metadata": {},
          "execution_count": 31
        }
      ]
    },
    {
      "cell_type": "code",
      "source": [
        "mse, pre_init_plt_fomaml, gt_plt, kshot_plt_fomaml, scatter_points = info_meta_test(model, model, n_train, n_meta_test, EX_TRAIN_KEY,\n",
        "                                                                      EX_TEST_KEY, inner_step_FOMAML, inner_optim, inner_opt_state, \n",
        "                                                                      batch_loss)\n",
        "disp_meta_test([pre_init_plt_fomaml], gt_plt, [kshot_plt_fomaml], scatter_points, n_train, title=\"FOMAML\")\n",
        "mse"
      ],
      "metadata": {
        "colab": {
          "base_uri": "https://localhost:8080/",
          "height": 470
        },
        "id": "5os1lfsbCNrc",
        "outputId": "4e59e34d-d9c2-42ef-9076-1f148af9545e"
      },
      "execution_count": 32,
      "outputs": [
        {
          "output_type": "display_data",
          "data": {
            "text/plain": [
              "<Figure size 640x480 with 1 Axes>"
            ],
            "image/png": "[encoded data removed]"
          },
          "metadata": {}
        },
        {
          "output_type": "execute_result",
          "data": {
            "text/plain": [
              "Array(0.37203583, dtype=float32)"
            ]
          },
          "metadata": {},
          "execution_count": 32
        }
      ]
    },
    {
      "cell_type": "code",
      "source": [
        "# REPTILE\n",
        "epochs = 60000\n",
        "\n",
        "model = eqx.nn.MLP(1,1,64,2,key=MODEL_KEY)\n",
        "outer_optim = None\n",
        "outer_opt_state = None\n",
        "inner_optim = adam(1e-3) \n",
        "inner_opt_state = inner_optim.init(eqx.filter(model, eqx.is_array))\n",
        "epsilon = 0.01\n",
        "\n",
        "dynamic_model, static_model = eqx.partition(model, eqx.is_array)\n",
        "\n",
        "@scan_tqdm(epochs)\n",
        "def scan_fun(carry,i):\n",
        "    dynamic_model, outer_opt_state = carry\n",
        "    train_keys_batch, test_keys_batch = random.split(train_keys[i], meta_batch_size),  random.split(test_keys[i], meta_batch_size)\n",
        "    batch_of_tasks = eqx.filter_vmap(load_batch_of_tasks, in_axes=(None, None, 0, 0))(n_train, n_test, train_keys_batch, test_keys_batch)\n",
        "    loss, model, outer_opt_state = outer_step_REPTILE(eqx.combine(dynamic_model,static_model), batch_loss, outer_optim, outer_opt_state,\n",
        "                                                    inner_step_REPTILE, batch_of_tasks,inner_optim, inner_opt_state, epsilon)\n",
        "    return (eqx.partition(model, eqx.is_array)[0], outer_opt_state), loss\n",
        "\n",
        "carry = (dynamic_model, outer_opt_state)\n",
        "(dynamic_model, outer_opt_state), losses = lax.scan(scan_fun,carry,jnp.arange(epochs))\n",
        "\n",
        "model = eqx.combine(dynamic_model,static_model)"
      ],
      "metadata": {
        "colab": {
          "base_uri": "https://localhost:8080/",
          "height": 49,
          "referenced_widgets": [
            "ffce015c442848278432cd1ae1da6a14",
            "f55507903dec4ecc9dc3aea5f8316549",
            "5c1d3e212d644276928e8c3eb1bc3be7",
            "487df4ede0b04369a6835f537d280491",
            "3eee243bdbc94c0b8350e884b672c313",
            "4facde55eb894f46a8c1d9e145242c69",
            "ef8a3b85b4ef4516a428b0c75bcb3c6a",
            "2572758bd92b428e946df64359341d0a",
            "e66ad71b4fff43acb517062f20222b85",
            "26b585f4a96a4f4db0cc9f2fde0a7465",
            "c809bb6a2bc04852ba59b951c943fd5a"
          ]
        },
        "id": "DtGI0vZ7Cw-W",
        "outputId": "09058512-06c0-4f13-c65c-a7462ddfddaa"
      },
      "execution_count": 33,
      "outputs": [
        {
          "output_type": "display_data",
          "data": {
            "text/plain": [
              "  0%|          | 0/60000 [00:00<?, ?it/s]"
            ],
            "application/vnd.jupyter.widget-view+json": {
              "version_major": 2,
              "version_minor": 0,
              "model_id": "ffce015c442848278432cd1ae1da6a14"
            }
          },
          "metadata": {}
        }
      ]
    },
    {
      "cell_type": "code",
      "source": [
        "evaluation(model, n_train, n_meta_test, TRAIN_KEY, \n",
        "                   TEST_KEY, inner_step_REPTILE, inner_optim, inner_opt_state, batch_loss)"
      ],
      "metadata": {
        "colab": {
          "base_uri": "https://localhost:8080/"
        },
        "id": "58Y8czUq-dC1",
        "outputId": "50bd7a7f-1f3b-4485-ed56-f2009befe015"
      },
      "execution_count": 34,
      "outputs": [
        {
          "output_type": "execute_result",
          "data": {
            "text/plain": [
              "Array(2.3314555, dtype=float32)"
            ]
          },
          "metadata": {},
          "execution_count": 34
        }
      ]
    },
    {
      "cell_type": "code",
      "source": [
        "mse, pre_init_plt_reptile, gt_plt, kshot_plt_reptile, scatter_points = info_meta_test(model, model, n_train, n_meta_test, EX_TRAIN_KEY,\n",
        "                                                                      EX_TEST_KEY, inner_step_REPTILE, inner_optim, inner_opt_state, \n",
        "                                                                      batch_loss)\n",
        "disp_meta_test([pre_init_plt_reptile], gt_plt, [kshot_plt_reptile], scatter_points, n_train, title=\"REPTILE\")\n",
        "mse"
      ],
      "metadata": {
        "id": "cQ6W4jDYF8_m",
        "colab": {
          "base_uri": "https://localhost:8080/",
          "height": 470
        },
        "outputId": "1364f088-4091-4070-cfcc-92e8cab3f010"
      },
      "execution_count": 35,
      "outputs": [
        {
          "output_type": "display_data",
          "data": {
            "text/plain": [
              "<Figure size 640x480 with 1 Axes>"
            ],
            "image/png": "[encoded data removed]"
          },
          "metadata": {}
        },
        {
          "output_type": "execute_result",
          "data": {
            "text/plain": [
              "Array(2.1288865, dtype=float32)"
            ]
          },
          "metadata": {},
          "execution_count": 35
        }
      ]
    },
    {
      "cell_type": "code",
      "source": [],
      "metadata": {
        "id": "bH7RQGR9FzXM"
      },
      "execution_count": 35,
      "outputs": []
    }
  ]
}