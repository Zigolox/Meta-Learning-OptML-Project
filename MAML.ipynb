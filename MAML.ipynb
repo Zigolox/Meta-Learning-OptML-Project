{
  "cells": [
    {
      "cell_type": "code",
      "execution_count": 1,
      "metadata": {
        "id": "ukvIOC7785yI",
        "tags": []
      },
      "outputs": [],
      "source": [
        "#!git clone https://github.com/zigolox/importance-weighted-autoencoders.git\n",
        "#%cd \"importance-weighted-autoencoders/\""
      ]
    },
    {
      "cell_type": "code",
      "execution_count": 2,
      "metadata": {
        "id": "8iauXw5b85yO",
        "tags": []
      },
      "outputs": [],
      "source": [
        "%%capture\n",
        "!pip install --upgrade einops optax equinox distrax jaxopt"
      ]
    },
    {
      "cell_type": "code",
      "execution_count": 3,
      "metadata": {
        "id": "NUL-Ypqa85yW",
        "tags": []
      },
      "outputs": [],
      "source": [
        "from jax import numpy as jnp\n",
        "from jax import random, value_and_grad, lax\n",
        "from optax import adam, apply_updates, chain, clip, softmax_cross_entropy_with_integer_labels\n",
        "from einops import rearrange, reduce, repeat\n",
        "from functools import partial\n",
        "from tqdm.notebook import tqdm\n",
        "import equinox as eqx\n",
        "import tensorflow_datasets as tfds\n",
        "import tensorflow as tf\n",
        "from jax.random import split, normal, randint\n",
        "from jax import lax, vmap, checkpoint\n",
        "from distrax import Normal, Bernoulli\n",
        "from jax.nn import gelu, sigmoid\n",
        "from jax import disable_jit\n",
        "from jaxopt import FixedPointIteration\n",
        "\n",
        "\n",
        "\n",
        "# Typing \n",
        "from jax import Array\n",
        "from typing import Optional, Sequence, Tuple, Any\n",
        "from jax.random import PRNGKeyArray\n",
        "\n",
        "SEED = 0\n",
        "MODEL_KEY = random.PRNGKey(SEED)"
      ]
    },
    {
      "cell_type": "code",
      "execution_count": 14,
      "metadata": {
        "colab": {
          "base_uri": "https://localhost:8080/",
          "height": 105,
          "referenced_widgets": [
            "5b7e0ca21f884bbbbc1742c3fe683156",
            "b353b0a2e58a4088a202e13c4c3304bc",
            "ae9b1f3ba62c4418b14796217c7d509a",
            "23e06e8ee7754ca7ae94dfd367543986",
            "1ea9f497b9ee493ea2552c13fe2dda9d",
            "e774a1158c9741508248341f8248b80c",
            "84c10ce5f8524dab84cc05a1100c6dee",
            "66595615e8504c92a1eea4c8662896ae",
            "1cc51914ebd147aeb720a81664a5c6bd",
            "e691973f862041c2a845cc9ac3ba4474",
            "f750f3c2ad92460a84ec55d44fb4b13c"
          ]
        },
        "id": "rkd5LUykkSA4",
        "outputId": "81e0d8b8-118b-44f1-9478-5ec0ea9431df"
      },
      "outputs": [
        {
          "output_type": "stream",
          "name": "stdout",
          "text": [
            "Downloading and preparing dataset 11.06 MiB (download: 11.06 MiB, generated: 21.00 MiB, total: 32.06 MiB) to data/mnist/3.0.1...\n"
          ]
        },
        {
          "output_type": "display_data",
          "data": {
            "text/plain": [
              "Dl Completed...:   0%|          | 0/5 [00:00<?, ? file/s]"
            ],
            "application/vnd.jupyter.widget-view+json": {
              "version_major": 2,
              "version_minor": 0,
              "model_id": "5b7e0ca21f884bbbbc1742c3fe683156"
            }
          },
          "metadata": {}
        },
        {
          "output_type": "stream",
          "name": "stdout",
          "text": [
            "Dataset mnist downloaded and prepared to data/mnist/3.0.1. Subsequent calls will reuse this data.\n"
          ]
        }
      ],
      "source": [
        "def normalize_img(omni,_):\n",
        "    \"\"\"Normalizes images: `uint8` -> `float32`.\"\"\"\n",
        "    x = rearrange(omni[\"image\"], \"h w c -> c h w\")\n",
        "    return {'alphabet': omni[\"alphabet\"],\n",
        "    'alphabet_char_id': omni[\"alphabet_char_id\"],\n",
        "    'image': omni[\"image\"],\n",
        "    'label': omni[\"label\"] }\n",
        "\n",
        "\n",
        "# Load the dataset\n",
        "#train, test = tfds.load(\"omniglot\", split=[\"train\",\"test\"], data_dir=\"data\", as_supervised=True)\n",
        "train, test = tfds.load(\"mnist\", split=[\"train\",\"test\"], data_dir=\"data\", as_supervised=True)\n",
        "\n",
        "#train = train.map(normalize_img, num_parallel_calls=tf.data.AUTOTUNE)\n",
        "train_img, train_labels = [jnp.array(i)[:6000] for i in list(zip(*train.as_numpy_iterator()))]\n",
        "train_img /= 255\n",
        "#test = test.map(normalize_img, num_parallel_calls=tf.data.AUTOTUNE)\n",
        "test_img, test_labels = [jnp.array(i)[:6000] for i in list(zip(*test.as_numpy_iterator()))]\n",
        "test_img /= 255\n",
        "\n",
        "\n"
      ]
    },
    {
      "cell_type": "code",
      "execution_count": 41,
      "metadata": {
        "id": "-YxmZUxmkSA5"
      },
      "outputs": [],
      "source": [
        "def batch_loss(model, images: Array, labels: Array) -> Array:\n",
        "    '''Compute the loss.'''\n",
        "\n",
        "    def loss(image: Array, label: Array):\n",
        "        pred = model(image.ravel())\n",
        "\n",
        "        #return jnp.linalg.norm(pred-label)**2/len(pred)\n",
        "\n",
        "        return  softmax_cross_entropy_with_integer_labels(pred,label)\n",
        "\n",
        "    # Mean over the batch\n",
        "    return vmap(loss)(images, labels).mean()"
      ]
    },
    {
      "cell_type": "code",
      "execution_count": 51,
      "metadata": {
        "colab": {
          "base_uri": "https://localhost:8080/",
          "height": 430
        },
        "id": "U9_1sSjHkSA6",
        "outputId": "93e83c8c-f536-49a1-8c29-c0c5f0df1234"
      },
      "outputs": [
        {
          "output_type": "display_data",
          "data": {
            "text/plain": [
              "<Figure size 640x480 with 1 Axes>"
            ],
            "image/png": "[encoded data removed]"
          },
          "metadata": {}
        }
      ],
      "source": [
        "import matplotlib.pyplot as plt\n",
        "# Choose simple image to predict\n",
        "train_image = train_img[2]\n",
        "plt.imshow(train_image)\n",
        "plt.show()"
      ]
    },
    {
      "cell_type": "code",
      "execution_count": 43,
      "metadata": {
        "id": "S3VuD9z285yX",
        "tags": []
      },
      "outputs": [],
      "source": [
        "epochs = 80\n",
        "batch_size = 100\n",
        "\n",
        "# Initialize the model\n",
        "#model = eqx.nn.MLP(3*105**2,1623,5000,2,key=MODEL_KEY)\n",
        "model = eqx.nn.MLP(1*28**2,10,5000,2,key=MODEL_KEY)\n",
        "# Initialize the optimizer\n",
        "optim = adam(3e-5, eps=1e-04)\n",
        "opt_state = optim.init(eqx.filter(model, eqx.is_array))\n",
        "\n",
        "# Training step function\n",
        "@eqx.filter_jit\n",
        "def step(model, opt_state, image, labels):\n",
        "    loss, grad = eqx.filter_value_and_grad(batch_loss)(model, image, labels)\n",
        "    updates, opt_state = optim.update(grad, opt_state, model)\n",
        "    model = eqx.apply_updates(model, updates)\n",
        "    return model, opt_state, loss"
      ]
    },
    {
      "cell_type": "code",
      "execution_count": 44,
      "metadata": {
        "colab": {
          "base_uri": "https://localhost:8080/",
          "height": 49,
          "referenced_widgets": [
            "0888b2dd9c374e4d80e56b15bd645582",
            "8f1d1a7d25ab4ccb8301a824322af72c",
            "00348d4f09bc429589e608f9aa40f262",
            "bd00905bb4e94256b4668ef44d27e299",
            "22b01831360444519e7351785dab2977",
            "50ddbc55137d4bbea6db81d54ac8f39e",
            "bdf485da29d0421eba1651b14d121e39",
            "975da130feb94ced95d9a210d766121f",
            "77ed784435ff4a0c94d911ec3405bb56",
            "48a119f5cef8499292143838ad5ab80d",
            "ca167f96c0514e23b07442d73b503257"
          ]
        },
        "id": "b4K1O27C85yc",
        "outputId": "97a2b498-3176-45de-c33d-68a24536d1fc",
        "tags": []
      },
      "outputs": [
        {
          "output_type": "display_data",
          "data": {
            "text/plain": [
              "  0%|          | 0/80 [00:00<?, ?it/s]"
            ],
            "application/vnd.jupyter.widget-view+json": {
              "version_major": 2,
              "version_minor": 0,
              "model_id": "0888b2dd9c374e4d80e56b15bd645582"
            }
          },
          "metadata": {}
        }
      ],
      "source": [
        "# Train the model\n",
        "\n",
        "pbar = tqdm(random.split(MODEL_KEY,epochs),total=epochs)\n",
        "for key in pbar:\n",
        "    perm = random.permutation(key,jnp.arange(len(train_labels)))\n",
        "    train_img_perm = train_img[perm]\n",
        "    batched_img = rearrange(train_img_perm, \"(l b) h w c -> l b h w c\",b=batch_size)\n",
        "    del train_img_perm\n",
        "    train_labels_perm = train_labels[perm]\n",
        "    batched_labels = rearrange(train_labels_perm, \"(l b) -> l b\",b=batch_size)\n",
        "    del train_labels_perm\n",
        "    for image,labels in zip(batched_img,batched_labels):\n",
        "        model,opt_state, loss = step(model, opt_state, image, labels)\n",
        "        pbar.set_postfix({'loss': f'{loss.mean():.3}'})"
      ]
    },
    {
      "cell_type": "code",
      "source": [
        "jnp.argmax(sigmoid(model(train_img[2].ravel())))"
      ],
      "metadata": {
        "colab": {
          "base_uri": "https://localhost:8080/"
        },
        "id": "j-ooDwiL9ztO",
        "outputId": "d5cd0ae8-1d07-4f1f-d2dd-77d1660360de"
      },
      "execution_count": 52,
      "outputs": [
        {
          "output_type": "execute_result",
          "data": {
            "text/plain": [
              "Array(0, dtype=int32)"
            ]
          },
          "metadata": {},
          "execution_count": 52
        }
      ]
    },
    {
      "cell_type": "code",
      "execution_count": null,
      "metadata": {
        "id": "EP1hiM8q_MwV"
      },
      "outputs": [],
      "source": [
        "import matplotlib.pyplot as plt\n",
        "plt.imshow(Bernoulli(logits=model(seed_image,max_steps,key=MODEL_KEY)[0][0]).mean())"
      ]
    },
    {
      "cell_type": "code",
      "source": [
        "    @eqx.filter_jit\n",
        "    def scan_step(carry,it):\n",
        "        params, opt_state = carry\n",
        "        x, key = it\n",
        "        model = eqx.combine(params,static)\n",
        "        model, opt_state, loss = step(model,opt_state,x,key)\n",
        "        return (eqx.filter(model,eqx.is_array),opt_state), loss\n"
      ],
      "metadata": {
        "id": "YHd8pKch4-oo"
      },
      "execution_count": null,
      "outputs": []
    }
  ],
  "metadata": {
    "accelerator": "GPU",
    "colab": {
      "provenance": []
    },
    "gpuClass": "standard",
    "kernelspec": {
      "display_name": "Python 3",
      "language": "python",
      "name": "python3"
    },
    "language_info": {
      "codemirror_mode": {
        "name": "ipython",
        "version": 3
      },
      "file_extension": ".py",
      "mimetype": "text/x-python",
      "name": "python",
      "nbconvert_exporter": "python",
      "pygments_lexer": "ipython3",
      "version": "3.8.11"
    },
    "widgets": {
      "application/vnd.jupyter.widget-state+json": {
        "5b7e0ca21f884bbbbc1742c3fe683156": {
          "model_module": "@jupyter-widgets/controls",
          "model_name": "HBoxModel",
          "model_module_version": "1.5.0",
          "state": {
            "_dom_classes": [],
            "_model_module": "@jupyter-widgets/controls",
            "_model_module_version": "1.5.0",
            "_model_name": "HBoxModel",
            "_view_count": null,
            "_view_module": "@jupyter-widgets/controls",
            "_view_module_version": "1.5.0",
            "_view_name": "HBoxView",
            "box_style": "",
            "children": [
              "IPY_MODEL_b353b0a2e58a4088a202e13c4c3304bc",
              "IPY_MODEL_ae9b1f3ba62c4418b14796217c7d509a",
              "IPY_MODEL_23e06e8ee7754ca7ae94dfd367543986"
            ],
            "layout": "IPY_MODEL_1ea9f497b9ee493ea2552c13fe2dda9d"
          }
        },
        "b353b0a2e58a4088a202e13c4c3304bc": {
          "model_module": "@jupyter-widgets/controls",
          "model_name": "HTMLModel",
          "model_module_version": "1.5.0",
          "state": {
            "_dom_classes": [],
            "_model_module": "@jupyter-widgets/controls",
            "_model_module_version": "1.5.0",
            "_model_name": "HTMLModel",
            "_view_count": null,
            "_view_module": "@jupyter-widgets/controls",
            "_view_module_version": "1.5.0",
            "_view_name": "HTMLView",
            "description": "",
            "description_tooltip": null,
            "layout": "IPY_MODEL_e774a1158c9741508248341f8248b80c",
            "placeholder": "​",
            "style": "IPY_MODEL_84c10ce5f8524dab84cc05a1100c6dee",
            "value": "Dl Completed...: 100%"
          }
        },
        "ae9b1f3ba62c4418b14796217c7d509a": {
          "model_module": "@jupyter-widgets/controls",
          "model_name": "FloatProgressModel",
          "model_module_version": "1.5.0",
          "state": {
            "_dom_classes": [],
            "_model_module": "@jupyter-widgets/controls",
            "_model_module_version": "1.5.0",
            "_model_name": "FloatProgressModel",
            "_view_count": null,
            "_view_module": "@jupyter-widgets/controls",
            "_view_module_version": "1.5.0",
            "_view_name": "ProgressView",
            "bar_style": "success",
            "description": "",
            "description_tooltip": null,
            "layout": "IPY_MODEL_66595615e8504c92a1eea4c8662896ae",
            "max": 5,
            "min": 0,
            "orientation": "horizontal",
            "style": "IPY_MODEL_1cc51914ebd147aeb720a81664a5c6bd",
            "value": 5
          }
        },
        "23e06e8ee7754ca7ae94dfd367543986": {
          "model_module": "@jupyter-widgets/controls",
          "model_name": "HTMLModel",
          "model_module_version": "1.5.0",
          "state": {
            "_dom_classes": [],
            "_model_module": "@jupyter-widgets/controls",
            "_model_module_version": "1.5.0",
            "_model_name": "HTMLModel",
            "_view_count": null,
            "_view_module": "@jupyter-widgets/controls",
            "_view_module_version": "1.5.0",
            "_view_name": "HTMLView",
            "description": "",
            "description_tooltip": null,
            "layout": "IPY_MODEL_e691973f862041c2a845cc9ac3ba4474",
            "placeholder": "​",
            "style": "IPY_MODEL_f750f3c2ad92460a84ec55d44fb4b13c",
            "value": " 5/5 [00:00&lt;00:00, 14.71 file/s]"
          }
        },
        "1ea9f497b9ee493ea2552c13fe2dda9d": {
          "model_module": "@jupyter-widgets/base",
          "model_name": "LayoutModel",
          "model_module_version": "1.2.0",
          "state": {
            "_model_module": "@jupyter-widgets/base",
            "_model_module_version": "1.2.0",
            "_model_name": "LayoutModel",
            "_view_count": null,
            "_view_module": "@jupyter-widgets/base",
            "_view_module_version": "1.2.0",
            "_view_name": "LayoutView",
            "align_content": null,
            "align_items": null,
            "align_self": null,
            "border": null,
            "bottom": null,
            "display": null,
            "flex": null,
            "flex_flow": null,
            "grid_area": null,
            "grid_auto_columns": null,
            "grid_auto_flow": null,
            "grid_auto_rows": null,
            "grid_column": null,
            "grid_gap": null,
            "grid_row": null,
            "grid_template_areas": null,
            "grid_template_columns": null,
            "grid_template_rows": null,
            "height": null,
            "justify_content": null,
            "justify_items": null,
            "left": null,
            "margin": null,
            "max_height": null,
            "max_width": null,
            "min_height": null,
            "min_width": null,
            "object_fit": null,
            "object_position": null,
            "order": null,
            "overflow": null,
            "overflow_x": null,
            "overflow_y": null,
            "padding": null,
            "right": null,
            "top": null,
            "visibility": null,
            "width": null
          }
        },
        "e774a1158c9741508248341f8248b80c": {
          "model_module": "@jupyter-widgets/base",
          "model_name": "LayoutModel",
          "model_module_version": "1.2.0",
          "state": {
            "_model_module": "@jupyter-widgets/base",
            "_model_module_version": "1.2.0",
            "_model_name": "LayoutModel",
            "_view_count": null,
            "_view_module": "@jupyter-widgets/base",
            "_view_module_version": "1.2.0",
            "_view_name": "LayoutView",
            "align_content": null,
            "align_items": null,
            "align_self": null,
            "border": null,
            "bottom": null,
            "display": null,
            "flex": null,
            "flex_flow": null,
            "grid_area": null,
            "grid_auto_columns": null,
            "grid_auto_flow": null,
            "grid_auto_rows": null,
            "grid_column": null,
            "grid_gap": null,
            "grid_row": null,
            "grid_template_areas": null,
            "grid_template_columns": null,
            "grid_template_rows": null,
            "height": null,
            "justify_content": null,
            "justify_items": null,
            "left": null,
            "margin": null,
            "max_height": null,
            "max_width": null,
            "min_height": null,
            "min_width": null,
            "object_fit": null,
            "object_position": null,
            "order": null,
            "overflow": null,
            "overflow_x": null,
            "overflow_y": null,
            "padding": null,
            "right": null,
            "top": null,
            "visibility": null,
            "width": null
          }
        },
        "84c10ce5f8524dab84cc05a1100c6dee": {
          "model_module": "@jupyter-widgets/controls",
          "model_name": "DescriptionStyleModel",
          "model_module_version": "1.5.0",
          "state": {
            "_model_module": "@jupyter-widgets/controls",
            "_model_module_version": "1.5.0",
            "_model_name": "DescriptionStyleModel",
            "_view_count": null,
            "_view_module": "@jupyter-widgets/base",
            "_view_module_version": "1.2.0",
            "_view_name": "StyleView",
            "description_width": ""
          }
        },
        "66595615e8504c92a1eea4c8662896ae": {
          "model_module": "@jupyter-widgets/base",
          "model_name": "LayoutModel",
          "model_module_version": "1.2.0",
          "state": {
            "_model_module": "@jupyter-widgets/base",
            "_model_module_version": "1.2.0",
            "_model_name": "LayoutModel",
            "_view_count": null,
            "_view_module": "@jupyter-widgets/base",
            "_view_module_version": "1.2.0",
            "_view_name": "LayoutView",
            "align_content": null,
            "align_items": null,
            "align_self": null,
            "border": null,
            "bottom": null,
            "display": null,
            "flex": null,
            "flex_flow": null,
            "grid_area": null,
            "grid_auto_columns": null,
            "grid_auto_flow": null,
            "grid_auto_rows": null,
            "grid_column": null,
            "grid_gap": null,
            "grid_row": null,
            "grid_template_areas": null,
            "grid_template_columns": null,
            "grid_template_rows": null,
            "height": null,
            "justify_content": null,
            "justify_items": null,
            "left": null,
            "margin": null,
            "max_height": null,
            "max_width": null,
            "min_height": null,
            "min_width": null,
            "object_fit": null,
            "object_position": null,
            "order": null,
            "overflow": null,
            "overflow_x": null,
            "overflow_y": null,
            "padding": null,
            "right": null,
            "top": null,
            "visibility": null,
            "width": null
          }
        },
        "1cc51914ebd147aeb720a81664a5c6bd": {
          "model_module": "@jupyter-widgets/controls",
          "model_name": "ProgressStyleModel",
          "model_module_version": "1.5.0",
          "state": {
            "_model_module": "@jupyter-widgets/controls",
            "_model_module_version": "1.5.0",
            "_model_name": "ProgressStyleModel",
            "_view_count": null,
            "_view_module": "@jupyter-widgets/base",
            "_view_module_version": "1.2.0",
            "_view_name": "StyleView",
            "bar_color": null,
            "description_width": ""
          }
        },
        "e691973f862041c2a845cc9ac3ba4474": {
          "model_module": "@jupyter-widgets/base",
          "model_name": "LayoutModel",
          "model_module_version": "1.2.0",
          "state": {
            "_model_module": "@jupyter-widgets/base",
            "_model_module_version": "1.2.0",
            "_model_name": "LayoutModel",
            "_view_count": null,
            "_view_module": "@jupyter-widgets/base",
            "_view_module_version": "1.2.0",
            "_view_name": "LayoutView",
            "align_content": null,
            "align_items": null,
            "align_self": null,
            "border": null,
            "bottom": null,
            "display": null,
            "flex": null,
            "flex_flow": null,
            "grid_area": null,
            "grid_auto_columns": null,
            "grid_auto_flow": null,
            "grid_auto_rows": null,
            "grid_column": null,
            "grid_gap": null,
            "grid_row": null,
            "grid_template_areas": null,
            "grid_template_columns": null,
            "grid_template_rows": null,
            "height": null,
            "justify_content": null,
            "justify_items": null,
            "left": null,
            "margin": null,
            "max_height": null,
            "max_width": null,
            "min_height": null,
            "min_width": null,
            "object_fit": null,
            "object_position": null,
            "order": null,
            "overflow": null,
            "overflow_x": null,
            "overflow_y": null,
            "padding": null,
            "right": null,
            "top": null,
            "visibility": null,
            "width": null
          }
        },
        "f750f3c2ad92460a84ec55d44fb4b13c": {
          "model_module": "@jupyter-widgets/controls",
          "model_name": "DescriptionStyleModel",
          "model_module_version": "1.5.0",
          "state": {
            "_model_module": "@jupyter-widgets/controls",
            "_model_module_version": "1.5.0",
            "_model_name": "DescriptionStyleModel",
            "_view_count": null,
            "_view_module": "@jupyter-widgets/base",
            "_view_module_version": "1.2.0",
            "_view_name": "StyleView",
            "description_width": ""
          }
        },
        "0888b2dd9c374e4d80e56b15bd645582": {
          "model_module": "@jupyter-widgets/controls",
          "model_name": "HBoxModel",
          "model_module_version": "1.5.0",
          "state": {
            "_dom_classes": [],
            "_model_module": "@jupyter-widgets/controls",
            "_model_module_version": "1.5.0",
            "_model_name": "HBoxModel",
            "_view_count": null,
            "_view_module": "@jupyter-widgets/controls",
            "_view_module_version": "1.5.0",
            "_view_name": "HBoxView",
            "box_style": "",
            "children": [
              "IPY_MODEL_8f1d1a7d25ab4ccb8301a824322af72c",
              "IPY_MODEL_00348d4f09bc429589e608f9aa40f262",
              "IPY_MODEL_bd00905bb4e94256b4668ef44d27e299"
            ],
            "layout": "IPY_MODEL_22b01831360444519e7351785dab2977"
          }
        },
        "8f1d1a7d25ab4ccb8301a824322af72c": {
          "model_module": "@jupyter-widgets/controls",
          "model_name": "HTMLModel",
          "model_module_version": "1.5.0",
          "state": {
            "_dom_classes": [],
            "_model_module": "@jupyter-widgets/controls",
            "_model_module_version": "1.5.0",
            "_model_name": "HTMLModel",
            "_view_count": null,
            "_view_module": "@jupyter-widgets/controls",
            "_view_module_version": "1.5.0",
            "_view_name": "HTMLView",
            "description": "",
            "description_tooltip": null,
            "layout": "IPY_MODEL_50ddbc55137d4bbea6db81d54ac8f39e",
            "placeholder": "​",
            "style": "IPY_MODEL_bdf485da29d0421eba1651b14d121e39",
            "value": "100%"
          }
        },
        "00348d4f09bc429589e608f9aa40f262": {
          "model_module": "@jupyter-widgets/controls",
          "model_name": "FloatProgressModel",
          "model_module_version": "1.5.0",
          "state": {
            "_dom_classes": [],
            "_model_module": "@jupyter-widgets/controls",
            "_model_module_version": "1.5.0",
            "_model_name": "FloatProgressModel",
            "_view_count": null,
            "_view_module": "@jupyter-widgets/controls",
            "_view_module_version": "1.5.0",
            "_view_name": "ProgressView",
            "bar_style": "success",
            "description": "",
            "description_tooltip": null,
            "layout": "IPY_MODEL_975da130feb94ced95d9a210d766121f",
            "max": 80,
            "min": 0,
            "orientation": "horizontal",
            "style": "IPY_MODEL_77ed784435ff4a0c94d911ec3405bb56",
            "value": 80
          }
        },
        "bd00905bb4e94256b4668ef44d27e299": {
          "model_module": "@jupyter-widgets/controls",
          "model_name": "HTMLModel",
          "model_module_version": "1.5.0",
          "state": {
            "_dom_classes": [],
            "_model_module": "@jupyter-widgets/controls",
            "_model_module_version": "1.5.0",
            "_model_name": "HTMLModel",
            "_view_count": null,
            "_view_module": "@jupyter-widgets/controls",
            "_view_module_version": "1.5.0",
            "_view_name": "HTMLView",
            "description": "",
            "description_tooltip": null,
            "layout": "IPY_MODEL_48a119f5cef8499292143838ad5ab80d",
            "placeholder": "​",
            "style": "IPY_MODEL_ca167f96c0514e23b07442d73b503257",
            "value": " 80/80 [00:47&lt;00:00,  1.73it/s, loss=0.00675]"
          }
        },
        "22b01831360444519e7351785dab2977": {
          "model_module": "@jupyter-widgets/base",
          "model_name": "LayoutModel",
          "model_module_version": "1.2.0",
          "state": {
            "_model_module": "@jupyter-widgets/base",
            "_model_module_version": "1.2.0",
            "_model_name": "LayoutModel",
            "_view_count": null,
            "_view_module": "@jupyter-widgets/base",
            "_view_module_version": "1.2.0",
            "_view_name": "LayoutView",
            "align_content": null,
            "align_items": null,
            "align_self": null,
            "border": null,
            "bottom": null,
            "display": null,
            "flex": null,
            "flex_flow": null,
            "grid_area": null,
            "grid_auto_columns": null,
            "grid_auto_flow": null,
            "grid_auto_rows": null,
            "grid_column": null,
            "grid_gap": null,
            "grid_row": null,
            "grid_template_areas": null,
            "grid_template_columns": null,
            "grid_template_rows": null,
            "height": null,
            "justify_content": null,
            "justify_items": null,
            "left": null,
            "margin": null,
            "max_height": null,
            "max_width": null,
            "min_height": null,
            "min_width": null,
            "object_fit": null,
            "object_position": null,
            "order": null,
            "overflow": null,
            "overflow_x": null,
            "overflow_y": null,
            "padding": null,
            "right": null,
            "top": null,
            "visibility": null,
            "width": null
          }
        },
        "50ddbc55137d4bbea6db81d54ac8f39e": {
          "model_module": "@jupyter-widgets/base",
          "model_name": "LayoutModel",
          "model_module_version": "1.2.0",
          "state": {
            "_model_module": "@jupyter-widgets/base",
            "_model_module_version": "1.2.0",
            "_model_name": "LayoutModel",
            "_view_count": null,
            "_view_module": "@jupyter-widgets/base",
            "_view_module_version": "1.2.0",
            "_view_name": "LayoutView",
            "align_content": null,
            "align_items": null,
            "align_self": null,
            "border": null,
            "bottom": null,
            "display": null,
            "flex": null,
            "flex_flow": null,
            "grid_area": null,
            "grid_auto_columns": null,
            "grid_auto_flow": null,
            "grid_auto_rows": null,
            "grid_column": null,
            "grid_gap": null,
            "grid_row": null,
            "grid_template_areas": null,
            "grid_template_columns": null,
            "grid_template_rows": null,
            "height": null,
            "justify_content": null,
            "justify_items": null,
            "left": null,
            "margin": null,
            "max_height": null,
            "max_width": null,
            "min_height": null,
            "min_width": null,
            "object_fit": null,
            "object_position": null,
            "order": null,
            "overflow": null,
            "overflow_x": null,
            "overflow_y": null,
            "padding": null,
            "right": null,
            "top": null,
            "visibility": null,
            "width": null
          }
        },
        "bdf485da29d0421eba1651b14d121e39": {
          "model_module": "@jupyter-widgets/controls",
          "model_name": "DescriptionStyleModel",
          "model_module_version": "1.5.0",
          "state": {
            "_model_module": "@jupyter-widgets/controls",
            "_model_module_version": "1.5.0",
            "_model_name": "DescriptionStyleModel",
            "_view_count": null,
            "_view_module": "@jupyter-widgets/base",
            "_view_module_version": "1.2.0",
            "_view_name": "StyleView",
            "description_width": ""
          }
        },
        "975da130feb94ced95d9a210d766121f": {
          "model_module": "@jupyter-widgets/base",
          "model_name": "LayoutModel",
          "model_module_version": "1.2.0",
          "state": {
            "_model_module": "@jupyter-widgets/base",
            "_model_module_version": "1.2.0",
            "_model_name": "LayoutModel",
            "_view_count": null,
            "_view_module": "@jupyter-widgets/base",
            "_view_module_version": "1.2.0",
            "_view_name": "LayoutView",
            "align_content": null,
            "align_items": null,
            "align_self": null,
            "border": null,
            "bottom": null,
            "display": null,
            "flex": null,
            "flex_flow": null,
            "grid_area": null,
            "grid_auto_columns": null,
            "grid_auto_flow": null,
            "grid_auto_rows": null,
            "grid_column": null,
            "grid_gap": null,
            "grid_row": null,
            "grid_template_areas": null,
            "grid_template_columns": null,
            "grid_template_rows": null,
            "height": null,
            "justify_content": null,
            "justify_items": null,
            "left": null,
            "margin": null,
            "max_height": null,
            "max_width": null,
            "min_height": null,
            "min_width": null,
            "object_fit": null,
            "object_position": null,
            "order": null,
            "overflow": null,
            "overflow_x": null,
            "overflow_y": null,
            "padding": null,
            "right": null,
            "top": null,
            "visibility": null,
            "width": null
          }
        },
        "77ed784435ff4a0c94d911ec3405bb56": {
          "model_module": "@jupyter-widgets/controls",
          "model_name": "ProgressStyleModel",
          "model_module_version": "1.5.0",
          "state": {
            "_model_module": "@jupyter-widgets/controls",
            "_model_module_version": "1.5.0",
            "_model_name": "ProgressStyleModel",
            "_view_count": null,
            "_view_module": "@jupyter-widgets/base",
            "_view_module_version": "1.2.0",
            "_view_name": "StyleView",
            "bar_color": null,
            "description_width": ""
          }
        },
        "48a119f5cef8499292143838ad5ab80d": {
          "model_module": "@jupyter-widgets/base",
          "model_name": "LayoutModel",
          "model_module_version": "1.2.0",
          "state": {
            "_model_module": "@jupyter-widgets/base",
            "_model_module_version": "1.2.0",
            "_model_name": "LayoutModel",
            "_view_count": null,
            "_view_module": "@jupyter-widgets/base",
            "_view_module_version": "1.2.0",
            "_view_name": "LayoutView",
            "align_content": null,
            "align_items": null,
            "align_self": null,
            "border": null,
            "bottom": null,
            "display": null,
            "flex": null,
            "flex_flow": null,
            "grid_area": null,
            "grid_auto_columns": null,
            "grid_auto_flow": null,
            "grid_auto_rows": null,
            "grid_column": null,
            "grid_gap": null,
            "grid_row": null,
            "grid_template_areas": null,
            "grid_template_columns": null,
            "grid_template_rows": null,
            "height": null,
            "justify_content": null,
            "justify_items": null,
            "left": null,
            "margin": null,
            "max_height": null,
            "max_width": null,
            "min_height": null,
            "min_width": null,
            "object_fit": null,
            "object_position": null,
            "order": null,
            "overflow": null,
            "overflow_x": null,
            "overflow_y": null,
            "padding": null,
            "right": null,
            "top": null,
            "visibility": null,
            "width": null
          }
        },
        "ca167f96c0514e23b07442d73b503257": {
          "model_module": "@jupyter-widgets/controls",
          "model_name": "DescriptionStyleModel",
          "model_module_version": "1.5.0",
          "state": {
            "_model_module": "@jupyter-widgets/controls",
            "_model_module_version": "1.5.0",
            "_model_name": "DescriptionStyleModel",
            "_view_count": null,
            "_view_module": "@jupyter-widgets/base",
            "_view_module_version": "1.2.0",
            "_view_name": "StyleView",
            "description_width": ""
          }
        }
      }
    }
  },
  "nbformat": 4,
  "nbformat_minor": 0
}