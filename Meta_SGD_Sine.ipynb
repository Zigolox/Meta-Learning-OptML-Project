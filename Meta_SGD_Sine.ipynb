{
  "nbformat": 4,
  "nbformat_minor": 0,
  "metadata": {
    "colab": {
      "provenance": []
    },
    "kernelspec": {
      "name": "python3",
      "display_name": "Python 3"
    },
    "language_info": {
      "name": "python"
    },
    "widgets": {
      "application/vnd.jupyter.widget-state+json": {
        "01808e15fa2942b59fe3d86dca26f8c6": {
          "model_module": "@jupyter-widgets/controls",
          "model_name": "HBoxModel",
          "model_module_version": "1.5.0",
          "state": {
            "_dom_classes": [],
            "_model_module": "@jupyter-widgets/controls",
            "_model_module_version": "1.5.0",
            "_model_name": "HBoxModel",
            "_view_count": null,
            "_view_module": "@jupyter-widgets/controls",
            "_view_module_version": "1.5.0",
            "_view_name": "HBoxView",
            "box_style": "",
            "children": [
              "IPY_MODEL_a266b599c8a64045af4e1371c441acae",
              "IPY_MODEL_a27d7bcb57b0429fa320f173a4b96527",
              "IPY_MODEL_257f37cc23394698ad61b5246053fec6"
            ],
            "layout": "IPY_MODEL_31e1aa8acc044bf0884652f6d17b8e95"
          }
        },
        "a266b599c8a64045af4e1371c441acae": {
          "model_module": "@jupyter-widgets/controls",
          "model_name": "HTMLModel",
          "model_module_version": "1.5.0",
          "state": {
            "_dom_classes": [],
            "_model_module": "@jupyter-widgets/controls",
            "_model_module_version": "1.5.0",
            "_model_name": "HTMLModel",
            "_view_count": null,
            "_view_module": "@jupyter-widgets/controls",
            "_view_module_version": "1.5.0",
            "_view_name": "HTMLView",
            "description": "",
            "description_tooltip": null,
            "layout": "IPY_MODEL_2cc88102522e4dafb30879dbd4ac17a7",
            "placeholder": "​",
            "style": "IPY_MODEL_9075a742646a4b5480afc74716ae6bcc",
            "value": " 98%"
          }
        },
        "a27d7bcb57b0429fa320f173a4b96527": {
          "model_module": "@jupyter-widgets/controls",
          "model_name": "FloatProgressModel",
          "model_module_version": "1.5.0",
          "state": {
            "_dom_classes": [],
            "_model_module": "@jupyter-widgets/controls",
            "_model_module_version": "1.5.0",
            "_model_name": "FloatProgressModel",
            "_view_count": null,
            "_view_module": "@jupyter-widgets/controls",
            "_view_module_version": "1.5.0",
            "_view_name": "ProgressView",
            "bar_style": "success",
            "description": "",
            "description_tooltip": null,
            "layout": "IPY_MODEL_e2286d77cdfe4ab0ada3e719bb17b1de",
            "max": 60000,
            "min": 0,
            "orientation": "horizontal",
            "style": "IPY_MODEL_6fee27fb12a148759483f29734d65f4a",
            "value": 60000
          }
        },
        "257f37cc23394698ad61b5246053fec6": {
          "model_module": "@jupyter-widgets/controls",
          "model_name": "HTMLModel",
          "model_module_version": "1.5.0",
          "state": {
            "_dom_classes": [],
            "_model_module": "@jupyter-widgets/controls",
            "_model_module_version": "1.5.0",
            "_model_name": "HTMLModel",
            "_view_count": null,
            "_view_module": "@jupyter-widgets/controls",
            "_view_module_version": "1.5.0",
            "_view_name": "HTMLView",
            "description": "",
            "description_tooltip": null,
            "layout": "IPY_MODEL_408a5b32e09a406285bbee581846fa6b",
            "placeholder": "​",
            "style": "IPY_MODEL_702220a5e03d470499199837142838f7",
            "value": " 60000/60000 [03:10&lt;00:00, 323.83it/s, loss=2.54]"
          }
        },
        "31e1aa8acc044bf0884652f6d17b8e95": {
          "model_module": "@jupyter-widgets/base",
          "model_name": "LayoutModel",
          "model_module_version": "1.2.0",
          "state": {
            "_model_module": "@jupyter-widgets/base",
            "_model_module_version": "1.2.0",
            "_model_name": "LayoutModel",
            "_view_count": null,
            "_view_module": "@jupyter-widgets/base",
            "_view_module_version": "1.2.0",
            "_view_name": "LayoutView",
            "align_content": null,
            "align_items": null,
            "align_self": null,
            "border": null,
            "bottom": null,
            "display": null,
            "flex": null,
            "flex_flow": null,
            "grid_area": null,
            "grid_auto_columns": null,
            "grid_auto_flow": null,
            "grid_auto_rows": null,
            "grid_column": null,
            "grid_gap": null,
            "grid_row": null,
            "grid_template_areas": null,
            "grid_template_columns": null,
            "grid_template_rows": null,
            "height": null,
            "justify_content": null,
            "justify_items": null,
            "left": null,
            "margin": null,
            "max_height": null,
            "max_width": null,
            "min_height": null,
            "min_width": null,
            "object_fit": null,
            "object_position": null,
            "order": null,
            "overflow": null,
            "overflow_x": null,
            "overflow_y": null,
            "padding": null,
            "right": null,
            "top": null,
            "visibility": null,
            "width": null
          }
        },
        "2cc88102522e4dafb30879dbd4ac17a7": {
          "model_module": "@jupyter-widgets/base",
          "model_name": "LayoutModel",
          "model_module_version": "1.2.0",
          "state": {
            "_model_module": "@jupyter-widgets/base",
            "_model_module_version": "1.2.0",
            "_model_name": "LayoutModel",
            "_view_count": null,
            "_view_module": "@jupyter-widgets/base",
            "_view_module_version": "1.2.0",
            "_view_name": "LayoutView",
            "align_content": null,
            "align_items": null,
            "align_self": null,
            "border": null,
            "bottom": null,
            "display": null,
            "flex": null,
            "flex_flow": null,
            "grid_area": null,
            "grid_auto_columns": null,
            "grid_auto_flow": null,
            "grid_auto_rows": null,
            "grid_column": null,
            "grid_gap": null,
            "grid_row": null,
            "grid_template_areas": null,
            "grid_template_columns": null,
            "grid_template_rows": null,
            "height": null,
            "justify_content": null,
            "justify_items": null,
            "left": null,
            "margin": null,
            "max_height": null,
            "max_width": null,
            "min_height": null,
            "min_width": null,
            "object_fit": null,
            "object_position": null,
            "order": null,
            "overflow": null,
            "overflow_x": null,
            "overflow_y": null,
            "padding": null,
            "right": null,
            "top": null,
            "visibility": null,
            "width": null
          }
        },
        "9075a742646a4b5480afc74716ae6bcc": {
          "model_module": "@jupyter-widgets/controls",
          "model_name": "DescriptionStyleModel",
          "model_module_version": "1.5.0",
          "state": {
            "_model_module": "@jupyter-widgets/controls",
            "_model_module_version": "1.5.0",
            "_model_name": "DescriptionStyleModel",
            "_view_count": null,
            "_view_module": "@jupyter-widgets/base",
            "_view_module_version": "1.2.0",
            "_view_name": "StyleView",
            "description_width": ""
          }
        },
        "e2286d77cdfe4ab0ada3e719bb17b1de": {
          "model_module": "@jupyter-widgets/base",
          "model_name": "LayoutModel",
          "model_module_version": "1.2.0",
          "state": {
            "_model_module": "@jupyter-widgets/base",
            "_model_module_version": "1.2.0",
            "_model_name": "LayoutModel",
            "_view_count": null,
            "_view_module": "@jupyter-widgets/base",
            "_view_module_version": "1.2.0",
            "_view_name": "LayoutView",
            "align_content": null,
            "align_items": null,
            "align_self": null,
            "border": null,
            "bottom": null,
            "display": null,
            "flex": null,
            "flex_flow": null,
            "grid_area": null,
            "grid_auto_columns": null,
            "grid_auto_flow": null,
            "grid_auto_rows": null,
            "grid_column": null,
            "grid_gap": null,
            "grid_row": null,
            "grid_template_areas": null,
            "grid_template_columns": null,
            "grid_template_rows": null,
            "height": null,
            "justify_content": null,
            "justify_items": null,
            "left": null,
            "margin": null,
            "max_height": null,
            "max_width": null,
            "min_height": null,
            "min_width": null,
            "object_fit": null,
            "object_position": null,
            "order": null,
            "overflow": null,
            "overflow_x": null,
            "overflow_y": null,
            "padding": null,
            "right": null,
            "top": null,
            "visibility": null,
            "width": null
          }
        },
        "6fee27fb12a148759483f29734d65f4a": {
          "model_module": "@jupyter-widgets/controls",
          "model_name": "ProgressStyleModel",
          "model_module_version": "1.5.0",
          "state": {
            "_model_module": "@jupyter-widgets/controls",
            "_model_module_version": "1.5.0",
            "_model_name": "ProgressStyleModel",
            "_view_count": null,
            "_view_module": "@jupyter-widgets/base",
            "_view_module_version": "1.2.0",
            "_view_name": "StyleView",
            "bar_color": null,
            "description_width": ""
          }
        },
        "408a5b32e09a406285bbee581846fa6b": {
          "model_module": "@jupyter-widgets/base",
          "model_name": "LayoutModel",
          "model_module_version": "1.2.0",
          "state": {
            "_model_module": "@jupyter-widgets/base",
            "_model_module_version": "1.2.0",
            "_model_name": "LayoutModel",
            "_view_count": null,
            "_view_module": "@jupyter-widgets/base",
            "_view_module_version": "1.2.0",
            "_view_name": "LayoutView",
            "align_content": null,
            "align_items": null,
            "align_self": null,
            "border": null,
            "bottom": null,
            "display": null,
            "flex": null,
            "flex_flow": null,
            "grid_area": null,
            "grid_auto_columns": null,
            "grid_auto_flow": null,
            "grid_auto_rows": null,
            "grid_column": null,
            "grid_gap": null,
            "grid_row": null,
            "grid_template_areas": null,
            "grid_template_columns": null,
            "grid_template_rows": null,
            "height": null,
            "justify_content": null,
            "justify_items": null,
            "left": null,
            "margin": null,
            "max_height": null,
            "max_width": null,
            "min_height": null,
            "min_width": null,
            "object_fit": null,
            "object_position": null,
            "order": null,
            "overflow": null,
            "overflow_x": null,
            "overflow_y": null,
            "padding": null,
            "right": null,
            "top": null,
            "visibility": null,
            "width": null
          }
        },
        "702220a5e03d470499199837142838f7": {
          "model_module": "@jupyter-widgets/controls",
          "model_name": "DescriptionStyleModel",
          "model_module_version": "1.5.0",
          "state": {
            "_model_module": "@jupyter-widgets/controls",
            "_model_module_version": "1.5.0",
            "_model_name": "DescriptionStyleModel",
            "_view_count": null,
            "_view_module": "@jupyter-widgets/base",
            "_view_module_version": "1.2.0",
            "_view_name": "StyleView",
            "description_width": ""
          }
        }
      }
    }
  },
  "cells": [
    {
      "cell_type": "code",
      "execution_count": 1,
      "metadata": {
        "id": "Qyj23r5Abk3Y"
      },
      "outputs": [],
      "source": [
        "%%capture\n",
        "!pip install --upgrade einops optax equinox distrax jaxopt"
      ]
    },
    {
      "cell_type": "code",
      "source": [
        "from jax import numpy as jnp\n",
        "from jax import random, value_and_grad, lax\n",
        "from optax import adam, sgd, apply_updates, chain, clip, softmax_cross_entropy_with_integer_labels\n",
        "from einops import rearrange, reduce, repeat\n",
        "from functools import partial\n",
        "from tqdm.notebook import tqdm\n",
        "import equinox as eqx\n",
        "import tensorflow_datasets as tfds\n",
        "import tensorflow as tf\n",
        "from jax.random import split, normal, randint\n",
        "from jax import lax, vmap, checkpoint\n",
        "from distrax import Normal, Bernoulli\n",
        "from jax.nn import gelu, sigmoid\n",
        "from jax import disable_jit\n",
        "from jaxopt import FixedPointIteration\n",
        "from jax.tree_util import tree_map\n",
        "\n",
        "import numpy as np\n",
        "\n",
        "# Typing \n",
        "from jax import Array\n",
        "from typing import Optional, Sequence, Tuple, Any\n",
        "from jax.random import PRNGKeyArray\n",
        "\n",
        "SEED = 0\n",
        "MODEL_KEY = random.PRNGKey(SEED)\n",
        "TEST_KEY = random.PRNGKey(SEED + 1)\n",
        "\n",
        "import copy"
      ],
      "metadata": {
        "colab": {
          "base_uri": "https://localhost:8080/"
        },
        "id": "xqFMA-rGcAFI",
        "outputId": "6b21d5f7-e415-492e-951d-1030be9197ce"
      },
      "execution_count": 2,
      "outputs": [
        {
          "output_type": "stream",
          "name": "stderr",
          "text": [
            "WARNING:jax._src.xla_bridge:No GPU/TPU found, falling back to CPU. (Set TF_CPP_MIN_LOG_LEVEL=0 and rerun for more info.)\n"
          ]
        }
      ]
    },
    {
      "cell_type": "code",
      "source": [
        "def multi_batch_loss(model_alpha, A, w, keys) -> Array:\n",
        "    \"\"\"Compute the loss over all models\"\"\"\n",
        "\n",
        "    # get model_i', test_i, test_labels_i for all tasks i:\n",
        "    models, prime_x_arrays, prime_labels = eqx.filter_vmap(task_update,in_axes=(None,0,0,0))(model_alpha, A, w, keys)\n",
        "    # sum loss_i(model_i', test_i, test_labels_i)\n",
        "    return eqx.filter_vmap(batch_loss)(models, prime_x_arrays, prime_labels).sum()"
      ],
      "metadata": {
        "id": "f9CVN4c6cFDx"
      },
      "execution_count": 3,
      "outputs": []
    },
    {
      "cell_type": "code",
      "source": [
        "def batch_loss(model, x_arr: Array, labels: Array) -> Array:\n",
        "    '''Compute the loss.'''\n",
        "\n",
        "    def loss(x: Array, label: Array):\n",
        "        # -> (model(x)-Asin(x+w))^2\n",
        "        pred = model(jnp.array([x]))\n",
        "        return (pred-label)**2\n",
        "\n",
        "    # Mean over the batch\n",
        "    return vmap(loss)(x_arr, labels).mean()"
      ],
      "metadata": {
        "id": "TR15qHNuvpEt"
      },
      "execution_count": 4,
      "outputs": []
    },
    {
      "cell_type": "code",
      "source": [
        "def get_batch_of_tasks(N: int, key: PRNGKeyArray):\n",
        "    # batch of size N\n",
        "    # a task is given by amplitute A and phase w \n",
        "    A_key, w_key = split(key)\n",
        "    A = random.uniform(A_key, shape=(N,),minval=0.1, maxval=5.0)\n",
        "    w = random.uniform(w_key, shape=(N,),minval=0.0, maxval=jnp.pi)\n",
        "    return A,w"
      ],
      "metadata": {
        "id": "_4up8JTfvti6"
      },
      "execution_count": 5,
      "outputs": []
    },
    {
      "cell_type": "code",
      "source": [
        "def sample_from_task(A: float, w: float, N: int, key: PRNGKeyArray):\n",
        "    # sample N examples from task\n",
        "    # -> training data: train, train_labels both of size N\n",
        "\n",
        "    # Task T(A,w): A in [0.1, 5.0], w in [0, pi]\n",
        "\n",
        "    # Load the dataset\n",
        "\n",
        "    train = random.uniform(key,minval=-5.0, maxval=5.0,shape=(N,))\n",
        "    train_labels = A*jnp.sin(train+w)\n",
        "    return train, train_labels "
      ],
      "metadata": {
        "id": "aTF7el2hvvud"
      },
      "execution_count": 6,
      "outputs": []
    },
    {
      "cell_type": "code",
      "source": [
        "# Training step function\n",
        "#@eqx.filter_jit\n",
        "def step(model, alpha, optimizer, opt_state, x_arr, labels):\n",
        "    loss, grad = eqx.filter_value_and_grad(batch_loss)(model, x_arr, labels)  # Compute loss and gradient\n",
        "    mod_grad = tree_map(lambda x,y: x*y, grad, alpha)  # replace standard gradient with alpha*gradient (elementwise product)\n",
        "    updates, opt_state = optimizer.update(mod_grad, opt_state, model)  \n",
        "    model = eqx.apply_updates(model, updates)  \n",
        "    return model, opt_state, loss"
      ],
      "metadata": {
        "id": "8gnngZjxvx4u"
      },
      "execution_count": 7,
      "outputs": []
    },
    {
      "cell_type": "code",
      "source": [
        "epochs = 60000\n",
        "model = eqx.nn.MLP(1,1,40,2,key=MODEL_KEY)\n",
        "alpha = eqx.nn.MLP(1,1,40,2,key=MODEL_KEY, activation=None, final_activation=None)\n",
        "init_const = 0.05  # should be between 0.005 and 0.1\n",
        "alpha = tree_map(lambda x: init_const*(x/x), alpha)\n",
        "beta = 0.0001  # outer loop LR, constant"
      ],
      "metadata": {
        "id": "jPyc6Ac2x_yv"
      },
      "execution_count": 16,
      "outputs": []
    },
    {
      "cell_type": "code",
      "source": [
        "meta_sgd_batch_size = 4\n",
        "K = 5\n",
        "Kprime = 10\n",
        "#outer_optim = adam(1e-3, eps=1e-04)\n",
        "outer_optim = sgd(beta)\n",
        "outer_opt_state = outer_optim.init(eqx.filter(model, eqx.is_array))  # Does it matter how we initialize the state of the optimizer? \n",
        "\n",
        "\n",
        "def task_update(model_alpha, A: Array, w: Array, key: PRNGKeyArray):\n",
        "\n",
        "    train_key, val_key = split(key)\n",
        "    train, train_labels = sample_from_task(A, w, K, train_key)  # get train_i and train_labels_i\n",
        "\n",
        "    # inner loop\n",
        "    inner_optim = sgd(1)  # LR = 1 since the 'real' learning rate is included in alpha (see fcn step(...))\n",
        "    model, alpha = copy.deepcopy(model_alpha[0]), model_alpha[1]  # dont want to change the outer model\n",
        "    inner_opt_state = inner_optim.init(eqx.filter(model, eqx.is_array))\n",
        "\n",
        "    model, inner_opt_state, inner_loss = step(model, alpha, inner_optim, inner_opt_state, train, train_labels)  # compute model_i'\n",
        "\n",
        "    train_prime, train_labels_prime = sample_from_task(A, w, Kprime,val_key)  # get test_i and test_labels_i\n",
        "    return model, train_prime, train_labels_prime\n",
        "\n",
        "@eqx.filter_jit\n",
        "def maml_step(model, alpha, outer_opt_state, key: PRNGKeyArray):\n",
        "    # Sample tasks for task(list)\n",
        "    keys = split(key,meta_sgd_batch_size)\n",
        "    A, w = get_batch_of_tasks(meta_sgd_batch_size, key)\n",
        "  \n",
        "    loss, grads = eqx.filter_value_and_grad(multi_batch_loss)((model, alpha), A, w, keys)  # Compute loss and gradient, meta step\n",
        "\n",
        "    updates, outer_opt_state = outer_optim.update(grads, outer_opt_state, (model, alpha))  \n",
        "    (model, alpha) = eqx.apply_updates((model, alpha), updates)  \n",
        "\n",
        "    return loss, model, alpha, outer_opt_state"
      ],
      "metadata": {
        "id": "dT31yUTLyAEz"
      },
      "execution_count": 17,
      "outputs": []
    },
    {
      "cell_type": "code",
      "source": [
        "# Meta train the model\n",
        "pbar = tqdm(random.split(MODEL_KEY,epochs),total=epochs)\n",
        "for key in pbar:\n",
        "    loss, model, alpha, outer_opt_state = maml_step(model, alpha, outer_opt_state, key)  # = filter_jit(step)(model, opt_state)\n",
        "    pbar.set_postfix({'loss': f'{loss.mean():.3}'})\n"
      ],
      "metadata": {
        "colab": {
          "base_uri": "https://localhost:8080/",
          "height": 49,
          "referenced_widgets": [
            "01808e15fa2942b59fe3d86dca26f8c6",
            "a266b599c8a64045af4e1371c441acae",
            "a27d7bcb57b0429fa320f173a4b96527",
            "257f37cc23394698ad61b5246053fec6",
            "31e1aa8acc044bf0884652f6d17b8e95",
            "2cc88102522e4dafb30879dbd4ac17a7",
            "9075a742646a4b5480afc74716ae6bcc",
            "e2286d77cdfe4ab0ada3e719bb17b1de",
            "6fee27fb12a148759483f29734d65f4a",
            "408a5b32e09a406285bbee581846fa6b",
            "702220a5e03d470499199837142838f7"
          ]
        },
        "id": "fdmeg8uCz68K",
        "outputId": "eedfb444-6989-4772-e69e-31091a274218"
      },
      "execution_count": 18,
      "outputs": [
        {
          "output_type": "display_data",
          "data": {
            "text/plain": [
              "  0%|          | 0/60000 [00:00<?, ?it/s]"
            ],
            "application/vnd.jupyter.widget-view+json": {
              "version_major": 2,
              "version_minor": 0,
              "model_id": "01808e15fa2942b59fe3d86dca26f8c6"
            }
          },
          "metadata": {}
        }
      ]
    },
    {
      "cell_type": "code",
      "source": [
        "import matplotlib.pyplot as plt\n",
        "test, test_labels = sample_from_task(jnp.array(4.8), jnp.array(0.5), 100, TEST_KEY)\n",
        "train_test, train_test_labels = sample_from_task(jnp.array(4.8), jnp.array(0.5),5, TEST_KEY)\n",
        "preds_initial = eqx.filter_vmap(model)(jnp.expand_dims(test,1))\n",
        "\n",
        "plt.scatter(test, preds_initial, color='blue', label=\"Pre initalization\")\n",
        "plt.scatter(test, test_labels, color='red')\n",
        "\n",
        "#inner_optim = adam(1e-2, eps=1e-04)\n",
        "inner_optim = sgd(1)  # LR = 1 since the 'real' learning rate is included in alpha\n",
        "inner_opt_state = inner_optim.init(eqx.filter(model, eqx.is_array))\n",
        "\n",
        "trainable_model = copy.deepcopy(model)\n",
        "final_alpha = copy.deepcopy(alpha)\n",
        "for i in range(1):\n",
        "    loss, grad = eqx.filter_value_and_grad(batch_loss)(trainable_model, train_test, train_test_labels)  # Compute loss and gradient\n",
        "    mod_grad = tree_map(lambda x,y: x*y, grad, final_alpha)\n",
        "    updates, inner_opt_state = inner_optim.update(mod_grad, inner_opt_state, trainable_model) \n",
        "    trainable_model = eqx.apply_updates(trainable_model, updates) \n",
        "\n",
        "preds_shot = eqx.filter_vmap(trainable_model)(jnp.expand_dims(test,1))\n",
        "plt.scatter(test, preds_shot, label=\"K-shot learning\")\n",
        "plt.scatter(train_test, train_test_labels, color='black')\n",
        "plt.legend()\n",
        "plt.show()"
      ],
      "metadata": {
        "colab": {
          "base_uri": "https://localhost:8080/",
          "height": 430
        },
        "id": "NxMAvq6Y0CWZ",
        "outputId": "419b9506-86bd-4a53-d059-afaae3c96d4d"
      },
      "execution_count": 12,
      "outputs": [
        {
          "output_type": "display_data",
          "data": {
            "text/plain": [
              "<Figure size 640x480 with 1 Axes>"
            ],
            "image/png": "[encoded data removed]"
          },
          "metadata": {}
        }
      ]
    }
  ]
}