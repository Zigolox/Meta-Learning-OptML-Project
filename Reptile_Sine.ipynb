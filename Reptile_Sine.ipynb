{
  "nbformat": 4,
  "nbformat_minor": 0,
  "metadata": {
    "colab": {
      "provenance": []
    },
    "kernelspec": {
      "name": "python3",
      "display_name": "Python 3"
    },
    "language_info": {
      "name": "python"
    },
    "widgets": {
      "application/vnd.jupyter.widget-state+json": {
        "58a781a9e5fd4d91991555be68b5cad0": {
          "model_module": "@jupyter-widgets/controls",
          "model_name": "HBoxModel",
          "model_module_version": "1.5.0",
          "state": {
            "_dom_classes": [],
            "_model_module": "@jupyter-widgets/controls",
            "_model_module_version": "1.5.0",
            "_model_name": "HBoxModel",
            "_view_count": null,
            "_view_module": "@jupyter-widgets/controls",
            "_view_module_version": "1.5.0",
            "_view_name": "HBoxView",
            "box_style": "",
            "children": [
              "IPY_MODEL_ef3ab15628604275b72195ee8934b54d",
              "IPY_MODEL_7a0e7ff073774e54a644e666f26ca604",
              "IPY_MODEL_65061d08c2274433901aa7544654095b"
            ],
            "layout": "IPY_MODEL_507af485a4bd4e9d9d8111cb662c3991"
          }
        },
        "ef3ab15628604275b72195ee8934b54d": {
          "model_module": "@jupyter-widgets/controls",
          "model_name": "HTMLModel",
          "model_module_version": "1.5.0",
          "state": {
            "_dom_classes": [],
            "_model_module": "@jupyter-widgets/controls",
            "_model_module_version": "1.5.0",
            "_model_name": "HTMLModel",
            "_view_count": null,
            "_view_module": "@jupyter-widgets/controls",
            "_view_module_version": "1.5.0",
            "_view_name": "HTMLView",
            "description": "",
            "description_tooltip": null,
            "layout": "IPY_MODEL_2e1dd0a5ede94992abd855211067d33e",
            "placeholder": "​",
            "style": "IPY_MODEL_7aeeaf1601164d6497aa97f548223e9b",
            "value": "100%"
          }
        },
        "7a0e7ff073774e54a644e666f26ca604": {
          "model_module": "@jupyter-widgets/controls",
          "model_name": "FloatProgressModel",
          "model_module_version": "1.5.0",
          "state": {
            "_dom_classes": [],
            "_model_module": "@jupyter-widgets/controls",
            "_model_module_version": "1.5.0",
            "_model_name": "FloatProgressModel",
            "_view_count": null,
            "_view_module": "@jupyter-widgets/controls",
            "_view_module_version": "1.5.0",
            "_view_name": "ProgressView",
            "bar_style": "success",
            "description": "",
            "description_tooltip": null,
            "layout": "IPY_MODEL_a7193186b1e147f882afb97ee2cf62bf",
            "max": 10000,
            "min": 0,
            "orientation": "horizontal",
            "style": "IPY_MODEL_7c10961332d34d1d8e99952cd4e2a9aa",
            "value": 10000
          }
        },
        "65061d08c2274433901aa7544654095b": {
          "model_module": "@jupyter-widgets/controls",
          "model_name": "HTMLModel",
          "model_module_version": "1.5.0",
          "state": {
            "_dom_classes": [],
            "_model_module": "@jupyter-widgets/controls",
            "_model_module_version": "1.5.0",
            "_model_name": "HTMLModel",
            "_view_count": null,
            "_view_module": "@jupyter-widgets/controls",
            "_view_module_version": "1.5.0",
            "_view_name": "HTMLView",
            "description": "",
            "description_tooltip": null,
            "layout": "IPY_MODEL_e6d99381d30f4394aa6b7b694c8a3bed",
            "placeholder": "​",
            "style": "IPY_MODEL_28ec4912f29245e1884b448981e176fd",
            "value": " 10000/10000 [02:17&lt;00:00, 103.51it/s, loss=0.109]"
          }
        },
        "507af485a4bd4e9d9d8111cb662c3991": {
          "model_module": "@jupyter-widgets/base",
          "model_name": "LayoutModel",
          "model_module_version": "1.2.0",
          "state": {
            "_model_module": "@jupyter-widgets/base",
            "_model_module_version": "1.2.0",
            "_model_name": "LayoutModel",
            "_view_count": null,
            "_view_module": "@jupyter-widgets/base",
            "_view_module_version": "1.2.0",
            "_view_name": "LayoutView",
            "align_content": null,
            "align_items": null,
            "align_self": null,
            "border": null,
            "bottom": null,
            "display": null,
            "flex": null,
            "flex_flow": null,
            "grid_area": null,
            "grid_auto_columns": null,
            "grid_auto_flow": null,
            "grid_auto_rows": null,
            "grid_column": null,
            "grid_gap": null,
            "grid_row": null,
            "grid_template_areas": null,
            "grid_template_columns": null,
            "grid_template_rows": null,
            "height": null,
            "justify_content": null,
            "justify_items": null,
            "left": null,
            "margin": null,
            "max_height": null,
            "max_width": null,
            "min_height": null,
            "min_width": null,
            "object_fit": null,
            "object_position": null,
            "order": null,
            "overflow": null,
            "overflow_x": null,
            "overflow_y": null,
            "padding": null,
            "right": null,
            "top": null,
            "visibility": null,
            "width": null
          }
        },
        "2e1dd0a5ede94992abd855211067d33e": {
          "model_module": "@jupyter-widgets/base",
          "model_name": "LayoutModel",
          "model_module_version": "1.2.0",
          "state": {
            "_model_module": "@jupyter-widgets/base",
            "_model_module_version": "1.2.0",
            "_model_name": "LayoutModel",
            "_view_count": null,
            "_view_module": "@jupyter-widgets/base",
            "_view_module_version": "1.2.0",
            "_view_name": "LayoutView",
            "align_content": null,
            "align_items": null,
            "align_self": null,
            "border": null,
            "bottom": null,
            "display": null,
            "flex": null,
            "flex_flow": null,
            "grid_area": null,
            "grid_auto_columns": null,
            "grid_auto_flow": null,
            "grid_auto_rows": null,
            "grid_column": null,
            "grid_gap": null,
            "grid_row": null,
            "grid_template_areas": null,
            "grid_template_columns": null,
            "grid_template_rows": null,
            "height": null,
            "justify_content": null,
            "justify_items": null,
            "left": null,
            "margin": null,
            "max_height": null,
            "max_width": null,
            "min_height": null,
            "min_width": null,
            "object_fit": null,
            "object_position": null,
            "order": null,
            "overflow": null,
            "overflow_x": null,
            "overflow_y": null,
            "padding": null,
            "right": null,
            "top": null,
            "visibility": null,
            "width": null
          }
        },
        "7aeeaf1601164d6497aa97f548223e9b": {
          "model_module": "@jupyter-widgets/controls",
          "model_name": "DescriptionStyleModel",
          "model_module_version": "1.5.0",
          "state": {
            "_model_module": "@jupyter-widgets/controls",
            "_model_module_version": "1.5.0",
            "_model_name": "DescriptionStyleModel",
            "_view_count": null,
            "_view_module": "@jupyter-widgets/base",
            "_view_module_version": "1.2.0",
            "_view_name": "StyleView",
            "description_width": ""
          }
        },
        "a7193186b1e147f882afb97ee2cf62bf": {
          "model_module": "@jupyter-widgets/base",
          "model_name": "LayoutModel",
          "model_module_version": "1.2.0",
          "state": {
            "_model_module": "@jupyter-widgets/base",
            "_model_module_version": "1.2.0",
            "_model_name": "LayoutModel",
            "_view_count": null,
            "_view_module": "@jupyter-widgets/base",
            "_view_module_version": "1.2.0",
            "_view_name": "LayoutView",
            "align_content": null,
            "align_items": null,
            "align_self": null,
            "border": null,
            "bottom": null,
            "display": null,
            "flex": null,
            "flex_flow": null,
            "grid_area": null,
            "grid_auto_columns": null,
            "grid_auto_flow": null,
            "grid_auto_rows": null,
            "grid_column": null,
            "grid_gap": null,
            "grid_row": null,
            "grid_template_areas": null,
            "grid_template_columns": null,
            "grid_template_rows": null,
            "height": null,
            "justify_content": null,
            "justify_items": null,
            "left": null,
            "margin": null,
            "max_height": null,
            "max_width": null,
            "min_height": null,
            "min_width": null,
            "object_fit": null,
            "object_position": null,
            "order": null,
            "overflow": null,
            "overflow_x": null,
            "overflow_y": null,
            "padding": null,
            "right": null,
            "top": null,
            "visibility": null,
            "width": null
          }
        },
        "7c10961332d34d1d8e99952cd4e2a9aa": {
          "model_module": "@jupyter-widgets/controls",
          "model_name": "ProgressStyleModel",
          "model_module_version": "1.5.0",
          "state": {
            "_model_module": "@jupyter-widgets/controls",
            "_model_module_version": "1.5.0",
            "_model_name": "ProgressStyleModel",
            "_view_count": null,
            "_view_module": "@jupyter-widgets/base",
            "_view_module_version": "1.2.0",
            "_view_name": "StyleView",
            "bar_color": null,
            "description_width": ""
          }
        },
        "e6d99381d30f4394aa6b7b694c8a3bed": {
          "model_module": "@jupyter-widgets/base",
          "model_name": "LayoutModel",
          "model_module_version": "1.2.0",
          "state": {
            "_model_module": "@jupyter-widgets/base",
            "_model_module_version": "1.2.0",
            "_model_name": "LayoutModel",
            "_view_count": null,
            "_view_module": "@jupyter-widgets/base",
            "_view_module_version": "1.2.0",
            "_view_name": "LayoutView",
            "align_content": null,
            "align_items": null,
            "align_self": null,
            "border": null,
            "bottom": null,
            "display": null,
            "flex": null,
            "flex_flow": null,
            "grid_area": null,
            "grid_auto_columns": null,
            "grid_auto_flow": null,
            "grid_auto_rows": null,
            "grid_column": null,
            "grid_gap": null,
            "grid_row": null,
            "grid_template_areas": null,
            "grid_template_columns": null,
            "grid_template_rows": null,
            "height": null,
            "justify_content": null,
            "justify_items": null,
            "left": null,
            "margin": null,
            "max_height": null,
            "max_width": null,
            "min_height": null,
            "min_width": null,
            "object_fit": null,
            "object_position": null,
            "order": null,
            "overflow": null,
            "overflow_x": null,
            "overflow_y": null,
            "padding": null,
            "right": null,
            "top": null,
            "visibility": null,
            "width": null
          }
        },
        "28ec4912f29245e1884b448981e176fd": {
          "model_module": "@jupyter-widgets/controls",
          "model_name": "DescriptionStyleModel",
          "model_module_version": "1.5.0",
          "state": {
            "_model_module": "@jupyter-widgets/controls",
            "_model_module_version": "1.5.0",
            "_model_name": "DescriptionStyleModel",
            "_view_count": null,
            "_view_module": "@jupyter-widgets/base",
            "_view_module_version": "1.2.0",
            "_view_name": "StyleView",
            "description_width": ""
          }
        }
      }
    }
  },
  "cells": [
    {
      "cell_type": "code",
      "execution_count": 1,
      "metadata": {
        "id": "pJ861Mhqxsgt"
      },
      "outputs": [],
      "source": [
        "%%capture\n",
        "!pip install --upgrade einops optax equinox distrax jaxopt"
      ]
    },
    {
      "cell_type": "code",
      "source": [
        "from jax import numpy as jnp\n",
        "from jax import random, value_and_grad, lax\n",
        "from optax import adam, sgd, apply_updates, chain, clip, softmax_cross_entropy_with_integer_labels\n",
        "from einops import rearrange, reduce, repeat\n",
        "from functools import partial\n",
        "from tqdm.notebook import tqdm\n",
        "import equinox as eqx\n",
        "import tensorflow_datasets as tfds\n",
        "import tensorflow as tf\n",
        "from jax.random import split, normal, randint\n",
        "from jax import lax, vmap, checkpoint\n",
        "from distrax import Normal, Bernoulli\n",
        "from jax.nn import gelu, sigmoid, relu\n",
        "from jax import disable_jit\n",
        "from jaxopt import FixedPointIteration\n",
        "from jax.tree_util import tree_map\n",
        "\n",
        "import numpy as np\n",
        "import jax\n",
        "\n",
        "# Typing \n",
        "from jax import Array\n",
        "from typing import Optional, Sequence, Tuple, Any\n",
        "from jax.random import PRNGKeyArray\n",
        "\n",
        "SEED = 0\n",
        "MODEL_KEY = random.PRNGKey(SEED)\n",
        "TEST_KEY = random.PRNGKey(SEED + 1)\n",
        "\n",
        "import copy"
      ],
      "metadata": {
        "id": "OVS0ERSkxzL5",
        "colab": {
          "base_uri": "https://localhost:8080/"
        },
        "outputId": "a0616fab-40c2-46bc-acb0-005148b9fcab"
      },
      "execution_count": 2,
      "outputs": [
        {
          "output_type": "stream",
          "name": "stderr",
          "text": [
            "WARNING:jax._src.xla_bridge:No GPU/TPU found, falling back to CPU. (Set TF_CPP_MIN_LOG_LEVEL=0 and rerun for more info.)\n"
          ]
        }
      ]
    },
    {
      "cell_type": "code",
      "source": [
        "def batch_loss(model, x_arr: Array, labels: Array) -> Array:\n",
        "    '''Compute the loss.'''\n",
        "\n",
        "    def loss(x: Array, label: Array):\n",
        "        # -> (model(x)-Asin(x+w))^2\n",
        "        pred = model(jnp.array([x]))\n",
        "        return (pred-label)**2\n",
        "\n",
        "    # Mean over the batch\n",
        "    return vmap(loss)(x_arr, labels).mean()"
      ],
      "metadata": {
        "id": "fMsaZWitx3IJ"
      },
      "execution_count": 3,
      "outputs": []
    },
    {
      "cell_type": "code",
      "source": [
        "def get_batch_of_tasks(N: int, key: PRNGKeyArray):\n",
        "    # batch of size N\n",
        "    # a task is given by amplitute A and phase w \n",
        "    A_key, w_key = split(key)\n",
        "    A = random.uniform(A_key, shape=(N,),minval=0.1, maxval=5.0)\n",
        "    w = random.uniform(w_key, shape=(N,),minval=0.0, maxval=jnp.pi)\n",
        "    return A,w"
      ],
      "metadata": {
        "id": "f4F_teRNx5_d"
      },
      "execution_count": 4,
      "outputs": []
    },
    {
      "cell_type": "code",
      "source": [
        "def sample_from_task(A: float, w: float, N: int, key: PRNGKeyArray):\n",
        "    # sample N examples from task\n",
        "    # -> training data: train, train_labels both of size N\n",
        "\n",
        "    # Task T(A,w): A in [0.1, 5.0], w in [0, pi]\n",
        "\n",
        "    # Load the dataset\n",
        "\n",
        "    train = random.uniform(key,minval=-5.0, maxval=5.0,shape=(N,))\n",
        "    train_labels = A*jnp.sin(train+w)\n",
        "    return train, train_labels "
      ],
      "metadata": {
        "id": "nYQw3IT6x80o"
      },
      "execution_count": 5,
      "outputs": []
    },
    {
      "cell_type": "code",
      "source": [
        "# Training step function\n",
        "#@eqx.filter_jit\n",
        "def step(model, optimizer, opt_state, x_arr, labels):\n",
        "    loss, grad = eqx.filter_value_and_grad(batch_loss)(model, x_arr, labels)  # Compute loss and gradient\n",
        "    updates, opt_state = optimizer.update(grad, opt_state, model)  \n",
        "    model = eqx.apply_updates(model, updates)  \n",
        "    return model, opt_state, loss"
      ],
      "metadata": {
        "id": "TQFARY5fyLrz"
      },
      "execution_count": 6,
      "outputs": []
    },
    {
      "cell_type": "code",
      "source": [
        "epochs = 10000\n",
        "model = eqx.nn.MLP(1,1,64,2,key=MODEL_KEY)\n",
        "epsilon = 0.01  # outer loop LR, constant"
      ],
      "metadata": {
        "id": "xGuuTQWbyQ7S"
      },
      "execution_count": 7,
      "outputs": []
    },
    {
      "cell_type": "code",
      "source": [
        "K = 32\n",
        "\n",
        "inner_optim = adam(1e-3, eps=1e-04)\n",
        "inner_opt_state = inner_optim.init(eqx.filter(model, eqx.is_array))\n",
        "\n",
        "@eqx.filter_jit\n",
        "def maml_step(model, inner_opt_state, key: PRNGKeyArray):\n",
        "    # Sample tasks for task(list)\n",
        "    A, w = get_batch_of_tasks(1, key)\n",
        "    train_key, val_key = split(key)\n",
        "    train, train_labels = sample_from_task(A, w, K, train_key)  # get train_i and train_labels_i\n",
        "    model_tilde = copy.deepcopy(model)\n",
        "    for j in range(K):  # K steps of SGD or ADAM\n",
        "        model_tilde, inner_opt_state, loss = step(model_tilde, inner_optim, inner_opt_state, train, train_labels)\n",
        "    model = tree_map(lambda x,y: x+epsilon*(y-x) if type(x)==jax._src.interpreters.partial_eval.DynamicJaxprTracer else x, model, model_tilde)\n",
        "\n",
        "    return loss, model, inner_opt_state"
      ],
      "metadata": {
        "id": "RlqWE9KHycP2"
      },
      "execution_count": 8,
      "outputs": []
    },
    {
      "cell_type": "code",
      "source": [
        "# Meta train the model\n",
        "pbar = tqdm(random.split(MODEL_KEY,epochs),total=epochs)\n",
        "for key in pbar:\n",
        "    loss, model, inner_opt_state = maml_step(model, inner_opt_state, key)  # = filter_jit(step)(model, opt_state)\n",
        "    pbar.set_postfix({'loss': f'{loss.mean():.3}'})"
      ],
      "metadata": {
        "colab": {
          "base_uri": "https://localhost:8080/",
          "height": 49,
          "referenced_widgets": [
            "58a781a9e5fd4d91991555be68b5cad0",
            "ef3ab15628604275b72195ee8934b54d",
            "7a0e7ff073774e54a644e666f26ca604",
            "65061d08c2274433901aa7544654095b",
            "507af485a4bd4e9d9d8111cb662c3991",
            "2e1dd0a5ede94992abd855211067d33e",
            "7aeeaf1601164d6497aa97f548223e9b",
            "a7193186b1e147f882afb97ee2cf62bf",
            "7c10961332d34d1d8e99952cd4e2a9aa",
            "e6d99381d30f4394aa6b7b694c8a3bed",
            "28ec4912f29245e1884b448981e176fd"
          ]
        },
        "id": "PB6qbaWx_8kb",
        "outputId": "9401e8db-71c2-40f2-a0dc-3e01a22f5a72"
      },
      "execution_count": 9,
      "outputs": [
        {
          "output_type": "display_data",
          "data": {
            "text/plain": [
              "  0%|          | 0/10000 [00:00<?, ?it/s]"
            ],
            "application/vnd.jupyter.widget-view+json": {
              "version_major": 2,
              "version_minor": 0,
              "model_id": "58a781a9e5fd4d91991555be68b5cad0"
            }
          },
          "metadata": {}
        }
      ]
    },
    {
      "cell_type": "code",
      "source": [
        "import matplotlib.pyplot as plt\n",
        "test, test_labels = sample_from_task(jnp.array(4.8), jnp.array(0.5), 100, TEST_KEY)\n",
        "train_test, train_test_labels = sample_from_task(jnp.array(4.8), jnp.array(0.5),10, TEST_KEY)\n",
        "preds_initial = eqx.filter_vmap(model)(jnp.expand_dims(test,1))\n",
        "\n",
        "plt.scatter(test, preds_initial, color='blue', label=\"Pre initalization\")\n",
        "plt.scatter(test, test_labels, color='red')\n",
        "\n",
        "inner_optim = adam(1e-3, eps=1e-04)\n",
        "#inner_optim = sgd(1)  # LR = 1 since the 'real' learning rate is included in alpha\n",
        "inner_opt_state = inner_optim.init(eqx.filter(model, eqx.is_array))\n",
        "\n",
        "trainable_model = copy.deepcopy(model)\n",
        "for i in range(32):\n",
        "    loss, grad = eqx.filter_value_and_grad(batch_loss)(trainable_model, train_test, train_test_labels)  # Compute loss and gradient\n",
        "    updates, inner_opt_state = inner_optim.update(grad, inner_opt_state, trainable_model) \n",
        "    trainable_model = eqx.apply_updates(trainable_model, updates) \n",
        "\n",
        "preds_shot = eqx.filter_vmap(trainable_model)(jnp.expand_dims(test,1))\n",
        "plt.scatter(test, preds_shot, label=\"K-shot learning\")\n",
        "plt.scatter(train_test, train_test_labels, color='black')\n",
        "plt.legend()\n",
        "plt.show()"
      ],
      "metadata": {
        "colab": {
          "base_uri": "https://localhost:8080/",
          "height": 430
        },
        "id": "S4uZeg6xADPT",
        "outputId": "6d0ed5fa-1827-4eb8-c79a-1a64d520f25c"
      },
      "execution_count": 10,
      "outputs": [
        {
          "output_type": "display_data",
          "data": {
            "text/plain": [
              "<Figure size 640x480 with 1 Axes>"
            ],
            "image/png": "[encoded data removed]"
          },
          "metadata": {}
        }
      ]
    }
  ]
}