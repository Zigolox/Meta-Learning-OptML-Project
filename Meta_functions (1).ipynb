{
  "nbformat": 4,
  "nbformat_minor": 0,
  "metadata": {
    "colab": {
      "provenance": []
    },
    "kernelspec": {
      "name": "python3",
      "display_name": "Python 3"
    },
    "language_info": {
      "name": "python"
    },
    "widgets": {
      "application/vnd.jupyter.widget-state+json": {
        "3df79da2793c466180662a46c024a156": {
          "model_module": "@jupyter-widgets/controls",
          "model_name": "HBoxModel",
          "model_module_version": "1.5.0",
          "state": {
            "_dom_classes": [],
            "_model_module": "@jupyter-widgets/controls",
            "_model_module_version": "1.5.0",
            "_model_name": "HBoxModel",
            "_view_count": null,
            "_view_module": "@jupyter-widgets/controls",
            "_view_module_version": "1.5.0",
            "_view_name": "HBoxView",
            "box_style": "",
            "children": [
              "IPY_MODEL_30510d0121d24e9184cea9e8a23be3ed",
              "IPY_MODEL_f95636b8df864471a7defb0e9bc7da18",
              "IPY_MODEL_bcd810a25bd04d10950886eaa5c9959e"
            ],
            "layout": "IPY_MODEL_a7444a9b30cb44068efa17dbcb433ddf"
          }
        },
        "30510d0121d24e9184cea9e8a23be3ed": {
          "model_module": "@jupyter-widgets/controls",
          "model_name": "HTMLModel",
          "model_module_version": "1.5.0",
          "state": {
            "_dom_classes": [],
            "_model_module": "@jupyter-widgets/controls",
            "_model_module_version": "1.5.0",
            "_model_name": "HTMLModel",
            "_view_count": null,
            "_view_module": "@jupyter-widgets/controls",
            "_view_module_version": "1.5.0",
            "_view_name": "HTMLView",
            "description": "",
            "description_tooltip": null,
            "layout": "IPY_MODEL_744ab88f397045aebc0ad794dc0e77d3",
            "placeholder": "​",
            "style": "IPY_MODEL_02d41fc6fb01423aaf4d86cec5f6e694",
            "value": "Running for 60,000 iterations: 100%"
          }
        },
        "f95636b8df864471a7defb0e9bc7da18": {
          "model_module": "@jupyter-widgets/controls",
          "model_name": "FloatProgressModel",
          "model_module_version": "1.5.0",
          "state": {
            "_dom_classes": [],
            "_model_module": "@jupyter-widgets/controls",
            "_model_module_version": "1.5.0",
            "_model_name": "FloatProgressModel",
            "_view_count": null,
            "_view_module": "@jupyter-widgets/controls",
            "_view_module_version": "1.5.0",
            "_view_name": "ProgressView",
            "bar_style": "success",
            "description": "",
            "description_tooltip": null,
            "layout": "IPY_MODEL_f7c368c98e2f449cb2e7f5513e0e58f1",
            "max": 60000,
            "min": 0,
            "orientation": "horizontal",
            "style": "IPY_MODEL_413fa2118e5b4d4e93f0e97f9d5b2110",
            "value": 60000
          }
        },
        "bcd810a25bd04d10950886eaa5c9959e": {
          "model_module": "@jupyter-widgets/controls",
          "model_name": "HTMLModel",
          "model_module_version": "1.5.0",
          "state": {
            "_dom_classes": [],
            "_model_module": "@jupyter-widgets/controls",
            "_model_module_version": "1.5.0",
            "_model_name": "HTMLModel",
            "_view_count": null,
            "_view_module": "@jupyter-widgets/controls",
            "_view_module_version": "1.5.0",
            "_view_name": "HTMLView",
            "description": "",
            "description_tooltip": null,
            "layout": "IPY_MODEL_bc037474312f4c66a0d64e59aaffc70b",
            "placeholder": "​",
            "style": "IPY_MODEL_54dc941db0e7484994af6a6d706855d8",
            "value": " 60000/60000 [00:28&lt;00:00, 3097.62it/s]"
          }
        },
        "a7444a9b30cb44068efa17dbcb433ddf": {
          "model_module": "@jupyter-widgets/base",
          "model_name": "LayoutModel",
          "model_module_version": "1.2.0",
          "state": {
            "_model_module": "@jupyter-widgets/base",
            "_model_module_version": "1.2.0",
            "_model_name": "LayoutModel",
            "_view_count": null,
            "_view_module": "@jupyter-widgets/base",
            "_view_module_version": "1.2.0",
            "_view_name": "LayoutView",
            "align_content": null,
            "align_items": null,
            "align_self": null,
            "border": null,
            "bottom": null,
            "display": null,
            "flex": null,
            "flex_flow": null,
            "grid_area": null,
            "grid_auto_columns": null,
            "grid_auto_flow": null,
            "grid_auto_rows": null,
            "grid_column": null,
            "grid_gap": null,
            "grid_row": null,
            "grid_template_areas": null,
            "grid_template_columns": null,
            "grid_template_rows": null,
            "height": null,
            "justify_content": null,
            "justify_items": null,
            "left": null,
            "margin": null,
            "max_height": null,
            "max_width": null,
            "min_height": null,
            "min_width": null,
            "object_fit": null,
            "object_position": null,
            "order": null,
            "overflow": null,
            "overflow_x": null,
            "overflow_y": null,
            "padding": null,
            "right": null,
            "top": null,
            "visibility": null,
            "width": null
          }
        },
        "744ab88f397045aebc0ad794dc0e77d3": {
          "model_module": "@jupyter-widgets/base",
          "model_name": "LayoutModel",
          "model_module_version": "1.2.0",
          "state": {
            "_model_module": "@jupyter-widgets/base",
            "_model_module_version": "1.2.0",
            "_model_name": "LayoutModel",
            "_view_count": null,
            "_view_module": "@jupyter-widgets/base",
            "_view_module_version": "1.2.0",
            "_view_name": "LayoutView",
            "align_content": null,
            "align_items": null,
            "align_self": null,
            "border": null,
            "bottom": null,
            "display": null,
            "flex": null,
            "flex_flow": null,
            "grid_area": null,
            "grid_auto_columns": null,
            "grid_auto_flow": null,
            "grid_auto_rows": null,
            "grid_column": null,
            "grid_gap": null,
            "grid_row": null,
            "grid_template_areas": null,
            "grid_template_columns": null,
            "grid_template_rows": null,
            "height": null,
            "justify_content": null,
            "justify_items": null,
            "left": null,
            "margin": null,
            "max_height": null,
            "max_width": null,
            "min_height": null,
            "min_width": null,
            "object_fit": null,
            "object_position": null,
            "order": null,
            "overflow": null,
            "overflow_x": null,
            "overflow_y": null,
            "padding": null,
            "right": null,
            "top": null,
            "visibility": null,
            "width": null
          }
        },
        "02d41fc6fb01423aaf4d86cec5f6e694": {
          "model_module": "@jupyter-widgets/controls",
          "model_name": "DescriptionStyleModel",
          "model_module_version": "1.5.0",
          "state": {
            "_model_module": "@jupyter-widgets/controls",
            "_model_module_version": "1.5.0",
            "_model_name": "DescriptionStyleModel",
            "_view_count": null,
            "_view_module": "@jupyter-widgets/base",
            "_view_module_version": "1.2.0",
            "_view_name": "StyleView",
            "description_width": ""
          }
        },
        "f7c368c98e2f449cb2e7f5513e0e58f1": {
          "model_module": "@jupyter-widgets/base",
          "model_name": "LayoutModel",
          "model_module_version": "1.2.0",
          "state": {
            "_model_module": "@jupyter-widgets/base",
            "_model_module_version": "1.2.0",
            "_model_name": "LayoutModel",
            "_view_count": null,
            "_view_module": "@jupyter-widgets/base",
            "_view_module_version": "1.2.0",
            "_view_name": "LayoutView",
            "align_content": null,
            "align_items": null,
            "align_self": null,
            "border": null,
            "bottom": null,
            "display": null,
            "flex": null,
            "flex_flow": null,
            "grid_area": null,
            "grid_auto_columns": null,
            "grid_auto_flow": null,
            "grid_auto_rows": null,
            "grid_column": null,
            "grid_gap": null,
            "grid_row": null,
            "grid_template_areas": null,
            "grid_template_columns": null,
            "grid_template_rows": null,
            "height": null,
            "justify_content": null,
            "justify_items": null,
            "left": null,
            "margin": null,
            "max_height": null,
            "max_width": null,
            "min_height": null,
            "min_width": null,
            "object_fit": null,
            "object_position": null,
            "order": null,
            "overflow": null,
            "overflow_x": null,
            "overflow_y": null,
            "padding": null,
            "right": null,
            "top": null,
            "visibility": null,
            "width": null
          }
        },
        "413fa2118e5b4d4e93f0e97f9d5b2110": {
          "model_module": "@jupyter-widgets/controls",
          "model_name": "ProgressStyleModel",
          "model_module_version": "1.5.0",
          "state": {
            "_model_module": "@jupyter-widgets/controls",
            "_model_module_version": "1.5.0",
            "_model_name": "ProgressStyleModel",
            "_view_count": null,
            "_view_module": "@jupyter-widgets/base",
            "_view_module_version": "1.2.0",
            "_view_name": "StyleView",
            "bar_color": null,
            "description_width": ""
          }
        },
        "bc037474312f4c66a0d64e59aaffc70b": {
          "model_module": "@jupyter-widgets/base",
          "model_name": "LayoutModel",
          "model_module_version": "1.2.0",
          "state": {
            "_model_module": "@jupyter-widgets/base",
            "_model_module_version": "1.2.0",
            "_model_name": "LayoutModel",
            "_view_count": null,
            "_view_module": "@jupyter-widgets/base",
            "_view_module_version": "1.2.0",
            "_view_name": "LayoutView",
            "align_content": null,
            "align_items": null,
            "align_self": null,
            "border": null,
            "bottom": null,
            "display": null,
            "flex": null,
            "flex_flow": null,
            "grid_area": null,
            "grid_auto_columns": null,
            "grid_auto_flow": null,
            "grid_auto_rows": null,
            "grid_column": null,
            "grid_gap": null,
            "grid_row": null,
            "grid_template_areas": null,
            "grid_template_columns": null,
            "grid_template_rows": null,
            "height": null,
            "justify_content": null,
            "justify_items": null,
            "left": null,
            "margin": null,
            "max_height": null,
            "max_width": null,
            "min_height": null,
            "min_width": null,
            "object_fit": null,
            "object_position": null,
            "order": null,
            "overflow": null,
            "overflow_x": null,
            "overflow_y": null,
            "padding": null,
            "right": null,
            "top": null,
            "visibility": null,
            "width": null
          }
        },
        "54dc941db0e7484994af6a6d706855d8": {
          "model_module": "@jupyter-widgets/controls",
          "model_name": "DescriptionStyleModel",
          "model_module_version": "1.5.0",
          "state": {
            "_model_module": "@jupyter-widgets/controls",
            "_model_module_version": "1.5.0",
            "_model_name": "DescriptionStyleModel",
            "_view_count": null,
            "_view_module": "@jupyter-widgets/base",
            "_view_module_version": "1.2.0",
            "_view_name": "StyleView",
            "description_width": ""
          }
        },
        "aeee59ef59434d99bac510e30519ecee": {
          "model_module": "@jupyter-widgets/controls",
          "model_name": "HBoxModel",
          "model_module_version": "1.5.0",
          "state": {
            "_dom_classes": [],
            "_model_module": "@jupyter-widgets/controls",
            "_model_module_version": "1.5.0",
            "_model_name": "HBoxModel",
            "_view_count": null,
            "_view_module": "@jupyter-widgets/controls",
            "_view_module_version": "1.5.0",
            "_view_name": "HBoxView",
            "box_style": "",
            "children": [
              "IPY_MODEL_ae1af7221c474016a2622cdf7ca7ffb7",
              "IPY_MODEL_1270f6ba2f81472c84d10d55a8769dcc",
              "IPY_MODEL_778b002b061a4092af5f87bbac4b37b9"
            ],
            "layout": "IPY_MODEL_4a1d3800baa242e6a5fde3fac7bfccad"
          }
        },
        "ae1af7221c474016a2622cdf7ca7ffb7": {
          "model_module": "@jupyter-widgets/controls",
          "model_name": "HTMLModel",
          "model_module_version": "1.5.0",
          "state": {
            "_dom_classes": [],
            "_model_module": "@jupyter-widgets/controls",
            "_model_module_version": "1.5.0",
            "_model_name": "HTMLModel",
            "_view_count": null,
            "_view_module": "@jupyter-widgets/controls",
            "_view_module_version": "1.5.0",
            "_view_name": "HTMLView",
            "description": "",
            "description_tooltip": null,
            "layout": "IPY_MODEL_d1692c3396554be9bf844ec9e1b60f0b",
            "placeholder": "​",
            "style": "IPY_MODEL_4b11ff2fbcde408cbfd793b7b46ae198",
            "value": "Running for 60,000 iterations: 100%"
          }
        },
        "1270f6ba2f81472c84d10d55a8769dcc": {
          "model_module": "@jupyter-widgets/controls",
          "model_name": "FloatProgressModel",
          "model_module_version": "1.5.0",
          "state": {
            "_dom_classes": [],
            "_model_module": "@jupyter-widgets/controls",
            "_model_module_version": "1.5.0",
            "_model_name": "FloatProgressModel",
            "_view_count": null,
            "_view_module": "@jupyter-widgets/controls",
            "_view_module_version": "1.5.0",
            "_view_name": "ProgressView",
            "bar_style": "success",
            "description": "",
            "description_tooltip": null,
            "layout": "IPY_MODEL_de8c96606e464764ab5fef744515a451",
            "max": 60000,
            "min": 0,
            "orientation": "horizontal",
            "style": "IPY_MODEL_1327f1d758054e1a8f1f8b67eacd0211",
            "value": 60000
          }
        },
        "778b002b061a4092af5f87bbac4b37b9": {
          "model_module": "@jupyter-widgets/controls",
          "model_name": "HTMLModel",
          "model_module_version": "1.5.0",
          "state": {
            "_dom_classes": [],
            "_model_module": "@jupyter-widgets/controls",
            "_model_module_version": "1.5.0",
            "_model_name": "HTMLModel",
            "_view_count": null,
            "_view_module": "@jupyter-widgets/controls",
            "_view_module_version": "1.5.0",
            "_view_name": "HTMLView",
            "description": "",
            "description_tooltip": null,
            "layout": "IPY_MODEL_faa0b68af7bd48e2a4dc754f4cb03be8",
            "placeholder": "​",
            "style": "IPY_MODEL_85ebdc8534d9417886c8aeb1be8acc54",
            "value": " 60000/60000 [00:23&lt;00:00, 3231.11it/s]"
          }
        },
        "4a1d3800baa242e6a5fde3fac7bfccad": {
          "model_module": "@jupyter-widgets/base",
          "model_name": "LayoutModel",
          "model_module_version": "1.2.0",
          "state": {
            "_model_module": "@jupyter-widgets/base",
            "_model_module_version": "1.2.0",
            "_model_name": "LayoutModel",
            "_view_count": null,
            "_view_module": "@jupyter-widgets/base",
            "_view_module_version": "1.2.0",
            "_view_name": "LayoutView",
            "align_content": null,
            "align_items": null,
            "align_self": null,
            "border": null,
            "bottom": null,
            "display": null,
            "flex": null,
            "flex_flow": null,
            "grid_area": null,
            "grid_auto_columns": null,
            "grid_auto_flow": null,
            "grid_auto_rows": null,
            "grid_column": null,
            "grid_gap": null,
            "grid_row": null,
            "grid_template_areas": null,
            "grid_template_columns": null,
            "grid_template_rows": null,
            "height": null,
            "justify_content": null,
            "justify_items": null,
            "left": null,
            "margin": null,
            "max_height": null,
            "max_width": null,
            "min_height": null,
            "min_width": null,
            "object_fit": null,
            "object_position": null,
            "order": null,
            "overflow": null,
            "overflow_x": null,
            "overflow_y": null,
            "padding": null,
            "right": null,
            "top": null,
            "visibility": null,
            "width": null
          }
        },
        "d1692c3396554be9bf844ec9e1b60f0b": {
          "model_module": "@jupyter-widgets/base",
          "model_name": "LayoutModel",
          "model_module_version": "1.2.0",
          "state": {
            "_model_module": "@jupyter-widgets/base",
            "_model_module_version": "1.2.0",
            "_model_name": "LayoutModel",
            "_view_count": null,
            "_view_module": "@jupyter-widgets/base",
            "_view_module_version": "1.2.0",
            "_view_name": "LayoutView",
            "align_content": null,
            "align_items": null,
            "align_self": null,
            "border": null,
            "bottom": null,
            "display": null,
            "flex": null,
            "flex_flow": null,
            "grid_area": null,
            "grid_auto_columns": null,
            "grid_auto_flow": null,
            "grid_auto_rows": null,
            "grid_column": null,
            "grid_gap": null,
            "grid_row": null,
            "grid_template_areas": null,
            "grid_template_columns": null,
            "grid_template_rows": null,
            "height": null,
            "justify_content": null,
            "justify_items": null,
            "left": null,
            "margin": null,
            "max_height": null,
            "max_width": null,
            "min_height": null,
            "min_width": null,
            "object_fit": null,
            "object_position": null,
            "order": null,
            "overflow": null,
            "overflow_x": null,
            "overflow_y": null,
            "padding": null,
            "right": null,
            "top": null,
            "visibility": null,
            "width": null
          }
        },
        "4b11ff2fbcde408cbfd793b7b46ae198": {
          "model_module": "@jupyter-widgets/controls",
          "model_name": "DescriptionStyleModel",
          "model_module_version": "1.5.0",
          "state": {
            "_model_module": "@jupyter-widgets/controls",
            "_model_module_version": "1.5.0",
            "_model_name": "DescriptionStyleModel",
            "_view_count": null,
            "_view_module": "@jupyter-widgets/base",
            "_view_module_version": "1.2.0",
            "_view_name": "StyleView",
            "description_width": ""
          }
        },
        "de8c96606e464764ab5fef744515a451": {
          "model_module": "@jupyter-widgets/base",
          "model_name": "LayoutModel",
          "model_module_version": "1.2.0",
          "state": {
            "_model_module": "@jupyter-widgets/base",
            "_model_module_version": "1.2.0",
            "_model_name": "LayoutModel",
            "_view_count": null,
            "_view_module": "@jupyter-widgets/base",
            "_view_module_version": "1.2.0",
            "_view_name": "LayoutView",
            "align_content": null,
            "align_items": null,
            "align_self": null,
            "border": null,
            "bottom": null,
            "display": null,
            "flex": null,
            "flex_flow": null,
            "grid_area": null,
            "grid_auto_columns": null,
            "grid_auto_flow": null,
            "grid_auto_rows": null,
            "grid_column": null,
            "grid_gap": null,
            "grid_row": null,
            "grid_template_areas": null,
            "grid_template_columns": null,
            "grid_template_rows": null,
            "height": null,
            "justify_content": null,
            "justify_items": null,
            "left": null,
            "margin": null,
            "max_height": null,
            "max_width": null,
            "min_height": null,
            "min_width": null,
            "object_fit": null,
            "object_position": null,
            "order": null,
            "overflow": null,
            "overflow_x": null,
            "overflow_y": null,
            "padding": null,
            "right": null,
            "top": null,
            "visibility": null,
            "width": null
          }
        },
        "1327f1d758054e1a8f1f8b67eacd0211": {
          "model_module": "@jupyter-widgets/controls",
          "model_name": "ProgressStyleModel",
          "model_module_version": "1.5.0",
          "state": {
            "_model_module": "@jupyter-widgets/controls",
            "_model_module_version": "1.5.0",
            "_model_name": "ProgressStyleModel",
            "_view_count": null,
            "_view_module": "@jupyter-widgets/base",
            "_view_module_version": "1.2.0",
            "_view_name": "StyleView",
            "bar_color": null,
            "description_width": ""
          }
        },
        "faa0b68af7bd48e2a4dc754f4cb03be8": {
          "model_module": "@jupyter-widgets/base",
          "model_name": "LayoutModel",
          "model_module_version": "1.2.0",
          "state": {
            "_model_module": "@jupyter-widgets/base",
            "_model_module_version": "1.2.0",
            "_model_name": "LayoutModel",
            "_view_count": null,
            "_view_module": "@jupyter-widgets/base",
            "_view_module_version": "1.2.0",
            "_view_name": "LayoutView",
            "align_content": null,
            "align_items": null,
            "align_self": null,
            "border": null,
            "bottom": null,
            "display": null,
            "flex": null,
            "flex_flow": null,
            "grid_area": null,
            "grid_auto_columns": null,
            "grid_auto_flow": null,
            "grid_auto_rows": null,
            "grid_column": null,
            "grid_gap": null,
            "grid_row": null,
            "grid_template_areas": null,
            "grid_template_columns": null,
            "grid_template_rows": null,
            "height": null,
            "justify_content": null,
            "justify_items": null,
            "left": null,
            "margin": null,
            "max_height": null,
            "max_width": null,
            "min_height": null,
            "min_width": null,
            "object_fit": null,
            "object_position": null,
            "order": null,
            "overflow": null,
            "overflow_x": null,
            "overflow_y": null,
            "padding": null,
            "right": null,
            "top": null,
            "visibility": null,
            "width": null
          }
        },
        "85ebdc8534d9417886c8aeb1be8acc54": {
          "model_module": "@jupyter-widgets/controls",
          "model_name": "DescriptionStyleModel",
          "model_module_version": "1.5.0",
          "state": {
            "_model_module": "@jupyter-widgets/controls",
            "_model_module_version": "1.5.0",
            "_model_name": "DescriptionStyleModel",
            "_view_count": null,
            "_view_module": "@jupyter-widgets/base",
            "_view_module_version": "1.2.0",
            "_view_name": "StyleView",
            "description_width": ""
          }
        },
        "6cffffd9828643f4a2ce57459d3bd3ea": {
          "model_module": "@jupyter-widgets/controls",
          "model_name": "HBoxModel",
          "model_module_version": "1.5.0",
          "state": {
            "_dom_classes": [],
            "_model_module": "@jupyter-widgets/controls",
            "_model_module_version": "1.5.0",
            "_model_name": "HBoxModel",
            "_view_count": null,
            "_view_module": "@jupyter-widgets/controls",
            "_view_module_version": "1.5.0",
            "_view_name": "HBoxView",
            "box_style": "",
            "children": [
              "IPY_MODEL_d1c5094865984a479827223fd2e961bc",
              "IPY_MODEL_557b8443de204d98b3d5c49a8d4ff23a",
              "IPY_MODEL_ba13a1fa120d436796a71eb46fb60582"
            ],
            "layout": "IPY_MODEL_d5bebffa980847859818936a8bf7a49f"
          }
        },
        "d1c5094865984a479827223fd2e961bc": {
          "model_module": "@jupyter-widgets/controls",
          "model_name": "HTMLModel",
          "model_module_version": "1.5.0",
          "state": {
            "_dom_classes": [],
            "_model_module": "@jupyter-widgets/controls",
            "_model_module_version": "1.5.0",
            "_model_name": "HTMLModel",
            "_view_count": null,
            "_view_module": "@jupyter-widgets/controls",
            "_view_module_version": "1.5.0",
            "_view_name": "HTMLView",
            "description": "",
            "description_tooltip": null,
            "layout": "IPY_MODEL_f3688969083a4c3aa39a784900e04bff",
            "placeholder": "​",
            "style": "IPY_MODEL_4b4a32d8f1c54ca49e68008eb700d7d8",
            "value": "Running for 60,000 iterations: 100%"
          }
        },
        "557b8443de204d98b3d5c49a8d4ff23a": {
          "model_module": "@jupyter-widgets/controls",
          "model_name": "FloatProgressModel",
          "model_module_version": "1.5.0",
          "state": {
            "_dom_classes": [],
            "_model_module": "@jupyter-widgets/controls",
            "_model_module_version": "1.5.0",
            "_model_name": "FloatProgressModel",
            "_view_count": null,
            "_view_module": "@jupyter-widgets/controls",
            "_view_module_version": "1.5.0",
            "_view_name": "ProgressView",
            "bar_style": "success",
            "description": "",
            "description_tooltip": null,
            "layout": "IPY_MODEL_962c311296e64cff9b60001cc4542607",
            "max": 60000,
            "min": 0,
            "orientation": "horizontal",
            "style": "IPY_MODEL_82c4736e85af4a6cba7e0f024aea9ca5",
            "value": 60000
          }
        },
        "ba13a1fa120d436796a71eb46fb60582": {
          "model_module": "@jupyter-widgets/controls",
          "model_name": "HTMLModel",
          "model_module_version": "1.5.0",
          "state": {
            "_dom_classes": [],
            "_model_module": "@jupyter-widgets/controls",
            "_model_module_version": "1.5.0",
            "_model_name": "HTMLModel",
            "_view_count": null,
            "_view_module": "@jupyter-widgets/controls",
            "_view_module_version": "1.5.0",
            "_view_name": "HTMLView",
            "description": "",
            "description_tooltip": null,
            "layout": "IPY_MODEL_65ff2bb0e3ea4a258ce25cc655585653",
            "placeholder": "​",
            "style": "IPY_MODEL_f657c81b8b814985a90f9f3344d07248",
            "value": " 60000/60000 [00:13&lt;00:00, 5524.46it/s]"
          }
        },
        "d5bebffa980847859818936a8bf7a49f": {
          "model_module": "@jupyter-widgets/base",
          "model_name": "LayoutModel",
          "model_module_version": "1.2.0",
          "state": {
            "_model_module": "@jupyter-widgets/base",
            "_model_module_version": "1.2.0",
            "_model_name": "LayoutModel",
            "_view_count": null,
            "_view_module": "@jupyter-widgets/base",
            "_view_module_version": "1.2.0",
            "_view_name": "LayoutView",
            "align_content": null,
            "align_items": null,
            "align_self": null,
            "border": null,
            "bottom": null,
            "display": null,
            "flex": null,
            "flex_flow": null,
            "grid_area": null,
            "grid_auto_columns": null,
            "grid_auto_flow": null,
            "grid_auto_rows": null,
            "grid_column": null,
            "grid_gap": null,
            "grid_row": null,
            "grid_template_areas": null,
            "grid_template_columns": null,
            "grid_template_rows": null,
            "height": null,
            "justify_content": null,
            "justify_items": null,
            "left": null,
            "margin": null,
            "max_height": null,
            "max_width": null,
            "min_height": null,
            "min_width": null,
            "object_fit": null,
            "object_position": null,
            "order": null,
            "overflow": null,
            "overflow_x": null,
            "overflow_y": null,
            "padding": null,
            "right": null,
            "top": null,
            "visibility": null,
            "width": null
          }
        },
        "f3688969083a4c3aa39a784900e04bff": {
          "model_module": "@jupyter-widgets/base",
          "model_name": "LayoutModel",
          "model_module_version": "1.2.0",
          "state": {
            "_model_module": "@jupyter-widgets/base",
            "_model_module_version": "1.2.0",
            "_model_name": "LayoutModel",
            "_view_count": null,
            "_view_module": "@jupyter-widgets/base",
            "_view_module_version": "1.2.0",
            "_view_name": "LayoutView",
            "align_content": null,
            "align_items": null,
            "align_self": null,
            "border": null,
            "bottom": null,
            "display": null,
            "flex": null,
            "flex_flow": null,
            "grid_area": null,
            "grid_auto_columns": null,
            "grid_auto_flow": null,
            "grid_auto_rows": null,
            "grid_column": null,
            "grid_gap": null,
            "grid_row": null,
            "grid_template_areas": null,
            "grid_template_columns": null,
            "grid_template_rows": null,
            "height": null,
            "justify_content": null,
            "justify_items": null,
            "left": null,
            "margin": null,
            "max_height": null,
            "max_width": null,
            "min_height": null,
            "min_width": null,
            "object_fit": null,
            "object_position": null,
            "order": null,
            "overflow": null,
            "overflow_x": null,
            "overflow_y": null,
            "padding": null,
            "right": null,
            "top": null,
            "visibility": null,
            "width": null
          }
        },
        "4b4a32d8f1c54ca49e68008eb700d7d8": {
          "model_module": "@jupyter-widgets/controls",
          "model_name": "DescriptionStyleModel",
          "model_module_version": "1.5.0",
          "state": {
            "_model_module": "@jupyter-widgets/controls",
            "_model_module_version": "1.5.0",
            "_model_name": "DescriptionStyleModel",
            "_view_count": null,
            "_view_module": "@jupyter-widgets/base",
            "_view_module_version": "1.2.0",
            "_view_name": "StyleView",
            "description_width": ""
          }
        },
        "962c311296e64cff9b60001cc4542607": {
          "model_module": "@jupyter-widgets/base",
          "model_name": "LayoutModel",
          "model_module_version": "1.2.0",
          "state": {
            "_model_module": "@jupyter-widgets/base",
            "_model_module_version": "1.2.0",
            "_model_name": "LayoutModel",
            "_view_count": null,
            "_view_module": "@jupyter-widgets/base",
            "_view_module_version": "1.2.0",
            "_view_name": "LayoutView",
            "align_content": null,
            "align_items": null,
            "align_self": null,
            "border": null,
            "bottom": null,
            "display": null,
            "flex": null,
            "flex_flow": null,
            "grid_area": null,
            "grid_auto_columns": null,
            "grid_auto_flow": null,
            "grid_auto_rows": null,
            "grid_column": null,
            "grid_gap": null,
            "grid_row": null,
            "grid_template_areas": null,
            "grid_template_columns": null,
            "grid_template_rows": null,
            "height": null,
            "justify_content": null,
            "justify_items": null,
            "left": null,
            "margin": null,
            "max_height": null,
            "max_width": null,
            "min_height": null,
            "min_width": null,
            "object_fit": null,
            "object_position": null,
            "order": null,
            "overflow": null,
            "overflow_x": null,
            "overflow_y": null,
            "padding": null,
            "right": null,
            "top": null,
            "visibility": null,
            "width": null
          }
        },
        "82c4736e85af4a6cba7e0f024aea9ca5": {
          "model_module": "@jupyter-widgets/controls",
          "model_name": "ProgressStyleModel",
          "model_module_version": "1.5.0",
          "state": {
            "_model_module": "@jupyter-widgets/controls",
            "_model_module_version": "1.5.0",
            "_model_name": "ProgressStyleModel",
            "_view_count": null,
            "_view_module": "@jupyter-widgets/base",
            "_view_module_version": "1.2.0",
            "_view_name": "StyleView",
            "bar_color": null,
            "description_width": ""
          }
        },
        "65ff2bb0e3ea4a258ce25cc655585653": {
          "model_module": "@jupyter-widgets/base",
          "model_name": "LayoutModel",
          "model_module_version": "1.2.0",
          "state": {
            "_model_module": "@jupyter-widgets/base",
            "_model_module_version": "1.2.0",
            "_model_name": "LayoutModel",
            "_view_count": null,
            "_view_module": "@jupyter-widgets/base",
            "_view_module_version": "1.2.0",
            "_view_name": "LayoutView",
            "align_content": null,
            "align_items": null,
            "align_self": null,
            "border": null,
            "bottom": null,
            "display": null,
            "flex": null,
            "flex_flow": null,
            "grid_area": null,
            "grid_auto_columns": null,
            "grid_auto_flow": null,
            "grid_auto_rows": null,
            "grid_column": null,
            "grid_gap": null,
            "grid_row": null,
            "grid_template_areas": null,
            "grid_template_columns": null,
            "grid_template_rows": null,
            "height": null,
            "justify_content": null,
            "justify_items": null,
            "left": null,
            "margin": null,
            "max_height": null,
            "max_width": null,
            "min_height": null,
            "min_width": null,
            "object_fit": null,
            "object_position": null,
            "order": null,
            "overflow": null,
            "overflow_x": null,
            "overflow_y": null,
            "padding": null,
            "right": null,
            "top": null,
            "visibility": null,
            "width": null
          }
        },
        "f657c81b8b814985a90f9f3344d07248": {
          "model_module": "@jupyter-widgets/controls",
          "model_name": "DescriptionStyleModel",
          "model_module_version": "1.5.0",
          "state": {
            "_model_module": "@jupyter-widgets/controls",
            "_model_module_version": "1.5.0",
            "_model_name": "DescriptionStyleModel",
            "_view_count": null,
            "_view_module": "@jupyter-widgets/base",
            "_view_module_version": "1.2.0",
            "_view_name": "StyleView",
            "description_width": ""
          }
        },
        "45005ef41470438ba624c2f7ebe63f80": {
          "model_module": "@jupyter-widgets/controls",
          "model_name": "HBoxModel",
          "model_module_version": "1.5.0",
          "state": {
            "_dom_classes": [],
            "_model_module": "@jupyter-widgets/controls",
            "_model_module_version": "1.5.0",
            "_model_name": "HBoxModel",
            "_view_count": null,
            "_view_module": "@jupyter-widgets/controls",
            "_view_module_version": "1.5.0",
            "_view_name": "HBoxView",
            "box_style": "",
            "children": [
              "IPY_MODEL_133752a2d73b499b8a32e7543159f128",
              "IPY_MODEL_5986034335894cf0837853f2bd674f9d",
              "IPY_MODEL_1c5c8d6a96c94673a37d763ffeb10469"
            ],
            "layout": "IPY_MODEL_85c84e1911e74e3f9783f535ff81c058"
          }
        },
        "133752a2d73b499b8a32e7543159f128": {
          "model_module": "@jupyter-widgets/controls",
          "model_name": "HTMLModel",
          "model_module_version": "1.5.0",
          "state": {
            "_dom_classes": [],
            "_model_module": "@jupyter-widgets/controls",
            "_model_module_version": "1.5.0",
            "_model_name": "HTMLModel",
            "_view_count": null,
            "_view_module": "@jupyter-widgets/controls",
            "_view_module_version": "1.5.0",
            "_view_name": "HTMLView",
            "description": "",
            "description_tooltip": null,
            "layout": "IPY_MODEL_ccee70716f864a9b84752c8f48106c84",
            "placeholder": "​",
            "style": "IPY_MODEL_1178cc975fc54f9e83849cd4341812df",
            "value": "Running for 6,000 iterations: 100%"
          }
        },
        "5986034335894cf0837853f2bd674f9d": {
          "model_module": "@jupyter-widgets/controls",
          "model_name": "FloatProgressModel",
          "model_module_version": "1.5.0",
          "state": {
            "_dom_classes": [],
            "_model_module": "@jupyter-widgets/controls",
            "_model_module_version": "1.5.0",
            "_model_name": "FloatProgressModel",
            "_view_count": null,
            "_view_module": "@jupyter-widgets/controls",
            "_view_module_version": "1.5.0",
            "_view_name": "ProgressView",
            "bar_style": "success",
            "description": "",
            "description_tooltip": null,
            "layout": "IPY_MODEL_aaa6703383aa43cb80d49d16f4e7792d",
            "max": 6000,
            "min": 0,
            "orientation": "horizontal",
            "style": "IPY_MODEL_779d587aca20448b9efbd0c0e9558657",
            "value": 6000
          }
        },
        "1c5c8d6a96c94673a37d763ffeb10469": {
          "model_module": "@jupyter-widgets/controls",
          "model_name": "HTMLModel",
          "model_module_version": "1.5.0",
          "state": {
            "_dom_classes": [],
            "_model_module": "@jupyter-widgets/controls",
            "_model_module_version": "1.5.0",
            "_model_name": "HTMLModel",
            "_view_count": null,
            "_view_module": "@jupyter-widgets/controls",
            "_view_module_version": "1.5.0",
            "_view_name": "HTMLView",
            "description": "",
            "description_tooltip": null,
            "layout": "IPY_MODEL_686de45e3583406cbb1f894b2b8cf487",
            "placeholder": "​",
            "style": "IPY_MODEL_8da249eeadca42dd8df84ab295c6bbba",
            "value": " 6000/6000 [00:45&lt;00:00, 136.71it/s]"
          }
        },
        "85c84e1911e74e3f9783f535ff81c058": {
          "model_module": "@jupyter-widgets/base",
          "model_name": "LayoutModel",
          "model_module_version": "1.2.0",
          "state": {
            "_model_module": "@jupyter-widgets/base",
            "_model_module_version": "1.2.0",
            "_model_name": "LayoutModel",
            "_view_count": null,
            "_view_module": "@jupyter-widgets/base",
            "_view_module_version": "1.2.0",
            "_view_name": "LayoutView",
            "align_content": null,
            "align_items": null,
            "align_self": null,
            "border": null,
            "bottom": null,
            "display": null,
            "flex": null,
            "flex_flow": null,
            "grid_area": null,
            "grid_auto_columns": null,
            "grid_auto_flow": null,
            "grid_auto_rows": null,
            "grid_column": null,
            "grid_gap": null,
            "grid_row": null,
            "grid_template_areas": null,
            "grid_template_columns": null,
            "grid_template_rows": null,
            "height": null,
            "justify_content": null,
            "justify_items": null,
            "left": null,
            "margin": null,
            "max_height": null,
            "max_width": null,
            "min_height": null,
            "min_width": null,
            "object_fit": null,
            "object_position": null,
            "order": null,
            "overflow": null,
            "overflow_x": null,
            "overflow_y": null,
            "padding": null,
            "right": null,
            "top": null,
            "visibility": null,
            "width": null
          }
        },
        "ccee70716f864a9b84752c8f48106c84": {
          "model_module": "@jupyter-widgets/base",
          "model_name": "LayoutModel",
          "model_module_version": "1.2.0",
          "state": {
            "_model_module": "@jupyter-widgets/base",
            "_model_module_version": "1.2.0",
            "_model_name": "LayoutModel",
            "_view_count": null,
            "_view_module": "@jupyter-widgets/base",
            "_view_module_version": "1.2.0",
            "_view_name": "LayoutView",
            "align_content": null,
            "align_items": null,
            "align_self": null,
            "border": null,
            "bottom": null,
            "display": null,
            "flex": null,
            "flex_flow": null,
            "grid_area": null,
            "grid_auto_columns": null,
            "grid_auto_flow": null,
            "grid_auto_rows": null,
            "grid_column": null,
            "grid_gap": null,
            "grid_row": null,
            "grid_template_areas": null,
            "grid_template_columns": null,
            "grid_template_rows": null,
            "height": null,
            "justify_content": null,
            "justify_items": null,
            "left": null,
            "margin": null,
            "max_height": null,
            "max_width": null,
            "min_height": null,
            "min_width": null,
            "object_fit": null,
            "object_position": null,
            "order": null,
            "overflow": null,
            "overflow_x": null,
            "overflow_y": null,
            "padding": null,
            "right": null,
            "top": null,
            "visibility": null,
            "width": null
          }
        },
        "1178cc975fc54f9e83849cd4341812df": {
          "model_module": "@jupyter-widgets/controls",
          "model_name": "DescriptionStyleModel",
          "model_module_version": "1.5.0",
          "state": {
            "_model_module": "@jupyter-widgets/controls",
            "_model_module_version": "1.5.0",
            "_model_name": "DescriptionStyleModel",
            "_view_count": null,
            "_view_module": "@jupyter-widgets/base",
            "_view_module_version": "1.2.0",
            "_view_name": "StyleView",
            "description_width": ""
          }
        },
        "aaa6703383aa43cb80d49d16f4e7792d": {
          "model_module": "@jupyter-widgets/base",
          "model_name": "LayoutModel",
          "model_module_version": "1.2.0",
          "state": {
            "_model_module": "@jupyter-widgets/base",
            "_model_module_version": "1.2.0",
            "_model_name": "LayoutModel",
            "_view_count": null,
            "_view_module": "@jupyter-widgets/base",
            "_view_module_version": "1.2.0",
            "_view_name": "LayoutView",
            "align_content": null,
            "align_items": null,
            "align_self": null,
            "border": null,
            "bottom": null,
            "display": null,
            "flex": null,
            "flex_flow": null,
            "grid_area": null,
            "grid_auto_columns": null,
            "grid_auto_flow": null,
            "grid_auto_rows": null,
            "grid_column": null,
            "grid_gap": null,
            "grid_row": null,
            "grid_template_areas": null,
            "grid_template_columns": null,
            "grid_template_rows": null,
            "height": null,
            "justify_content": null,
            "justify_items": null,
            "left": null,
            "margin": null,
            "max_height": null,
            "max_width": null,
            "min_height": null,
            "min_width": null,
            "object_fit": null,
            "object_position": null,
            "order": null,
            "overflow": null,
            "overflow_x": null,
            "overflow_y": null,
            "padding": null,
            "right": null,
            "top": null,
            "visibility": null,
            "width": null
          }
        },
        "779d587aca20448b9efbd0c0e9558657": {
          "model_module": "@jupyter-widgets/controls",
          "model_name": "ProgressStyleModel",
          "model_module_version": "1.5.0",
          "state": {
            "_model_module": "@jupyter-widgets/controls",
            "_model_module_version": "1.5.0",
            "_model_name": "ProgressStyleModel",
            "_view_count": null,
            "_view_module": "@jupyter-widgets/base",
            "_view_module_version": "1.2.0",
            "_view_name": "StyleView",
            "bar_color": null,
            "description_width": ""
          }
        },
        "686de45e3583406cbb1f894b2b8cf487": {
          "model_module": "@jupyter-widgets/base",
          "model_name": "LayoutModel",
          "model_module_version": "1.2.0",
          "state": {
            "_model_module": "@jupyter-widgets/base",
            "_model_module_version": "1.2.0",
            "_model_name": "LayoutModel",
            "_view_count": null,
            "_view_module": "@jupyter-widgets/base",
            "_view_module_version": "1.2.0",
            "_view_name": "LayoutView",
            "align_content": null,
            "align_items": null,
            "align_self": null,
            "border": null,
            "bottom": null,
            "display": null,
            "flex": null,
            "flex_flow": null,
            "grid_area": null,
            "grid_auto_columns": null,
            "grid_auto_flow": null,
            "grid_auto_rows": null,
            "grid_column": null,
            "grid_gap": null,
            "grid_row": null,
            "grid_template_areas": null,
            "grid_template_columns": null,
            "grid_template_rows": null,
            "height": null,
            "justify_content": null,
            "justify_items": null,
            "left": null,
            "margin": null,
            "max_height": null,
            "max_width": null,
            "min_height": null,
            "min_width": null,
            "object_fit": null,
            "object_position": null,
            "order": null,
            "overflow": null,
            "overflow_x": null,
            "overflow_y": null,
            "padding": null,
            "right": null,
            "top": null,
            "visibility": null,
            "width": null
          }
        },
        "8da249eeadca42dd8df84ab295c6bbba": {
          "model_module": "@jupyter-widgets/controls",
          "model_name": "DescriptionStyleModel",
          "model_module_version": "1.5.0",
          "state": {
            "_model_module": "@jupyter-widgets/controls",
            "_model_module_version": "1.5.0",
            "_model_name": "DescriptionStyleModel",
            "_view_count": null,
            "_view_module": "@jupyter-widgets/base",
            "_view_module_version": "1.2.0",
            "_view_name": "StyleView",
            "description_width": ""
          }
        }
      }
    }
  },
  "cells": [
    {
      "cell_type": "code",
      "execution_count": 1,
      "metadata": {
        "colab": {
          "base_uri": "https://localhost:8080/"
        },
        "id": "yJpRSnmsZAdf",
        "outputId": "2c8e4ade-3d86-4bfa-99e4-23cd679711a1"
      },
      "outputs": [
        {
          "output_type": "stream",
          "name": "stdout",
          "text": [
            "fatal: destination path 'Meta-Learning-OptML-Project' already exists and is not an empty directory.\n",
            "/content/Meta-Learning-OptML-Project\n"
          ]
        }
      ],
      "source": [
        "!git clone https://github.com/Zigolox/Meta-Learning-OptML-Project\n",
        "%cd /content/Meta-Learning-OptML-Project"
      ]
    },
    {
      "cell_type": "code",
      "source": [
        "%%capture\n",
        "!pip install --upgrade einops optax equinox distrax jaxopt jax-tqdm"
      ],
      "metadata": {
        "id": "ym4gcKkDZhUh"
      },
      "execution_count": 2,
      "outputs": []
    },
    {
      "cell_type": "code",
      "source": [
        "from jax import numpy as jnp\n",
        "from jax import random, value_and_grad, lax\n",
        "from optax import adam, sgd, apply_updates, chain, clip, softmax_cross_entropy_with_integer_labels\n",
        "from einops import rearrange, reduce, repeat\n",
        "from functools import partial\n",
        "from tqdm.notebook import tqdm\n",
        "import equinox as eqx\n",
        "import tensorflow_datasets as tfds\n",
        "import tensorflow as tf\n",
        "from jax.random import split, normal, randint\n",
        "from jax import lax, vmap, checkpoint\n",
        "from distrax import Normal, Bernoulli\n",
        "from jax.nn import gelu, sigmoid\n",
        "from jax import disable_jit\n",
        "from jaxopt import FixedPointIteration\n",
        "from jax.tree_util import tree_map, tree_leaves\n",
        "\n",
        "from jax_tqdm import scan_tqdm\n",
        "from jax import lax\n",
        "import jax.numpy as jnp\n",
        "\n",
        "# Typing \n",
        "from jax import Array\n",
        "from typing import Optional, Sequence, Tuple, Any\n",
        "from jax.random import PRNGKeyArray\n",
        "\n",
        "SEED = 0\n",
        "MODEL_KEY = random.PRNGKey(SEED)\n",
        "TEST_KEY = random.PRNGKey(SEED + 1)\n",
        "TRAIN_KEY = random.PRNGKey(SEED + 2)\n",
        "\n",
        "import copy\n",
        "import matplotlib.pyplot as plt"
      ],
      "metadata": {
        "colab": {
          "base_uri": "https://localhost:8080/"
        },
        "id": "7hzsAhYTZm5D",
        "outputId": "9d8c4d50-f19d-4e32-879f-f1f550aca6e3"
      },
      "execution_count": 3,
      "outputs": [
        {
          "output_type": "stream",
          "name": "stderr",
          "text": [
            "WARNING:jax._src.xla_bridge:No GPU/TPU found, falling back to CPU. (Set TF_CPP_MIN_LOG_LEVEL=0 and rerun for more info.)\n"
          ]
        }
      ]
    },
    {
      "cell_type": "code",
      "source": [
        "def multi_batch_loss(model_alpha, batch_loss, batch_of_tasks, inner_step) -> Array:\n",
        "    \"\"\"Compute the loss over all models\"\"\"\n",
        "\n",
        "    # get model_i', test_i, test_labels_i for all tasks i:\n",
        "    batch_train, batch_train_labels, batch_test, batch_test_labels = batch_of_tasks\n",
        "    models = eqx.filter_vmap(task_update,in_axes=(None,0,0,None,None))(model_alpha, batch_train, batch_train_labels, inner_step, batch_loss)\n",
        "    # sum loss_i(model_i', test_i, test_labels_i)\n",
        "    return eqx.filter_vmap(batch_loss)(models, batch_test, batch_test_labels).sum()"
      ],
      "metadata": {
        "id": "UKQPu1MEZqnE"
      },
      "execution_count": 4,
      "outputs": []
    },
    {
      "cell_type": "code",
      "source": [
        "def batch_loss(model, x_arr: Array, labels: Array) -> Array:\n",
        "    '''Compute the loss.'''\n",
        "\n",
        "    def loss(x: Array, label: Array):\n",
        "        # -> (model(x)-Asin(x+w))^2\n",
        "        pred = model(jnp.array([x]))\n",
        "        return (pred-label)**2\n",
        "\n",
        "    # Mean over the batch\n",
        "    return vmap(loss)(x_arr, labels).mean()"
      ],
      "metadata": {
        "id": "pLwGKMm6aZta"
      },
      "execution_count": 5,
      "outputs": []
    },
    {
      "cell_type": "code",
      "source": [
        "def task_update(model_alpha, train, train_labels, inner_step, batch_loss):\n",
        "    model_i = inner_step(model_alpha, train, train_labels, batch_loss)  # compute model_i'\n",
        "    return model_i"
      ],
      "metadata": {
        "id": "kbealzEef_zn"
      },
      "execution_count": 6,
      "outputs": []
    },
    {
      "cell_type": "code",
      "source": [
        "@partial(eqx.filter_jit)\n",
        "def outer_step_METASGD(model_alpha, batch_loss, outer_optim, outer_opt_state,\n",
        "         inner_step, batch_of_tasks):\n",
        "     \n",
        "    loss, grads = eqx.filter_value_and_grad(multi_batch_loss)(model_alpha, batch_loss, batch_of_tasks, inner_step)  # Compute loss and gradient, meta step\n",
        "    updates, outer_opt_state = outer_optim.update(grads, outer_opt_state, model_alpha)  \n",
        "    model_alpha = eqx.apply_updates(model_alpha, updates)  \n",
        "\n",
        "    return loss, model_alpha, outer_opt_state\n",
        "\n"
      ],
      "metadata": {
        "id": "bokcGKXJdInS"
      },
      "execution_count": 7,
      "outputs": []
    },
    {
      "cell_type": "code",
      "source": [
        "# Training step function\n",
        "#@eqx.filter_jit\n",
        "def inner_step_METASGD(model_alpha, train, train_labels, batch_loss):\n",
        "\n",
        "    model, alpha = copy.deepcopy(model_alpha[0]), model_alpha[1] \n",
        "\n",
        "    inner_optim = sgd(1) \n",
        "    inner_opt_state = inner_optim.init(eqx.filter(model, eqx.is_array))\n",
        "\n",
        "    loss, grad = eqx.filter_value_and_grad(batch_loss)(model, train, train_labels)  # Compute loss and gradient\n",
        "    mod_grad = tree_map(lambda x,y: x*y, grad, alpha)  # replace standard gradient with alpha*gradient (elementwise product)\n",
        "    updates, opt_state = inner_optim.update(mod_grad, inner_opt_state, model)  \n",
        "    model = eqx.apply_updates(model, updates)  \n",
        "\n",
        "    return model"
      ],
      "metadata": {
        "id": "utjY-DTqbXQU"
      },
      "execution_count": 8,
      "outputs": []
    },
    {
      "cell_type": "code",
      "source": [
        "@partial(eqx.filter_jit)\n",
        "def outer_step_MAML(model, batch_loss, outer_optim, outer_opt_state,\n",
        "         inner_step, batch_of_tasks):\n",
        "     \n",
        "    loss, grads = eqx.filter_value_and_grad(multi_batch_loss)(model, batch_loss, batch_of_tasks, inner_step)  # Compute loss and gradient, meta step\n",
        "    updates, outer_opt_state = outer_optim.update(grads, outer_opt_state, model)  \n",
        "    model = eqx.apply_updates(model, updates)  \n",
        "\n",
        "    return loss, model, outer_opt_state"
      ],
      "metadata": {
        "id": "7vohAl9R9xPH"
      },
      "execution_count": 9,
      "outputs": []
    },
    {
      "cell_type": "code",
      "source": [
        "def inner_step_MAML(model, train, train_labels, batch_loss):\n",
        "\n",
        "    model = copy.deepcopy(model)\n",
        "\n",
        "    inner_optim = sgd(0.01) \n",
        "    inner_opt_state = inner_optim.init(eqx.filter(model, eqx.is_array))\n",
        "\n",
        "    loss, grad = eqx.filter_value_and_grad(batch_loss)(model, train, train_labels)  # Compute loss and gradient\n",
        "    updates, opt_state = inner_optim.update(grad, inner_opt_state, model)  \n",
        "    model = eqx.apply_updates(model, updates)  \n",
        "\n",
        "    return model"
      ],
      "metadata": {
        "id": "nuRGklSw92qB"
      },
      "execution_count": 10,
      "outputs": []
    },
    {
      "cell_type": "code",
      "source": [
        "@partial(eqx.filter_jit)\n",
        "def outer_step_FOMAML(model, batch_loss, outer_optim, outer_opt_state,\n",
        "         inner_step, batch_of_tasks):\n",
        "    \n",
        "    batch_train, batch_train_labels, batch_test, batch_test_labels = batch_of_tasks\n",
        "    models = eqx.filter_vmap(task_update,in_axes=(None,0,0,None,None))(model, batch_train, batch_train_labels, inner_step, batch_loss)\n",
        "    def multi_batch_loss_fomaml(models, test, test_labels) -> Array:\n",
        "            \"\"\"Compute the loss over all models\"\"\"\n",
        "            return eqx.filter_vmap(batch_loss)(models, test, test_labels).sum()\n",
        "    \n",
        "    loss, grads = eqx.filter_value_and_grad(multi_batch_loss_fomaml)(models, batch_test, batch_test_labels)  # Compute loss and gradient, meta step\n",
        "    grad = tree_map(lambda x : x.sum(0),grads)\n",
        "    updates, outer_opt_state = outer_optim.update(grad, outer_opt_state, model)  \n",
        "    model = eqx.apply_updates(model, updates)  \n",
        "\n",
        "    return loss, model, outer_opt_state"
      ],
      "metadata": {
        "id": "jSYpnFNa_0Qy"
      },
      "execution_count": 11,
      "outputs": []
    },
    {
      "cell_type": "code",
      "source": [
        "def inner_step_FOMAML(model, train, train_labels, batch_loss):\n",
        "\n",
        "    model = copy.deepcopy(model)\n",
        "\n",
        "    inner_optim = sgd(0.01) \n",
        "    inner_opt_state = inner_optim.init(eqx.filter(model, eqx.is_array))\n",
        "\n",
        "    loss, grad = eqx.filter_value_and_grad(batch_loss)(model, train, train_labels)  # Compute loss and gradient\n",
        "    updates, opt_state = inner_optim.update(grad, inner_opt_state, model)  \n",
        "    model = eqx.apply_updates(model, updates)  \n",
        "\n",
        "    return model"
      ],
      "metadata": {
        "id": "KYohCiYb_7MD"
      },
      "execution_count": 12,
      "outputs": []
    },
    {
      "cell_type": "code",
      "source": [
        "@partial(eqx.filter_jit)\n",
        "def outer_step_REPTILE(model, batch_loss, outer_optim, outer_opt_state,\n",
        "         inner_step, batch_of_tasks):\n",
        "    \n",
        "    batch_train, batch_train_labels, batch_test, batch_test_labels = batch_of_tasks\n",
        "\n",
        "    models = eqx.filter_vmap(task_update,in_axes=(None,0,0,None,None))(model, batch_train, batch_train_labels, inner_step, batch_loss)\n",
        "\n",
        "    model_tilde = tree_map(lambda x: x.sum(0), eqx.filter(models,eqx.is_array))\n",
        "    model_tilde = tree_map(lambda x: (1/meta_batch_size)*x, model_tilde)\n",
        "\n",
        "    dyn_model = tree_map((lambda x,y: x+0.01*(y-x)), eqx.filter(model,eqx.is_array), eqx.filter(model_tilde,eqx.is_array))\n",
        "    model = eqx.combine(dyn_model, model)\n",
        "    \n",
        "    loss, outer_opt_state = None, None\n",
        "    return loss, model, outer_opt_state"
      ],
      "metadata": {
        "id": "irvSvaSdDGRb"
      },
      "execution_count": 13,
      "outputs": []
    },
    {
      "cell_type": "code",
      "source": [
        "def inner_step_REPTILE(model, train, train_labels, batch_loss):\n",
        "\n",
        "    model = copy.deepcopy(model)\n",
        "\n",
        "    inner_optim = adam(1e-3, 1e-04) \n",
        "    inner_opt_state = inner_optim.init(eqx.filter(model, eqx.is_array))\n",
        "\n",
        "    # my attempt to scan:\n",
        "    dynamic_model, static_model = eqx.partition(model, eqx.is_array)\n",
        "    def step(carry, i):\n",
        "        dynamic_model, inner_opt_state = carry\n",
        "        loss, grad = eqx.filter_value_and_grad(batch_loss)(eqx.combine(dynamic_model,static_model), train, train_labels)  # Compute loss and gradient\n",
        "        updates, inner_opt_state = inner_optim.update(grad, inner_opt_state, eqx.combine(dynamic_model,static_model))  \n",
        "        model = eqx.apply_updates(eqx.combine(dynamic_model,static_model), updates) \n",
        "        return (eqx.partition(model, eqx.is_array)[0], inner_opt_state), loss\n",
        "    carry = (dynamic_model, inner_opt_state)\n",
        "    (dynamic_model, inner_opt_state), losses = lax.scan(step,carry,jnp.arange(32))\n",
        "    model = eqx.combine(dynamic_model,static_model)\n",
        "    \n",
        "    #for j in range(32):  # K steps of SGD or ADAM\n",
        "     #   loss, grad = eqx.filter_value_and_grad(batch_loss)(model, train, train_labels)  # Compute loss and gradient\n",
        "      #  updates, inner_opt_state = inner_optim.update(grad, inner_opt_state, model)  \n",
        "       # model = eqx.apply_updates(model, updates)   \n",
        "\n",
        "    return model"
      ],
      "metadata": {
        "id": "5sP2b4a1Dmmb"
      },
      "execution_count": 14,
      "outputs": []
    },
    {
      "cell_type": "code",
      "source": [
        "# function to load data\n",
        "def load_batch_of_tasks(nr_train, nr_test, train_key, test_key):  \n",
        "    A = random.uniform(train_key, shape=(1,),minval=0.1, maxval=5.0)\n",
        "    w = random.uniform(train_key, shape=(1,),minval=0.0, maxval=jnp.pi)\n",
        "\n",
        "    train = random.uniform(train_key,shape=(nr_train,),minval=-5.0, maxval=5.0)\n",
        "    train_labels = jnp.concatenate(list(map(lambda x: A*jnp.sin(x+w), train)))\n",
        "\n",
        "    test = random.uniform(test_key,shape=(nr_test,),minval=-5.0, maxval=5.0).sort()\n",
        "    test_labels = jnp.concatenate(list(map(lambda x: A*jnp.sin(x+w), test)))\n",
        "\n",
        "    return train, train_labels, test, test_labels\n"
      ],
      "metadata": {
        "id": "8ZDIqXqekZUz"
      },
      "execution_count": 15,
      "outputs": []
    },
    {
      "cell_type": "code",
      "source": [
        "def disp_meta_test(expl_model, model, nr_test_train, nr_test, train_key, \n",
        "                   test_key, task_update_step, batch_loss, title=''):\n",
        "    # Load the dataset\n",
        "    K, Kprime = nr_test_train, nr_test\n",
        "    number_of_points = (K, Kprime)  # (number of training points, number of testing points)\n",
        "\n",
        "    train_test, train_test_labels, test, test_labels = load_batch_of_tasks(nr_test_train, nr_test, train_key, test_key)\n",
        "\n",
        "    preds_initial = eqx.filter_vmap(expl_model)(jnp.expand_dims(test,1))\n",
        "\n",
        "    plt.scatter(test, preds_initial, color='blue', label=\"Pre initalization\")\n",
        "    plt.scatter(test, test_labels, color='red')\n",
        "\n",
        "    test_model = task_update_step(model, train_test, train_test_labels, batch_loss)\n",
        "\n",
        "    preds_shot = eqx.filter_vmap(test_model)(jnp.expand_dims(test,1))\n",
        "    plt.scatter(test, preds_shot, label=\"K-shot learning\")\n",
        "    plt.scatter(train_test, train_test_labels, color='black')\n",
        "    plt.legend()\n",
        "    plt.title(title)\n",
        "    plt.show()"
      ],
      "metadata": {
        "id": "d4eMZAc60XnO"
      },
      "execution_count": 16,
      "outputs": []
    },
    {
      "cell_type": "code",
      "source": [
        "epochs = 60000\n",
        "nr_train = 20\n",
        "nr_test = 10\n",
        "meta_batch_size = 4\n",
        "test_keys = random.split(TEST_KEY, epochs)\n",
        "train_keys = random.split(TRAIN_KEY+213, epochs)"
      ],
      "metadata": {
        "id": "sOt92ZiDwgnE"
      },
      "execution_count": 17,
      "outputs": []
    },
    {
      "cell_type": "code",
      "source": [
        "# META SGD\n",
        "\n",
        "model = eqx.nn.MLP(1,1,40,2,key=MODEL_KEY)\n",
        "alpha = copy.deepcopy(eqx.filter(model,eqx.is_array))\n",
        "init_const = 0.05  # should be between 0.005 and 0.1\n",
        "alpha = tree_map(lambda x: init_const*jnp.ones(shape=x.shape), alpha)\n",
        "beta = 0.0001  # outer loop LR, constant\n",
        "outer_optim = sgd(beta)\n",
        "outer_opt_state = outer_optim.init(eqx.filter(model, eqx.is_array))  \n",
        "\n",
        "dynamic_model, static_model = eqx.partition(model, eqx.is_array)\n",
        "\n",
        "@scan_tqdm(epochs)\n",
        "def scan_fun(carry,i):\n",
        "    dynamic_model, alpha, outer_opt_state = carry\n",
        "    train_keys_batch, test_keys_batch = random.split(train_keys[i], meta_batch_size),  random.split(test_keys[i], meta_batch_size)\n",
        "    batch_of_tasks = eqx.filter_vmap(load_batch_of_tasks, in_axes=(None, None, 0, 0))(nr_train,nr_test, train_keys_batch, test_keys_batch)\n",
        "    loss, (model, alpha), outer_opt_state = outer_step_METASGD((eqx.combine(dynamic_model,static_model), alpha), batch_loss, outer_optim, outer_opt_state,\n",
        "                                                    inner_step_METASGD, batch_of_tasks)\n",
        "    return (eqx.partition(model, eqx.is_array)[0], alpha, outer_opt_state), loss\n",
        "\n",
        "carry = (dynamic_model, alpha, outer_opt_state)\n",
        "(dynamic_model, alpha, outer_opt_state), losses = lax.scan(scan_fun,carry,jnp.arange(epochs))\n",
        "\n",
        "model = eqx.combine(dynamic_model,static_model)"
      ],
      "metadata": {
        "colab": {
          "base_uri": "https://localhost:8080/",
          "height": 49,
          "referenced_widgets": [
            "3df79da2793c466180662a46c024a156",
            "30510d0121d24e9184cea9e8a23be3ed",
            "f95636b8df864471a7defb0e9bc7da18",
            "bcd810a25bd04d10950886eaa5c9959e",
            "a7444a9b30cb44068efa17dbcb433ddf",
            "744ab88f397045aebc0ad794dc0e77d3",
            "02d41fc6fb01423aaf4d86cec5f6e694",
            "f7c368c98e2f449cb2e7f5513e0e58f1",
            "413fa2118e5b4d4e93f0e97f9d5b2110",
            "bc037474312f4c66a0d64e59aaffc70b",
            "54dc941db0e7484994af6a6d706855d8"
          ]
        },
        "id": "HMph1bpQoE2G",
        "outputId": "f7fc4e99-e2c6-455c-f789-884d437d5420"
      },
      "execution_count": 18,
      "outputs": [
        {
          "output_type": "display_data",
          "data": {
            "text/plain": [
              "  0%|          | 0/60000 [00:00<?, ?it/s]"
            ],
            "application/vnd.jupyter.widget-view+json": {
              "version_major": 2,
              "version_minor": 0,
              "model_id": "3df79da2793c466180662a46c024a156"
            }
          },
          "metadata": {}
        }
      ]
    },
    {
      "cell_type": "code",
      "source": [
        "disp_meta_test(model,(model, alpha), nr_train, 100, TRAIN_KEY+201, TEST_KEY+201, inner_step_METASGD, batch_loss, title=\"META-SGD\")"
      ],
      "metadata": {
        "colab": {
          "base_uri": "https://localhost:8080/",
          "height": 452
        },
        "id": "Zwf2KhhOw9cn",
        "outputId": "f45e03d7-d390-48ae-8e82-315d46006066"
      },
      "execution_count": 19,
      "outputs": [
        {
          "output_type": "display_data",
          "data": {
            "text/plain": [
              "<Figure size 640x480 with 1 Axes>"
            ],
            "image/png": "[encoded data removed]"
          },
          "metadata": {}
        }
      ]
    },
    {
      "cell_type": "code",
      "source": [
        "# MAML\n",
        "\n",
        "model = eqx.nn.MLP(1,1,40,2,key=MODEL_KEY)\n",
        "outer_optim = adam(1e-3, eps=1e-04)\n",
        "outer_opt_state = outer_optim.init(eqx.filter(model, eqx.is_array))  \n",
        "\n",
        "dynamic_model, static_model = eqx.partition(model, eqx.is_array)\n",
        "\n",
        "@scan_tqdm(epochs)\n",
        "def scan_fun(carry,i):\n",
        "    dynamic_model, outer_opt_state = carry\n",
        "    train_keys_batch, test_keys_batch = random.split(train_keys[i], meta_batch_size),  random.split(test_keys[i], meta_batch_size)\n",
        "    batch_of_tasks = eqx.filter_vmap(load_batch_of_tasks, in_axes=(None, None, 0, 0))(nr_train,nr_test, train_keys_batch, test_keys_batch)\n",
        "    loss, model, outer_opt_state = outer_step_MAML(eqx.combine(dynamic_model,static_model), batch_loss, outer_optim, outer_opt_state,\n",
        "                                                    inner_step_MAML, batch_of_tasks)\n",
        "    return (eqx.partition(model, eqx.is_array)[0], outer_opt_state), loss\n",
        "\n",
        "carry = (dynamic_model, outer_opt_state)\n",
        "(dynamic_model, outer_opt_state), losses = lax.scan(scan_fun,carry,jnp.arange(epochs))\n",
        "\n",
        "model = eqx.combine(dynamic_model,static_model)"
      ],
      "metadata": {
        "colab": {
          "base_uri": "https://localhost:8080/",
          "height": 49,
          "referenced_widgets": [
            "aeee59ef59434d99bac510e30519ecee",
            "ae1af7221c474016a2622cdf7ca7ffb7",
            "1270f6ba2f81472c84d10d55a8769dcc",
            "778b002b061a4092af5f87bbac4b37b9",
            "4a1d3800baa242e6a5fde3fac7bfccad",
            "d1692c3396554be9bf844ec9e1b60f0b",
            "4b11ff2fbcde408cbfd793b7b46ae198",
            "de8c96606e464764ab5fef744515a451",
            "1327f1d758054e1a8f1f8b67eacd0211",
            "faa0b68af7bd48e2a4dc754f4cb03be8",
            "85ebdc8534d9417886c8aeb1be8acc54"
          ]
        },
        "id": "E2_PPMDj2J91",
        "outputId": "42ff2350-17c0-4911-b982-8961fa8db144"
      },
      "execution_count": 20,
      "outputs": [
        {
          "output_type": "display_data",
          "data": {
            "text/plain": [
              "  0%|          | 0/60000 [00:00<?, ?it/s]"
            ],
            "application/vnd.jupyter.widget-view+json": {
              "version_major": 2,
              "version_minor": 0,
              "model_id": "aeee59ef59434d99bac510e30519ecee"
            }
          },
          "metadata": {}
        }
      ]
    },
    {
      "cell_type": "code",
      "source": [
        "disp_meta_test(model,model, nr_train, 100, TRAIN_KEY+201, TEST_KEY+201, inner_step_MAML, batch_loss, title=\"MAML\")"
      ],
      "metadata": {
        "colab": {
          "base_uri": "https://localhost:8080/",
          "height": 452
        },
        "id": "JEsmYQ3i_RZd",
        "outputId": "ae5ba222-3e5a-4390-bb0f-5d5e870e5e2a"
      },
      "execution_count": 21,
      "outputs": [
        {
          "output_type": "display_data",
          "data": {
            "text/plain": [
              "<Figure size 640x480 with 1 Axes>"
            ],
            "image/png": "[encoded data removed]"
          },
          "metadata": {}
        }
      ]
    },
    {
      "cell_type": "code",
      "source": [
        "# FOMAML\n",
        "\n",
        "model = eqx.nn.MLP(1,1,40,2,key=MODEL_KEY)\n",
        "outer_optim = adam(1e-3, eps=1e-04)\n",
        "outer_opt_state = outer_optim.init(eqx.filter(model, eqx.is_array))  \n",
        "\n",
        "dynamic_model, static_model = eqx.partition(model, eqx.is_array)\n",
        "\n",
        "@scan_tqdm(epochs)\n",
        "def scan_fun(carry,i):\n",
        "    dynamic_model, outer_opt_state = carry\n",
        "    train_keys_batch, test_keys_batch = random.split(train_keys[i], meta_batch_size),  random.split(test_keys[i], meta_batch_size)\n",
        "    batch_of_tasks = eqx.filter_vmap(load_batch_of_tasks, in_axes=(None, None, 0, 0))(nr_train,nr_test, train_keys_batch, test_keys_batch)\n",
        "    loss, model, outer_opt_state = outer_step_FOMAML(eqx.combine(dynamic_model,static_model), batch_loss, outer_optim, outer_opt_state,\n",
        "                                                    inner_step_FOMAML, batch_of_tasks)\n",
        "    return (eqx.partition(model, eqx.is_array)[0], outer_opt_state), loss\n",
        "\n",
        "carry = (dynamic_model, outer_opt_state)\n",
        "(dynamic_model, outer_opt_state), losses = lax.scan(scan_fun,carry,jnp.arange(epochs))\n",
        "\n",
        "model = eqx.combine(dynamic_model,static_model)"
      ],
      "metadata": {
        "colab": {
          "base_uri": "https://localhost:8080/",
          "height": 49,
          "referenced_widgets": [
            "6cffffd9828643f4a2ce57459d3bd3ea",
            "d1c5094865984a479827223fd2e961bc",
            "557b8443de204d98b3d5c49a8d4ff23a",
            "ba13a1fa120d436796a71eb46fb60582",
            "d5bebffa980847859818936a8bf7a49f",
            "f3688969083a4c3aa39a784900e04bff",
            "4b4a32d8f1c54ca49e68008eb700d7d8",
            "962c311296e64cff9b60001cc4542607",
            "82c4736e85af4a6cba7e0f024aea9ca5",
            "65ff2bb0e3ea4a258ce25cc655585653",
            "f657c81b8b814985a90f9f3344d07248"
          ]
        },
        "id": "d4hlYxw3_YUb",
        "outputId": "fc839808-6499-40a7-f686-de56564a6be2"
      },
      "execution_count": 22,
      "outputs": [
        {
          "output_type": "display_data",
          "data": {
            "text/plain": [
              "  0%|          | 0/60000 [00:00<?, ?it/s]"
            ],
            "application/vnd.jupyter.widget-view+json": {
              "version_major": 2,
              "version_minor": 0,
              "model_id": "6cffffd9828643f4a2ce57459d3bd3ea"
            }
          },
          "metadata": {}
        }
      ]
    },
    {
      "cell_type": "code",
      "source": [
        "disp_meta_test(model,model, nr_train, 100, TRAIN_KEY+201, TEST_KEY+201, inner_step_FOMAML, batch_loss, title=\"FOMAML\")"
      ],
      "metadata": {
        "colab": {
          "base_uri": "https://localhost:8080/",
          "height": 452
        },
        "id": "5os1lfsbCNrc",
        "outputId": "a16b06f9-c5ec-4f36-b524-f35af6113425"
      },
      "execution_count": 23,
      "outputs": [
        {
          "output_type": "display_data",
          "data": {
            "text/plain": [
              "<Figure size 640x480 with 1 Axes>"
            ],
            "image/png": "[encoded data removed]"
          },
          "metadata": {}
        }
      ]
    },
    {
      "cell_type": "code",
      "source": [
        "# REPTILE\n",
        "epochs = 6000\n",
        "\n",
        "model = eqx.nn.MLP(1,1,64,2,key=MODEL_KEY)\n",
        "outer_optim = None\n",
        "outer_opt_state = None\n",
        "\n",
        "dynamic_model, static_model = eqx.partition(model, eqx.is_array)\n",
        "\n",
        "@scan_tqdm(epochs)\n",
        "def scan_fun(carry,i):\n",
        "    dynamic_model, outer_opt_state = carry\n",
        "    train_keys_batch, test_keys_batch = random.split(train_keys[i], meta_batch_size),  random.split(test_keys[i], meta_batch_size)\n",
        "    batch_of_tasks = eqx.filter_vmap(load_batch_of_tasks, in_axes=(None, None, 0, 0))(nr_train,nr_test, train_keys_batch, test_keys_batch)\n",
        "    loss, model, outer_opt_state = outer_step_REPTILE(eqx.combine(dynamic_model,static_model), batch_loss, outer_optim, outer_opt_state,\n",
        "                                                    inner_step_REPTILE, batch_of_tasks)\n",
        "    return (eqx.partition(model, eqx.is_array)[0], outer_opt_state), loss\n",
        "\n",
        "carry = (dynamic_model, outer_opt_state)\n",
        "(dynamic_model, outer_opt_state), losses = lax.scan(scan_fun,carry,jnp.arange(epochs))\n",
        "\n",
        "model = eqx.combine(dynamic_model,static_model)"
      ],
      "metadata": {
        "colab": {
          "base_uri": "https://localhost:8080/",
          "height": 49,
          "referenced_widgets": [
            "45005ef41470438ba624c2f7ebe63f80",
            "133752a2d73b499b8a32e7543159f128",
            "5986034335894cf0837853f2bd674f9d",
            "1c5c8d6a96c94673a37d763ffeb10469",
            "85c84e1911e74e3f9783f535ff81c058",
            "ccee70716f864a9b84752c8f48106c84",
            "1178cc975fc54f9e83849cd4341812df",
            "aaa6703383aa43cb80d49d16f4e7792d",
            "779d587aca20448b9efbd0c0e9558657",
            "686de45e3583406cbb1f894b2b8cf487",
            "8da249eeadca42dd8df84ab295c6bbba"
          ]
        },
        "id": "DtGI0vZ7Cw-W",
        "outputId": "25747a6b-5de5-4c38-bbec-4cd868676ca9"
      },
      "execution_count": 24,
      "outputs": [
        {
          "output_type": "display_data",
          "data": {
            "text/plain": [
              "  0%|          | 0/6000 [00:00<?, ?it/s]"
            ],
            "application/vnd.jupyter.widget-view+json": {
              "version_major": 2,
              "version_minor": 0,
              "model_id": "45005ef41470438ba624c2f7ebe63f80"
            }
          },
          "metadata": {}
        }
      ]
    },
    {
      "cell_type": "code",
      "source": [
        "disp_meta_test(model,model, nr_train, 100, TRAIN_KEY+201, TEST_KEY+201, inner_step_REPTILE, batch_loss, title=\"REPTILE\")"
      ],
      "metadata": {
        "colab": {
          "base_uri": "https://localhost:8080/",
          "height": 452
        },
        "id": "VmTtuZN_Fdk2",
        "outputId": "77d4a338-e4ae-4d79-b680-e2ba18cd60e1"
      },
      "execution_count": 25,
      "outputs": [
        {
          "output_type": "display_data",
          "data": {
            "text/plain": [
              "<Figure size 640x480 with 1 Axes>"
            ],
            "image/png": "[encoded data removed]"
          },
          "metadata": {}
        }
      ]
    },
    {
      "cell_type": "code",
      "source": [],
      "metadata": {
        "id": "cQ6W4jDYF8_m"
      },
      "execution_count": 25,
      "outputs": []
    }
  ]
}