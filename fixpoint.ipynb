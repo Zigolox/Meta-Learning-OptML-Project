{
 "cells": [
  {
   "cell_type": "code",
   "execution_count": 1,
   "metadata": {
    "colab": {
     "base_uri": "https://localhost:8080/"
    },
    "id": "ukvIOC7785yI",
    "outputId": "c50dd66c-c3f2-49b2-f2f4-dea598df989b",
    "tags": []
   },
   "outputs": [],
   "source": [
    "#!git clone https://github.com/zigolox/importance-weighted-autoencoders.git\n",
    "#%cd \"importance-weighted-autoencoders/\""
   ]
  },
  {
   "cell_type": "code",
   "execution_count": 2,
   "metadata": {
    "colab": {
     "base_uri": "https://localhost:8080/"
    },
    "id": "8iauXw5b85yO",
    "outputId": "594583f2-a8ba-478d-f18f-66897774a2b8",
    "tags": []
   },
   "outputs": [],
   "source": [
    "#%%capture\n",
    "#!pip install --upgrade einops optax"
   ]
  },
  {
   "cell_type": "code",
   "execution_count": 3,
   "metadata": {
    "id": "NUL-Ypqa85yW",
    "tags": []
   },
   "outputs": [
    {
     "name": "stderr",
     "output_type": "stream",
     "text": [
      "No GPU/TPU found, falling back to CPU. (Set TF_CPP_MIN_LOG_LEVEL=0 and rerun for more info.)\n"
     ]
    }
   ],
   "source": [
    "from jax import numpy as jnp\n",
    "from jax import random, value_and_grad, lax\n",
    "from optax import adam, apply_updates, chain, clip\n",
    "from einops import rearrange, reduce, repeat\n",
    "from functools import partial\n",
    "from tqdm.notebook import tqdm\n",
    "import equinox as eqx\n",
    "from loss import iwae_loss\n",
    "import tensorflow_datasets as tfds\n",
    "import tensorflow as tf\n",
    "from jax.random import split, normal, randint\n",
    "from jax import lax, vmap, checkpoint\n",
    "from distrax import Normal, Bernoulli\n",
    "from jax.nn import gelu, sigmoid\n",
    "from jax import disable_jit\n",
    "from jaxopt import FixedPointIteration\n",
    "\n",
    "\n",
    "\n",
    "# Typing \n",
    "from jax import Array\n",
    "from typing import Optional, Sequence, Tuple, Any\n",
    "from jax.random import PRNGKeyArray\n",
    "\n",
    "SEED = 0\n",
    "MODEL_KEY = random.PRNGKey(SEED)"
   ]
  },
  {
   "cell_type": "code",
   "execution_count": 4,
   "metadata": {},
   "outputs": [],
   "source": [
    "def normalize_img(image):\n",
    "    \"\"\"Normalizes images: `uint8` -> `float32`.\"\"\"\n",
    "    x = rearrange(image[\"image\"], \"h w c -> c h w\")\n",
    "    return x\n",
    "\n",
    "# Load the dataset\n",
    "#train, test = tfds.load(\"binarized_mnist\", split=[\"train+validation\",\"test\"], data_dir=\"data\", shuffle_files=True, as_supervised=False)\n",
    "train = tfds.load(\"binarized_mnist\", split=\"train\", data_dir=\"data\", shuffle_files=True, as_supervised=False)\n",
    "train = train.map(normalize_img, num_parallel_calls=tf.data.AUTOTUNE)\n",
    "train = jnp.array([*train.as_numpy_iterator()],dtype=jnp.float32)"
   ]
  },
  {
   "cell_type": "code",
   "execution_count": 5,
   "metadata": {},
   "outputs": [],
   "source": [
    "def batch_loss(model, x: Array, T: int, key: PRNGKeyArray) -> Array:\n",
    "    '''Compute the VAE loss.'''\n",
    "\n",
    "    def loss(x: Array, key: PRNGKeyArray):\n",
    "\n",
    "        x_rec, x_rec_prev = model(seed_image, T, key=key)\n",
    "        \n",
    "        log = reduce(Bernoulli(logits=x_rec[0]).log_prob(x[0]), 'h w -> ', 'sum')\n",
    "        # Make it stationary\n",
    "        #prev_img = reduce(jnp.abs(x_rec[0]-x_rec_prev[0]), 'h w -> ', 'sum')\n",
    "        #prev_latent = reduce(jnp.abs(x_rec[1:]-x_rec_prev[1:]), 'c h w -> c', 'sum').mean()\n",
    "        #print(log)\n",
    "        # Marginalize log likelihood\n",
    "        return log# - (prev_img + prev_latent)\n",
    "\n",
    "    keys = split(key, x.shape[0])\n",
    "    # Mean over the batch\n",
    "    return -vmap(loss)(x, keys).mean()\n",
    "\n",
    "class Conv2dZeroInit(eqx.nn.Conv2d):\n",
    "    def __init__(self, *args, **kwargs):\n",
    "        super().__init__(*args, **kwargs)\n",
    "        self.weight = jnp.zeros_like(self.weight)\n",
    "        self.bias = jnp.zeros_like(self.bias)\n",
    "\n",
    "def fp_step(z,conv_around,conv_linear):\n",
    "    p = conv_around(z)\n",
    "    l = conv_linear(p)\n",
    "    return z + gelu(l)\n",
    "        \n",
    "class ModelStep(eqx.Module):\n",
    "    conv_around: eqx.nn.Conv2d\n",
    "    conv_linear: eqx.nn.Conv2d\n",
    "    max_steps : int\n",
    "    latent_size : int\n",
    "    fpi : FixedPointIteration\n",
    "    \n",
    "    def __init__(self, latent_size: int, max_steps : int, *, key: PRNGKeyArray) -> None:\n",
    "        key, key1 = split(key)\n",
    "        self.conv_around = eqx.nn.Conv2d(latent_size, latent_size, kernel_size=(3, 3), stride=(1, 1), padding=(1, 1), key=key)\n",
    "        self.conv_linear = eqx.nn.Conv2d(latent_size, latent_size, kernel_size=(1, 1), stride=(1, 1), key=key1)\n",
    "        #self.conv_linear = Conv2dZeroInit(latent_size, latent_size, kernel_size=(1, 1), stride=(1, 1), key=key1)\n",
    "        self.max_steps = max_steps\n",
    "        self.latent_size = latent_size\n",
    "        self.fpi = FixedPointIteration(fixed_point_fun=fp_step,maxiter=self.max_steps,implicit_diff=True)\n",
    "        \n",
    "    def __call__(self, x: Array, T: int,*, key: Optional[PRNGKeyArray] = None) -> Array:\n",
    "        z = repeat(x[0],\"h w -> l h w\",l=latent_size)\n",
    "        #z_all = self.fixpoint_solver(z, T)\n",
    "        z_all = self.fpi.run(z,self.conv_around,self.conv_linear).params\n",
    "        return z_all[:1,...],z_all[:1,...]\n",
    "        \n",
    "    def fixpoint_solver(self, z: Array, T: Array) -> Array:\n",
    "        # Apply the NCA steps\n",
    "        true_fun = lambda z: self.step(z)\n",
    "        false_fun = lambda z: z\n",
    "\n",
    "        #@checkpoint\n",
    "        def scan_fn(z: Array, t: int) -> Tuple[Array, Any]:\n",
    "            z = lax.cond(t, true_fun, false_fun, z)\n",
    "            return z, z\n",
    "\n",
    "        z, z_all = lax.scan(scan_fn, z, (jnp.arange(self.max_steps) <= T))\n",
    "\n",
    "        return z_all\n",
    "    "
   ]
  },
  {
   "cell_type": "code",
   "execution_count": 6,
   "metadata": {},
   "outputs": [
    {
     "data": {
      "image/png": "[encoded data removed]",
      "text/plain": [
       "<Figure size 432x288 with 1 Axes>"
      ]
     },
     "metadata": {
      "needs_background": "light"
     },
     "output_type": "display_data"
    }
   ],
   "source": [
    "import matplotlib.pyplot as plt\n",
    "# Choose simple image to predict\n",
    "train_image = train[11:12]\n",
    "plt.imshow(train_image[0][0])\n",
    "plt.show()"
   ]
  },
  {
   "cell_type": "code",
   "execution_count": 7,
   "metadata": {
    "id": "S3VuD9z285yX",
    "tags": []
   },
   "outputs": [],
   "source": [
    "epochs = 6\n",
    "batch_size = 5\n",
    "latent_size= 5\n",
    "min_steps = 10\n",
    "max_steps = 100\n",
    "\n",
    "# Initialize the model\n",
    "model = ModelStep(key=MODEL_KEY,latent_size=latent_size,max_steps=max_steps)\n",
    "\n",
    "seed_image = jnp.zeros_like(train_image[0])\n",
    "seed_image = seed_image.at[0,13:15,13:15].set(1)\n",
    "\n",
    "#seed_image = train_image[0] + 0.1*normal(MODEL_KEY,train_image[0].shape)\n",
    "\n",
    "# Initialize the optimizer\n",
    "optim = chain(\n",
    "  clip(1.0),\n",
    "  adam(3e-4, eps=1e-04),\n",
    ")\n",
    "\n",
    "\n",
    "opt_state = optim.init(eqx.filter(model, eqx.is_array))\n",
    "\n",
    "# Training step function\n",
    "def step(model, opt_state, x, key):\n",
    "    T = randint(key,shape=(1,),minval=min_steps,maxval=max_steps)\n",
    "    loss, grad = eqx.filter_value_and_grad(batch_loss)(model, x, T, key=key)\n",
    "    updates, opt_state = optim.update(grad, opt_state, model)\n",
    "    model = eqx.apply_updates(model, updates)\n",
    "    return model, opt_state, loss"
   ]
  },
  {
   "cell_type": "code",
   "execution_count": 8,
   "metadata": {
    "colab": {
     "base_uri": "https://localhost:8080/",
     "height": 49,
     "referenced_widgets": [
      "d1918a8dd9c24a2d8fbb06030fb2abce",
      "4c15a7c62ff54645bbc5f8df264a7aec",
      "5d4eb24bc3614eba9e28247b5f7d34e0",
      "b9f9637f63684246975a060618db6998",
      "2c496a9de9ec48a0a20ab70302f92729",
      "2665586c9dbf4e6aa1e483b4f5edaa75",
      "345b6de0ae494eef9fb99796d3efe03e",
      "e447b27566be43d3a52eda9de7316b06",
      "efc40a8998584baa87beadfbca93d621",
      "ad6ec6c8c3df4f78a0d42478e1ba02a4",
      "5605995da228410ab35c7035a85ae684"
     ]
    },
    "id": "b4K1O27C85yc",
    "outputId": "e217666f-01a6-4269-e02e-61013c3a084d",
    "tags": []
   },
   "outputs": [
    {
     "data": {
      "application/vnd.jupyter.widget-view+json": {
       "model_id": "d0eda30c4b0a4a708bafdc5271eefded",
       "version_major": 2,
       "version_minor": 0
      },
      "text/plain": [
       "  0%|          | 0/6 [00:00<?, ?it/s]"
      ]
     },
     "metadata": {},
     "output_type": "display_data"
    }
   ],
   "source": [
    "# Progressbar\n",
    "\n",
    "with disable_jit(disable=False):\n",
    "    params, static = eqx.partition(model,eqx.is_array)\n",
    "\n",
    "    # Train the model\n",
    "    pbar = tqdm(random.split(MODEL_KEY,epochs),total=epochs)\n",
    "    for key in pbar:\n",
    "        #train = random.permutation(key,train)\n",
    "        #train_batched = rearrange(train_image,\"(t b) ... -> t b ...\",b=1)\n",
    "        train_batched = repeat(train_image,\"b ... -> t b ...\",t=1)\n",
    "        keys = random.split(MODEL_KEY, len(train_batched))\n",
    "\n",
    "        @eqx.filter_jit\n",
    "        def scan_step(carry,it):\n",
    "            params, opt_state = carry\n",
    "            x, key = it\n",
    "            model = eqx.combine(params,static)\n",
    "            model, opt_state, loss = step(model,opt_state,x,key)\n",
    "            return (eqx.filter(model,eqx.is_array),opt_state), loss\n",
    "\n",
    "        (params,opt_state), loss = lax.scan(scan_step,(params,opt_state),(train_batched,keys))\n",
    "        pbar.set_postfix({'loss': f'{loss.mean():.3}'})\n",
    "    model = eqx.combine(params,static)"
   ]
  },
  {
   "cell_type": "code",
   "execution_count": 280,
   "metadata": {
    "colab": {
     "base_uri": "https://localhost:8080/",
     "height": 284
    },
    "id": "EP1hiM8q_MwV",
    "outputId": "52add2b7-9466-41a0-f016-a956f477d242"
   },
   "outputs": [
    {
     "data": {
      "text/plain": [
       "<matplotlib.image.AxesImage at 0x7fe1fc19a520>"
      ]
     },
     "execution_count": 280,
     "metadata": {},
     "output_type": "execute_result"
    },
    {
     "data": {
      "image/png": "[encoded data removed]",
      "text/plain": [
       "<Figure size 432x288 with 1 Axes>"
      ]
     },
     "metadata": {
      "needs_background": "light"
     },
     "output_type": "display_data"
    }
   ],
   "source": [
    "import matplotlib.pyplot as plt\n",
    "plt.imshow(Bernoulli(logits=model(seed_image,max_steps,key=MODEL_KEY)[0][0]).mean())"
   ]
  },
  {
   "cell_type": "code",
   "execution_count": 61,
   "metadata": {},
   "outputs": [
    {
     "data": {
      "text/plain": [
       "<matplotlib.image.AxesImage at 0x7fe1f2c8b100>"
      ]
     },
     "execution_count": 61,
     "metadata": {},
     "output_type": "execute_result"
    },
    {
     "data": {
      "image/png": "[encoded data removed]",
      "text/plain": [
       "<Figure size 432x288 with 1 Axes>"
      ]
     },
     "metadata": {
      "needs_background": "light"
     },
     "output_type": "display_data"
    }
   ],
   "source": [
    "plt.imshow(Bernoulli(logits=seed_image[0]).mean())"
   ]
  },
  {
   "cell_type": "code",
   "execution_count": 62,
   "metadata": {},
   "outputs": [],
   "source": [
    "def anderson_solver(f, z_init, m=5, lam=1e-4, max_iter=50, tol=1e-5, beta=1.0):\n",
    "    x0 = z_init\n",
    "    x1 = f(x0)\n",
    "    x2 = f(x1)\n",
    "    X = jnp.concatenate([jnp.stack([x0, x1]), jnp.zeros((m - 2, *jnp.shape(x0)))])\n",
    "    F = jnp.concatenate([jnp.stack([x1, x2]), jnp.zeros((m - 2, *jnp.shape(x0)))])\n",
    "\n",
    "    def step(n, k, X, F):\n",
    "        G = F[:n] - X[:n]\n",
    "        GTG = jnp.tensordot(G, G, [list(range(1, G.ndim))] * 2)\n",
    "        H = jnp.block([[jnp.zeros((1, 1)), jnp.ones((1, n))],\n",
    "                       [ jnp.ones((n, 1)), GTG]]) + lam * jnp.eye(n + 1)\n",
    "        alpha = jnp.linalg.solve(H, jnp.zeros(n+1).at[0].set(1))[1:]\n",
    "\n",
    "        xk = beta * jnp.dot(alpha, F[:n]) + (1-beta) * jnp.dot(alpha, X[:n])\n",
    "        X = X.at[k % m].set(xk)\n",
    "        F = F.at[k % m].set(f(xk))\n",
    "        return X, F\n",
    "\n",
    "    # unroll the first m steps\n",
    "    for k in range(2, m):\n",
    "        plt.imshow(X[k-1].reshape(latent_size,28,28)[0])\n",
    "        plt.show()\n",
    "        X, F = step(k, k, X, F)\n",
    "        res = jnp.linalg.norm(F[k] - X[k]) / (1e-5 + jnp.linalg.norm(F[k]))\n",
    "        if res < tol or k + 1 >= max_iter:\n",
    "            return X[k], k\n",
    "\n",
    "    # run the remaining steps in a lax.while_loop\n",
    "    def body_fun(carry):\n",
    "        k, X, F = carry\n",
    "        X, F = step(m, k, X, F)\n",
    "        return k + 1, X, F\n",
    "\n",
    "    def cond_fun(carry):\n",
    "        k, X, F = carry\n",
    "        kmod = (k - 1) % m\n",
    "        res = jnp.linalg.norm(F[kmod] - X[kmod]) / (1e-5 + jnp.linalg.norm(F[kmod]))\n",
    "        return (k < max_iter) & (res >= tol)\n",
    "\n",
    "    k, X, F = lax.while_loop(cond_fun, body_fun, (k + 1, X, F))\n",
    "    return X[(k - 1) % m]"
   ]
  },
  {
   "cell_type": "code",
   "execution_count": 234,
   "metadata": {},
   "outputs": [
    {
     "ename": "AttributeError",
     "evalue": "'ModelStep' object has no attribute 'step'",
     "output_type": "error",
     "traceback": [
      "\u001b[0;31m---------------------------------------------------------------------------\u001b[0m",
      "\u001b[0;31mAttributeError\u001b[0m                            Traceback (most recent call last)",
      "\u001b[0;32m<ipython-input-234-74d35c1fe4d8>\u001b[0m in \u001b[0;36m<module>\u001b[0;34m\u001b[0m\n\u001b[1;32m     11\u001b[0m \u001b[0;31m#a = anderson_solver(flat_model, flat_repeat_seed,max_iter=100,m=30)\u001b[0m\u001b[0;34m\u001b[0m\u001b[0;34m\u001b[0m\u001b[0;34m\u001b[0m\u001b[0m\n\u001b[1;32m     12\u001b[0m \u001b[0;34m\u001b[0m\u001b[0m\n\u001b[0;32m---> 13\u001b[0;31m \u001b[0mforward_solver\u001b[0m\u001b[0;34m(\u001b[0m\u001b[0mflat_model\u001b[0m\u001b[0;34m,\u001b[0m\u001b[0mflat_repeat_seed\u001b[0m\u001b[0;34m)\u001b[0m\u001b[0;34m\u001b[0m\u001b[0;34m\u001b[0m\u001b[0m\n\u001b[0m",
      "\u001b[0;32m<ipython-input-234-74d35c1fe4d8>\u001b[0m in \u001b[0;36mforward_solver\u001b[0;34m(flat_model, x)\u001b[0m\n\u001b[1;32m      1\u001b[0m \u001b[0;32mdef\u001b[0m \u001b[0mforward_solver\u001b[0m\u001b[0;34m(\u001b[0m\u001b[0mflat_model\u001b[0m\u001b[0;34m,\u001b[0m\u001b[0mx\u001b[0m\u001b[0;34m)\u001b[0m\u001b[0;34m:\u001b[0m\u001b[0;34m\u001b[0m\u001b[0;34m\u001b[0m\u001b[0m\n\u001b[1;32m      2\u001b[0m     \u001b[0;32mfor\u001b[0m \u001b[0mi\u001b[0m \u001b[0;32min\u001b[0m \u001b[0mrange\u001b[0m\u001b[0;34m(\u001b[0m\u001b[0;36m70\u001b[0m\u001b[0;34m)\u001b[0m\u001b[0;34m:\u001b[0m\u001b[0;34m\u001b[0m\u001b[0;34m\u001b[0m\u001b[0m\n\u001b[0;32m----> 3\u001b[0;31m         \u001b[0mx\u001b[0m \u001b[0;34m=\u001b[0m \u001b[0mflat_model\u001b[0m\u001b[0;34m(\u001b[0m\u001b[0mx\u001b[0m\u001b[0;34m)\u001b[0m\u001b[0;34m\u001b[0m\u001b[0;34m\u001b[0m\u001b[0m\n\u001b[0m\u001b[1;32m      4\u001b[0m         \u001b[0mprint\u001b[0m\u001b[0;34m(\u001b[0m\u001b[0mi\u001b[0m\u001b[0;34m)\u001b[0m\u001b[0;34m\u001b[0m\u001b[0;34m\u001b[0m\u001b[0m\n\u001b[1;32m      5\u001b[0m         \u001b[0mplt\u001b[0m\u001b[0;34m.\u001b[0m\u001b[0mimshow\u001b[0m\u001b[0;34m(\u001b[0m\u001b[0msigmoid\u001b[0m\u001b[0;34m(\u001b[0m\u001b[0mx\u001b[0m\u001b[0;34m.\u001b[0m\u001b[0mreshape\u001b[0m\u001b[0;34m(\u001b[0m\u001b[0mlatent_size\u001b[0m\u001b[0;34m,\u001b[0m\u001b[0;36m28\u001b[0m\u001b[0;34m,\u001b[0m\u001b[0;36m28\u001b[0m\u001b[0;34m)\u001b[0m\u001b[0;34m[\u001b[0m\u001b[0;36m0\u001b[0m\u001b[0;34m]\u001b[0m\u001b[0;34m)\u001b[0m\u001b[0;34m)\u001b[0m\u001b[0;34m\u001b[0m\u001b[0;34m\u001b[0m\u001b[0m\n",
      "\u001b[0;32m<ipython-input-234-74d35c1fe4d8>\u001b[0m in \u001b[0;36m<lambda>\u001b[0;34m(x)\u001b[0m\n\u001b[1;32m      6\u001b[0m         \u001b[0mplt\u001b[0m\u001b[0;34m.\u001b[0m\u001b[0mshow\u001b[0m\u001b[0;34m(\u001b[0m\u001b[0;34m)\u001b[0m\u001b[0;34m\u001b[0m\u001b[0;34m\u001b[0m\u001b[0m\n\u001b[1;32m      7\u001b[0m \u001b[0;34m\u001b[0m\u001b[0m\n\u001b[0;32m----> 8\u001b[0;31m \u001b[0mflat_model\u001b[0m \u001b[0;34m=\u001b[0m \u001b[0;32mlambda\u001b[0m \u001b[0mx\u001b[0m \u001b[0;34m:\u001b[0m \u001b[0mmodel\u001b[0m\u001b[0;34m.\u001b[0m\u001b[0mstep\u001b[0m\u001b[0;34m(\u001b[0m\u001b[0mx\u001b[0m\u001b[0;34m.\u001b[0m\u001b[0mreshape\u001b[0m\u001b[0;34m(\u001b[0m\u001b[0mlatent_size\u001b[0m\u001b[0;34m,\u001b[0m\u001b[0;36m28\u001b[0m\u001b[0;34m,\u001b[0m\u001b[0;36m28\u001b[0m\u001b[0;34m)\u001b[0m\u001b[0;34m)\u001b[0m\u001b[0;34m.\u001b[0m\u001b[0mreshape\u001b[0m\u001b[0;34m(\u001b[0m\u001b[0;34m-\u001b[0m\u001b[0;36m1\u001b[0m\u001b[0;34m)\u001b[0m\u001b[0;34m\u001b[0m\u001b[0;34m\u001b[0m\u001b[0m\n\u001b[0m\u001b[1;32m      9\u001b[0m \u001b[0;34m\u001b[0m\u001b[0m\n\u001b[1;32m     10\u001b[0m \u001b[0mflat_repeat_seed\u001b[0m \u001b[0;34m=\u001b[0m \u001b[0mrepeat\u001b[0m\u001b[0;34m(\u001b[0m\u001b[0mseed_image\u001b[0m\u001b[0;34m[\u001b[0m\u001b[0;36m0\u001b[0m\u001b[0;34m]\u001b[0m\u001b[0;34m,\u001b[0m\u001b[0;34m\"h w -> (l h w)\"\u001b[0m\u001b[0;34m,\u001b[0m\u001b[0ml\u001b[0m\u001b[0;34m=\u001b[0m\u001b[0mlatent_size\u001b[0m\u001b[0;34m)\u001b[0m\u001b[0;34m\u001b[0m\u001b[0;34m\u001b[0m\u001b[0m\n",
      "\u001b[0;31mAttributeError\u001b[0m: 'ModelStep' object has no attribute 'step'"
     ]
    }
   ],
   "source": [
    "def forward_solver(flat_model,x):\n",
    "    for i in range(70):\n",
    "        x = flat_model(x)\n",
    "        print(i)\n",
    "        plt.imshow(sigmoid(x.reshape(latent_size,28,28)[0]))\n",
    "        plt.show()\n",
    "\n",
    "flat_model = lambda x : model.step(x.reshape(latent_size,28,28)).reshape(-1)    \n",
    "\n",
    "flat_repeat_seed = repeat(seed_image[0],\"h w -> (l h w)\",l=latent_size)\n",
    "#a = anderson_solver(flat_model, flat_repeat_seed,max_iter=100,m=30)\n",
    "\n",
    "forward_solver(flat_model,flat_repeat_seed)"
   ]
  },
  {
   "cell_type": "code",
   "execution_count": null,
   "metadata": {},
   "outputs": [],
   "source": []
  }
 ],
 "metadata": {
  "accelerator": "GPU",
  "colab": {
   "provenance": [],
   "toc_visible": true
  },
  "gpuClass": "standard",
  "kernelspec": {
   "display_name": "Python 3",
   "language": "python",
   "name": "python3"
  },
  "language_info": {
   "codemirror_mode": {
    "name": "ipython",
    "version": 3
   },
   "file_extension": ".py",
   "mimetype": "text/x-python",
   "name": "python",
   "nbconvert_exporter": "python",
   "pygments_lexer": "ipython3",
   "version": "3.8.11"
  },
  "widgets": {
   "application/vnd.jupyter.widget-state+json": {
    "2665586c9dbf4e6aa1e483b4f5edaa75": {
     "model_module": "@jupyter-widgets/base",
     "model_module_version": "1.2.0",
     "model_name": "LayoutModel",
     "state": {
      "_model_module": "@jupyter-widgets/base",
      "_model_module_version": "1.2.0",
      "_model_name": "LayoutModel",
      "_view_count": null,
      "_view_module": "@jupyter-widgets/base",
      "_view_module_version": "1.2.0",
      "_view_name": "LayoutView",
      "align_content": null,
      "align_items": null,
      "align_self": null,
      "border": null,
      "bottom": null,
      "display": null,
      "flex": null,
      "flex_flow": null,
      "grid_area": null,
      "grid_auto_columns": null,
      "grid_auto_flow": null,
      "grid_auto_rows": null,
      "grid_column": null,
      "grid_gap": null,
      "grid_row": null,
      "grid_template_areas": null,
      "grid_template_columns": null,
      "grid_template_rows": null,
      "height": null,
      "justify_content": null,
      "justify_items": null,
      "left": null,
      "margin": null,
      "max_height": null,
      "max_width": null,
      "min_height": null,
      "min_width": null,
      "object_fit": null,
      "object_position": null,
      "order": null,
      "overflow": null,
      "overflow_x": null,
      "overflow_y": null,
      "padding": null,
      "right": null,
      "top": null,
      "visibility": null,
      "width": null
     }
    },
    "2c496a9de9ec48a0a20ab70302f92729": {
     "model_module": "@jupyter-widgets/base",
     "model_module_version": "1.2.0",
     "model_name": "LayoutModel",
     "state": {
      "_model_module": "@jupyter-widgets/base",
      "_model_module_version": "1.2.0",
      "_model_name": "LayoutModel",
      "_view_count": null,
      "_view_module": "@jupyter-widgets/base",
      "_view_module_version": "1.2.0",
      "_view_name": "LayoutView",
      "align_content": null,
      "align_items": null,
      "align_self": null,
      "border": null,
      "bottom": null,
      "display": null,
      "flex": null,
      "flex_flow": null,
      "grid_area": null,
      "grid_auto_columns": null,
      "grid_auto_flow": null,
      "grid_auto_rows": null,
      "grid_column": null,
      "grid_gap": null,
      "grid_row": null,
      "grid_template_areas": null,
      "grid_template_columns": null,
      "grid_template_rows": null,
      "height": null,
      "justify_content": null,
      "justify_items": null,
      "left": null,
      "margin": null,
      "max_height": null,
      "max_width": null,
      "min_height": null,
      "min_width": null,
      "object_fit": null,
      "object_position": null,
      "order": null,
      "overflow": null,
      "overflow_x": null,
      "overflow_y": null,
      "padding": null,
      "right": null,
      "top": null,
      "visibility": null,
      "width": null
     }
    },
    "345b6de0ae494eef9fb99796d3efe03e": {
     "model_module": "@jupyter-widgets/controls",
     "model_module_version": "1.5.0",
     "model_name": "DescriptionStyleModel",
     "state": {
      "_model_module": "@jupyter-widgets/controls",
      "_model_module_version": "1.5.0",
      "_model_name": "DescriptionStyleModel",
      "_view_count": null,
      "_view_module": "@jupyter-widgets/base",
      "_view_module_version": "1.2.0",
      "_view_name": "StyleView",
      "description_width": ""
     }
    },
    "4c15a7c62ff54645bbc5f8df264a7aec": {
     "model_module": "@jupyter-widgets/controls",
     "model_module_version": "1.5.0",
     "model_name": "HTMLModel",
     "state": {
      "_dom_classes": [],
      "_model_module": "@jupyter-widgets/controls",
      "_model_module_version": "1.5.0",
      "_model_name": "HTMLModel",
      "_view_count": null,
      "_view_module": "@jupyter-widgets/controls",
      "_view_module_version": "1.5.0",
      "_view_name": "HTMLView",
      "description": "",
      "description_tooltip": null,
      "layout": "IPY_MODEL_2665586c9dbf4e6aa1e483b4f5edaa75",
      "placeholder": "​",
      "style": "IPY_MODEL_345b6de0ae494eef9fb99796d3efe03e",
      "value": "  0%"
     }
    },
    "5605995da228410ab35c7035a85ae684": {
     "model_module": "@jupyter-widgets/controls",
     "model_module_version": "1.5.0",
     "model_name": "DescriptionStyleModel",
     "state": {
      "_model_module": "@jupyter-widgets/controls",
      "_model_module_version": "1.5.0",
      "_model_name": "DescriptionStyleModel",
      "_view_count": null,
      "_view_module": "@jupyter-widgets/base",
      "_view_module_version": "1.2.0",
      "_view_name": "StyleView",
      "description_width": ""
     }
    },
    "5d4eb24bc3614eba9e28247b5f7d34e0": {
     "model_module": "@jupyter-widgets/controls",
     "model_module_version": "1.5.0",
     "model_name": "FloatProgressModel",
     "state": {
      "_dom_classes": [],
      "_model_module": "@jupyter-widgets/controls",
      "_model_module_version": "1.5.0",
      "_model_name": "FloatProgressModel",
      "_view_count": null,
      "_view_module": "@jupyter-widgets/controls",
      "_view_module_version": "1.5.0",
      "_view_name": "ProgressView",
      "bar_style": "",
      "description": "",
      "description_tooltip": null,
      "layout": "IPY_MODEL_e447b27566be43d3a52eda9de7316b06",
      "max": 20,
      "min": 0,
      "orientation": "horizontal",
      "style": "IPY_MODEL_efc40a8998584baa87beadfbca93d621",
      "value": 0
     }
    },
    "ad6ec6c8c3df4f78a0d42478e1ba02a4": {
     "model_module": "@jupyter-widgets/base",
     "model_module_version": "1.2.0",
     "model_name": "LayoutModel",
     "state": {
      "_model_module": "@jupyter-widgets/base",
      "_model_module_version": "1.2.0",
      "_model_name": "LayoutModel",
      "_view_count": null,
      "_view_module": "@jupyter-widgets/base",
      "_view_module_version": "1.2.0",
      "_view_name": "LayoutView",
      "align_content": null,
      "align_items": null,
      "align_self": null,
      "border": null,
      "bottom": null,
      "display": null,
      "flex": null,
      "flex_flow": null,
      "grid_area": null,
      "grid_auto_columns": null,
      "grid_auto_flow": null,
      "grid_auto_rows": null,
      "grid_column": null,
      "grid_gap": null,
      "grid_row": null,
      "grid_template_areas": null,
      "grid_template_columns": null,
      "grid_template_rows": null,
      "height": null,
      "justify_content": null,
      "justify_items": null,
      "left": null,
      "margin": null,
      "max_height": null,
      "max_width": null,
      "min_height": null,
      "min_width": null,
      "object_fit": null,
      "object_position": null,
      "order": null,
      "overflow": null,
      "overflow_x": null,
      "overflow_y": null,
      "padding": null,
      "right": null,
      "top": null,
      "visibility": null,
      "width": null
     }
    },
    "b9f9637f63684246975a060618db6998": {
     "model_module": "@jupyter-widgets/controls",
     "model_module_version": "1.5.0",
     "model_name": "HTMLModel",
     "state": {
      "_dom_classes": [],
      "_model_module": "@jupyter-widgets/controls",
      "_model_module_version": "1.5.0",
      "_model_name": "HTMLModel",
      "_view_count": null,
      "_view_module": "@jupyter-widgets/controls",
      "_view_module_version": "1.5.0",
      "_view_name": "HTMLView",
      "description": "",
      "description_tooltip": null,
      "layout": "IPY_MODEL_ad6ec6c8c3df4f78a0d42478e1ba02a4",
      "placeholder": "​",
      "style": "IPY_MODEL_5605995da228410ab35c7035a85ae684",
      "value": " 0/20 [00:00&lt;?, ?it/s]"
     }
    },
    "d1918a8dd9c24a2d8fbb06030fb2abce": {
     "model_module": "@jupyter-widgets/controls",
     "model_module_version": "1.5.0",
     "model_name": "HBoxModel",
     "state": {
      "_dom_classes": [],
      "_model_module": "@jupyter-widgets/controls",
      "_model_module_version": "1.5.0",
      "_model_name": "HBoxModel",
      "_view_count": null,
      "_view_module": "@jupyter-widgets/controls",
      "_view_module_version": "1.5.0",
      "_view_name": "HBoxView",
      "box_style": "",
      "children": [
       "IPY_MODEL_4c15a7c62ff54645bbc5f8df264a7aec",
       "IPY_MODEL_5d4eb24bc3614eba9e28247b5f7d34e0",
       "IPY_MODEL_b9f9637f63684246975a060618db6998"
      ],
      "layout": "IPY_MODEL_2c496a9de9ec48a0a20ab70302f92729"
     }
    },
    "e447b27566be43d3a52eda9de7316b06": {
     "model_module": "@jupyter-widgets/base",
     "model_module_version": "1.2.0",
     "model_name": "LayoutModel",
     "state": {
      "_model_module": "@jupyter-widgets/base",
      "_model_module_version": "1.2.0",
      "_model_name": "LayoutModel",
      "_view_count": null,
      "_view_module": "@jupyter-widgets/base",
      "_view_module_version": "1.2.0",
      "_view_name": "LayoutView",
      "align_content": null,
      "align_items": null,
      "align_self": null,
      "border": null,
      "bottom": null,
      "display": null,
      "flex": null,
      "flex_flow": null,
      "grid_area": null,
      "grid_auto_columns": null,
      "grid_auto_flow": null,
      "grid_auto_rows": null,
      "grid_column": null,
      "grid_gap": null,
      "grid_row": null,
      "grid_template_areas": null,
      "grid_template_columns": null,
      "grid_template_rows": null,
      "height": null,
      "justify_content": null,
      "justify_items": null,
      "left": null,
      "margin": null,
      "max_height": null,
      "max_width": null,
      "min_height": null,
      "min_width": null,
      "object_fit": null,
      "object_position": null,
      "order": null,
      "overflow": null,
      "overflow_x": null,
      "overflow_y": null,
      "padding": null,
      "right": null,
      "top": null,
      "visibility": null,
      "width": null
     }
    },
    "efc40a8998584baa87beadfbca93d621": {
     "model_module": "@jupyter-widgets/controls",
     "model_module_version": "1.5.0",
     "model_name": "ProgressStyleModel",
     "state": {
      "_model_module": "@jupyter-widgets/controls",
      "_model_module_version": "1.5.0",
      "_model_name": "ProgressStyleModel",
      "_view_count": null,
      "_view_module": "@jupyter-widgets/base",
      "_view_module_version": "1.2.0",
      "_view_name": "StyleView",
      "bar_color": null,
      "description_width": ""
     }
    }
   }
  }
 },
 "nbformat": 4,
 "nbformat_minor": 4
}
